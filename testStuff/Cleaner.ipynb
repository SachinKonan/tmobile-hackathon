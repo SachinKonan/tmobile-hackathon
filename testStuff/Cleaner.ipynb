{
 "cells": [
  {
   "cell_type": "code",
   "execution_count": 1,
   "metadata": {
    "collapsed": true
   },
   "outputs": [],
   "source": [
    "import os\n",
    "import nltk\n",
    "from nltk import FreqDist\n",
    "import pandas as pd\n",
    "import matplotlib.pyplot as plt\n",
    "import re\n",
    "import requests\n",
    "from pprint import pprint\n",
    "import matplotlib.pyplot as plt\n",
    "import seaborn as sns\n",
    "%matplotlib inline"
   ]
  },
  {
   "cell_type": "code",
   "execution_count": 2,
   "metadata": {
    "collapsed": true
   },
   "outputs": [],
   "source": [
    "df = pd.read_json('data.json')"
   ]
  },
  {
   "cell_type": "code",
   "execution_count": 3,
   "metadata": {},
   "outputs": [
    {
     "data": {
      "text/plain": [
       "0         t-mobile-atlanta-13\n",
       "1          t-mobile-atlanta-3\n",
       "2         t-mobile-atlanta-39\n",
       "3            t-mobile-austell\n",
       "4          t-mobile-lilburn-2\n",
       "5         t-mobile-atlanta-30\n",
       "6         t-mobile-atlanta-23\n",
       "7         t-mobile-atlanta-46\n",
       "8     t-mobile-lithia-springs\n",
       "9          t-mobile-atlanta-7\n",
       "10        t-mobile-east-point\n",
       "11        t-mobile-atlanta-35\n",
       "12        t-mobile-atlanta-28\n",
       "13      t-mobile-alpharetta-7\n",
       "14        t-mobile-atlanta-43\n",
       "Name: name, dtype: object"
      ]
     },
     "execution_count": 3,
     "metadata": {},
     "output_type": "execute_result"
    }
   ],
   "source": [
    "df['name']"
   ]
  },
  {
   "cell_type": "code",
   "execution_count": 5,
   "metadata": {},
   "outputs": [
    {
     "data": {
      "text/plain": [
       "5    [[I had a great experience switching from AT&T...\n",
       "Name: reviews, dtype: object"
      ]
     },
     "execution_count": 5,
     "metadata": {},
     "output_type": "execute_result"
    }
   ],
   "source": [
    "df.loc[df['name'] == 't-mobile-atlanta-30']['reviews']"
   ]
  },
  {
   "cell_type": "code",
   "execution_count": 6,
   "metadata": {},
   "outputs": [],
   "source": [
    "subscription_key = 'c1005ffa18cc42ddbf916d2483bb2dd2'\n",
    "assert subscription_key\n",
    "text_analytics_base_url = \"https://westcentralus.api.cognitive.microsoft.com/text/analytics/v2.0/\""
   ]
  },
  {
   "cell_type": "code",
   "execution_count": 7,
   "metadata": {
    "collapsed": true
   },
   "outputs": [],
   "source": [
    "def freq_words(x, terms = 30):\n",
    "  all_words = ' '.join([text for text in x])\n",
    "  all_words = all_words.split()\n",
    "  \n",
    "  fdist = FreqDist(all_words)\n",
    "  words_df = pd.DataFrame({'word':list(fdist.keys()), 'count':list(fdist.values())})\n",
    "  \n",
    "  # selecting top 20 most frequent words\n",
    "  d = words_df.nlargest(columns=\"count\", n = terms) \n",
    "  plt.figure(figsize=(20,5))\n",
    "  ax = sns.barplot(data=d, x= \"word\", y = \"count\")\n",
    "  ax.set(ylabel = 'Count')\n",
    "  plt.show()"
   ]
  },
  {
   "cell_type": "code",
   "execution_count": 8,
   "metadata": {},
   "outputs": [
    {
     "ename": "NameError",
     "evalue": "name 'raw_revs' is not defined",
     "output_type": "error",
     "traceback": [
      "\u001b[1;31m---------------------------------------------------------------------------\u001b[0m",
      "\u001b[1;31mNameError\u001b[0m                                 Traceback (most recent call last)",
      "\u001b[1;32m<ipython-input-8-51850289be24>\u001b[0m in \u001b[0;36m<module>\u001b[1;34m()\u001b[0m\n\u001b[0;32m      3\u001b[0m     \u001b[0midnum\u001b[0m \u001b[1;33m=\u001b[0m \u001b[1;36m1\u001b[0m\u001b[1;33m\u001b[0m\u001b[0m\n\u001b[0;32m      4\u001b[0m     \u001b[0mdocDic\u001b[0m \u001b[1;33m=\u001b[0m \u001b[1;33m[\u001b[0m\u001b[1;33m]\u001b[0m\u001b[1;33m\u001b[0m\u001b[0m\n\u001b[1;32m----> 5\u001b[1;33m     \u001b[1;32mfor\u001b[0m \u001b[0mrev\u001b[0m \u001b[1;32min\u001b[0m \u001b[0mraw_revs\u001b[0m\u001b[1;33m:\u001b[0m\u001b[1;33m\u001b[0m\u001b[0m\n\u001b[0m\u001b[0;32m      6\u001b[0m         \u001b[0mdocDic\u001b[0m\u001b[1;33m.\u001b[0m\u001b[0mappend\u001b[0m\u001b[1;33m(\u001b[0m\u001b[1;33m{\u001b[0m\u001b[1;34m'id'\u001b[0m\u001b[1;33m:\u001b[0m\u001b[0midnum\u001b[0m\u001b[1;33m,\u001b[0m \u001b[1;34m'language'\u001b[0m\u001b[1;33m:\u001b[0m\u001b[1;34m'en'\u001b[0m\u001b[1;33m,\u001b[0m \u001b[1;34m'text'\u001b[0m\u001b[1;33m:\u001b[0m \u001b[0mrev\u001b[0m\u001b[1;33m[\u001b[0m\u001b[1;36m0\u001b[0m\u001b[1;33m]\u001b[0m\u001b[1;33m}\u001b[0m\u001b[1;33m)\u001b[0m\u001b[1;33m\u001b[0m\u001b[0m\n\u001b[0;32m      7\u001b[0m         \u001b[0midnum\u001b[0m \u001b[1;33m+=\u001b[0m \u001b[1;36m1\u001b[0m\u001b[1;33m\u001b[0m\u001b[0m\n",
      "\u001b[1;31mNameError\u001b[0m: name 'raw_revs' is not defined"
     ]
    }
   ],
   "source": [
    "for i in range(len(df)):\n",
    "    \n",
    "    idnum = 1\n",
    "    docDic = []\n",
    "    for rev in raw_revs:\n",
    "        docDic.append({'id':idnum, 'language':'en', 'text': rev[0]})\n",
    "        idnum += 1\n",
    "        \n",
    "    documents = {'documents' : docDic}\n",
    "    key_phrase_api_url = text_analytics_base_url + \"keyPhrases\"\n",
    "    headers   = {'Ocp-Apim-Subscription-Key': subscription_key}\n",
    "    response  = requests.post(key_phrase_api_url, headers=headers, json=documents)\n",
    "    key_phrases = response.json()\n",
    "    \n",
    "    sentiment_api_url = text_analytics_base_url + \"sentiment\"\n",
    "    response  = requests.post(sentiment_api_url, headers=headers, json=documents)\n",
    "    sentiments = response.json()\n",
    "    \n",
    "    entity_linking_api_url = text_analytics_base_url + \"entities\"\n",
    "    response  = requests.post(entity_linking_api_url, headers=headers, json=documents)\n",
    "    entities = response.json()\n",
    "    pprint(entities)\n",
    "    \n",
    "    keyphr = []\n",
    "    senti = []\n",
    "    try:\n",
    "        for i in range(len(key_phrases['documents'])):\n",
    "            keyphr += key_phrases['documents'][i]['keyPhrases']\n",
    "            senti += [sentiments['documents'][i]['score']]\n",
    "    except:\n",
    "        pprint(key_phrases)\n",
    "    \n",
    "#     freq_words(keyphr)\n",
    "    \n",
    "    currStore = df.loc[i]['name']\n",
    "    print(\"Store: \" + currStore)\n",
    "    print(\"Loc: \" + str(i))\n",
    "    raw_revs = df.loc[i]['reviews']\n",
    "    scores = [rev[1] for rev in raw_revs]\n",
    "    print (\"Average Score: %f\" % (sum(scores) / float(len(scores))))\n",
    "\n",
    "#     if (sum(senti) / float(len(senti)) > 0.5):\n",
    "#         print(\"HAPPY\")\n",
    "#     else:\n",
    "#         print(\"BAD\")\n",
    "    "
   ]
  },
  {
   "cell_type": "code",
   "execution_count": null,
   "metadata": {
    "collapsed": true
   },
   "outputs": [],
   "source": []
  }
 ],
 "metadata": {
  "kernelspec": {
   "display_name": "Python 3",
   "language": "python",
   "name": "python3"
  },
  "language_info": {
   "codemirror_mode": {
    "name": "ipython",
    "version": 3
   },
   "file_extension": ".py",
   "mimetype": "text/x-python",
   "name": "python",
   "nbconvert_exporter": "python",
   "pygments_lexer": "ipython3",
   "version": "3.5.1"
  }
 },
 "nbformat": 4,
 "nbformat_minor": 2
}
