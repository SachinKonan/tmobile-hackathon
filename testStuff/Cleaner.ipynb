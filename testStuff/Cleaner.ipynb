{
 "cells": [
  {
   "cell_type": "code",
   "execution_count": 1,
   "metadata": {},
   "outputs": [
    {
     "name": "stderr",
     "output_type": "stream",
     "text": [
      "/Library/Frameworks/Python.framework/Versions/3.7/lib/python3.7/site-packages/sklearn/feature_extraction/text.py:17: DeprecationWarning: Using or importing the ABCs from 'collections' instead of from 'collections.abc' is deprecated, and in 3.8 it will stop working\n",
      "  from collections import Mapping, defaultdict\n"
     ]
    }
   ],
   "source": [
    "import os\n",
    "import nltk\n",
    "from nltk import FreqDist\n",
    "import pandas as pd\n",
    "import matplotlib.pyplot as plt\n",
    "import re\n",
    "import requests\n",
    "from pprint import pprint\n",
    "import matplotlib.pyplot as plt\n",
    "import seaborn as sns\n",
    "%matplotlib inline"
   ]
  },
  {
   "cell_type": "code",
   "execution_count": 30,
   "metadata": {},
   "outputs": [],
   "source": [
    "df = pd.read_json('data.json')"
   ]
  },
  {
   "cell_type": "code",
   "execution_count": 31,
   "metadata": {},
   "outputs": [
    {
     "data": {
      "text/plain": [
       "0         t-mobile-atlanta-13\n",
       "1          t-mobile-atlanta-3\n",
       "2         t-mobile-atlanta-39\n",
       "3            t-mobile-austell\n",
       "4          t-mobile-lilburn-2\n",
       "5         t-mobile-atlanta-30\n",
       "6         t-mobile-atlanta-23\n",
       "7         t-mobile-atlanta-46\n",
       "8     t-mobile-lithia-springs\n",
       "9          t-mobile-atlanta-7\n",
       "10        t-mobile-east-point\n",
       "11        t-mobile-atlanta-35\n",
       "12        t-mobile-atlanta-28\n",
       "13      t-mobile-alpharetta-7\n",
       "14        t-mobile-atlanta-43\n",
       "Name: name, dtype: object"
      ]
     },
     "execution_count": 31,
     "metadata": {},
     "output_type": "execute_result"
    }
   ],
   "source": [
    "df['name']"
   ]
  },
  {
   "cell_type": "code",
   "execution_count": null,
   "metadata": {},
   "outputs": [],
   "source": [
    "df"
   ]
  },
  {
   "cell_type": "code",
   "execution_count": 4,
   "metadata": {},
   "outputs": [
    {
     "data": {
      "text/plain": [
       "<PandasArray>\n",
       "[[['I had a great experience switching from AT&T to T-Mobile and buying my 1st iPhone. Trey and Shamika were helpful, as well as fun. There was a glitch and we were unable to transfer contacts as well as photos to my new phone. Granted, my old phone was a Nokia Lumia & that was a challenge.', 4.0, '\\n        2/7/2019\\n    '], ['Wasted about an hour visiting this store that I won\\'t get back. Staff seemed confused on how to address the problems I had, misleading me about certain things that I later found out on my own not to be the case after speaking with the call center. On top of that, the staff was rude as hell and it seemed like they just didn\\'t want to be there. While at the store and speaking with a representative over the phone trying to assist the situation, I tried putting him in contact with the gentleman at the store assisting me, to which the gentleman immediately got defensive and said \"I don\\'t need to talk to them. I can call them on my own if I wanted to speak with them,\" as if I was challenging his authority or something. Who does that?!', 1.0, '\\n        12/13/2017\\n    '], ['I am so mad at them right now... They told us $40 per line but did not mention the minimum $120 if you get less than 4. What The Fools errand is wrong with (cell) phone companies?! They just keep hiding the truth and the facts. Really unhappy about them.', 1.0, '\\n        7/23/2017\\n            \\n\\n\\n\\n\\n\\nUpdated review\\n\\n'], [\"Only been here once to get a prepaid phone. It's my First time in the US so I didn't know if my phone worked with the T-mobile network. The guys basically took a fresh new card and tested it, saying I don't have to pay if it doesn't work. That's definitely what I call going for the customer. =)\", 5.0, '\\n        8/2/2015\\n    '], [\"The store is good. \\xa0The staff is helpful, the displays attractive, and the location very convenient for much of midtown. \\xa0In that I'd agree with the other reviews.Two problems I would add to the discussion. \\xa0One is staffing levels. \\xa0Most times I've been in, there's a fairly long wait to talk to anyone, not necessarily because it's that crowded, but just because everything takes a really long time and there are only two people working.The second relates to how little T-Mobile allows its store staff to do. \\xa0I'd asked for a new number, and the agent set it up without asking about area code preference. \\xa0When he told me he'd set it up, I asked for one of a few area codes, but the system wouldn't let him make changes without a $15 fee. \\xa0He could charge me the fee and ask me to fight T-Mobile over the phone for it later or just leave me with an area code no one's ever heard of. \\xa0Two bad options, mostly thanks to how little T-Mobile lets them do.\", 3.0, '\\n        2/13/2015\\n    '], [\"Crazy to think that I've been a T-Mobile customer for over a decade. Since moving to Atlanta I've gone to a bunch of different T-Mobile locations -- pretty much any store that was closest to where I was at the time. After visiting the Tech Square location, I have finally found my store. The staff is always super knowledgeable, helpful and attentive. They actually listen to what you're saying and offer great insider advice on the best products and services for you. Finally found consistent and incredible customer service!Only downside...this location is quite small, but they have all the top phones. So it can get a it crowded on the weekends. (When the store is full, just wait in line and you'll get service faster than if you're browsing.) One thing I have to say is if you're there for something specific, like the hottest technology out there, you better snatch it up fast! Just visited last week to get a Samsung Galaxy S4 in the titanium color and they sold their last one a few hours earlier. It was the LAST titanium S4 in the Atlanta market!! Ended up just ordering one online though, so it worked out in the end.Overall great service and now I don't like going to any other stores!\", 4.0, '\\n        4/21/2013\\n    '], [\"I went in the store multiple times over the course of two weeks shopping for a phone for my mom. All of the salespeople I talked to were really helpful. They seemed like really chill guys and they didn't pressure me to make a purchase. They even went in the back to pull out a phone display I had seen on a previous visit so I could take pictures of each phone/price.\", 5.0, '\\n        5/29/2015\\n    '], ['Have been with T-mobile almost 6 years. While Verizon and AT&T have the different variety of phones, T-mobile has a good enough selection for me, as well as excellent customer service.Went there on my lunch break to upgrade my phone and was in and out in 20 minutes.', 4.0, '\\n        1/12/2011\\n    ']]]\n",
       "Length: 1, dtype: object"
      ]
     },
     "execution_count": 4,
     "metadata": {},
     "output_type": "execute_result"
    }
   ],
   "source": [
    "df.loc[df['name'] == 't-mobile-atlanta-30']['reviews'].array"
   ]
  },
  {
   "cell_type": "code",
   "execution_count": 5,
   "metadata": {},
   "outputs": [],
   "source": [
    "subscription_key = 'c1005ffa18cc42ddbf916d2483bb2dd2'\n",
    "assert subscription_key\n",
    "text_analytics_base_url = \"https://westcentralus.api.cognitive.microsoft.com/text/analytics/v2.0/\""
   ]
  },
  {
   "cell_type": "code",
   "execution_count": 6,
   "metadata": {},
   "outputs": [],
   "source": [
    "def freq_words(x, terms = 30):\n",
    "  all_words = ' '.join([text for text in x])\n",
    "  all_words = all_words.split()\n",
    "  \n",
    "  fdist = FreqDist(all_words)\n",
    "  words_df = pd.DataFrame({'word':list(fdist.keys()), 'count':list(fdist.values())})\n",
    "  \n",
    "  # selecting top 20 most frequent words\n",
    "  d = words_df.nlargest(columns=\"count\", n = terms) \n",
    "  plt.figure(figsize=(20,5))\n",
    "  ax = sns.barplot(data=d, x= \"word\", y = \"count\")\n",
    "  ax.set(ylabel = 'Count')\n",
    "  plt.show()"
   ]
  },
  {
   "cell_type": "code",
   "execution_count": 7,
   "metadata": {},
   "outputs": [
    {
     "data": {
      "text/plain": [
       "15"
      ]
     },
     "execution_count": 7,
     "metadata": {},
     "output_type": "execute_result"
    }
   ],
   "source": [
    "len(df)"
   ]
  },
  {
   "cell_type": "code",
   "execution_count": 35,
   "metadata": {
    "scrolled": false
   },
   "outputs": [],
   "source": [
    "df['sentiment'] = 0"
   ]
  },
  {
   "cell_type": "code",
   "execution_count": 44,
   "metadata": {},
   "outputs": [],
   "source": [
    "df= df.set_index('name')"
   ]
  },
  {
   "cell_type": "code",
   "execution_count": 51,
   "metadata": {},
   "outputs": [
    {
     "name": "stdout",
     "output_type": "stream",
     "text": [
      "0\n",
      "0\n",
      "0\n",
      "0\n",
      "0\n",
      "0\n",
      "0\n",
      "0\n",
      "0\n",
      "0\n",
      "0\n",
      "0\n",
      "0\n",
      "0\n",
      "0\n"
     ]
    }
   ],
   "source": [
    "for index,row in df.iterrows():\n",
    "    print(df.loc[index]['sentiment'])"
   ]
  },
  {
   "cell_type": "code",
   "execution_count": 66,
   "metadata": {},
   "outputs": [
    {
     "ename": "TypeError",
     "evalue": "unhashable type: 'dict'",
     "output_type": "error",
     "traceback": [
      "\u001b[0;31m---------------------------------------------------------------------------\u001b[0m",
      "\u001b[0;31mTypeError\u001b[0m                                 Traceback (most recent call last)",
      "\u001b[0;32m<ipython-input-66-28a88c562901>\u001b[0m in \u001b[0;36m<module>\u001b[0;34m\u001b[0m\n\u001b[1;32m     12\u001b[0m     \u001b[0msentiments\u001b[0m \u001b[0;34m=\u001b[0m \u001b[0mresponse\u001b[0m\u001b[0;34m.\u001b[0m\u001b[0mjson\u001b[0m\u001b[0;34m(\u001b[0m\u001b[0;34m)\u001b[0m\u001b[0;34m\u001b[0m\u001b[0m\n\u001b[1;32m     13\u001b[0m \u001b[0;34m\u001b[0m\u001b[0m\n\u001b[0;32m---> 14\u001b[0;31m     \u001b[0mdf\u001b[0m\u001b[0;34m.\u001b[0m\u001b[0mat\u001b[0m\u001b[0;34m[\u001b[0m\u001b[0mindex\u001b[0m\u001b[0;34m,\u001b[0m \u001b[0;34m'sentiment'\u001b[0m\u001b[0;34m]\u001b[0m \u001b[0;34m=\u001b[0m \u001b[0;34m{\u001b[0m\u001b[0msentiments\u001b[0m\u001b[0;34m}\u001b[0m\u001b[0;34m\u001b[0m\u001b[0m\n\u001b[0m\u001b[1;32m     15\u001b[0m \u001b[0;34m\u001b[0m\u001b[0m\n",
      "\u001b[0;31mTypeError\u001b[0m: unhashable type: 'dict'"
     ]
    }
   ],
   "source": [
    "for index, row in df.iterrows():\n",
    "    idnum = 1\n",
    "    docDic = []\n",
    "#     print(df.loc[index]['reviews'][0][0])\n",
    "    for rev in df.loc[index]['reviews'][0][0]:\n",
    "        docDic.append({'id':idnum, 'language':'en', 'text': rev[0]})\n",
    "        idnum += 1\n",
    "    documents = {'documents' : docDic}\n",
    "    headers   = {'Ocp-Apim-Subscription-Key': subscription_key}\n",
    "    sentiment_api_url = text_analytics_base_url + \"sentiment\"\n",
    "    response  = requests.post(sentiment_api_url, headers=headers, json=documents)\n",
    "    sentiments = response.json()\n",
    "\n",
    "    df.at[index, 'sentiment'] = \n",
    "    "
   ]
  },
  {
   "cell_type": "code",
   "execution_count": 62,
   "metadata": {},
   "outputs": [
    {
     "data": {
      "text/html": [
       "<div>\n",
       "<style scoped>\n",
       "    .dataframe tbody tr th:only-of-type {\n",
       "        vertical-align: middle;\n",
       "    }\n",
       "\n",
       "    .dataframe tbody tr th {\n",
       "        vertical-align: top;\n",
       "    }\n",
       "\n",
       "    .dataframe thead th {\n",
       "        text-align: right;\n",
       "    }\n",
       "</style>\n",
       "<table border=\"1\" class=\"dataframe\">\n",
       "  <thead>\n",
       "    <tr style=\"text-align: right;\">\n",
       "      <th></th>\n",
       "      <th>id</th>\n",
       "      <th>location</th>\n",
       "      <th>reviews</th>\n",
       "      <th>sentiment</th>\n",
       "    </tr>\n",
       "    <tr>\n",
       "      <th>name</th>\n",
       "      <th></th>\n",
       "      <th></th>\n",
       "      <th></th>\n",
       "      <th></th>\n",
       "    </tr>\n",
       "  </thead>\n",
       "  <tbody>\n",
       "    <tr>\n",
       "      <th>t-mobile-atlanta-13</th>\n",
       "      <td>wKKRoSg1pZQtQRYPoD7TXg</td>\n",
       "      <td>{'address2': 'Ste 500', 'address3': '', 'zip_c...</td>\n",
       "      <td>[[Was in town for work and had issues with my ...</td>\n",
       "      <td>10</td>\n",
       "    </tr>\n",
       "    <tr>\n",
       "      <th>t-mobile-atlanta-3</th>\n",
       "      <td>8hXzJzOb3K1eFor0oNrPWA</td>\n",
       "      <td>{'address2': 'Ste 105', 'address3': '', 'zip_c...</td>\n",
       "      <td>[[The customer service is off the charts!!! Th...</td>\n",
       "      <td>10</td>\n",
       "    </tr>\n",
       "    <tr>\n",
       "      <th>t-mobile-atlanta-39</th>\n",
       "      <td>z-ldpf_9VxZjITfBb7Lnkg</td>\n",
       "      <td>{'address2': 'Ste 100', 'address3': None, 'zip...</td>\n",
       "      <td>[[If you haven't been to see us in over a year...</td>\n",
       "      <td>10</td>\n",
       "    </tr>\n",
       "    <tr>\n",
       "      <th>t-mobile-austell</th>\n",
       "      <td>qiAckHMVZQScy2U9nvSCmQ</td>\n",
       "      <td>{'address2': 'Ste 480', 'address3': '', 'zip_c...</td>\n",
       "      <td>[[Kudos to Tatiana! My daughter need a screen ...</td>\n",
       "      <td>10</td>\n",
       "    </tr>\n",
       "    <tr>\n",
       "      <th>t-mobile-lilburn-2</th>\n",
       "      <td>9oHGS1knSS3uAHsf2sqxRg</td>\n",
       "      <td>{'address2': 'Ste 13', 'address3': None, 'zip_...</td>\n",
       "      <td>[[I would like to start by saying I was pleasa...</td>\n",
       "      <td>10</td>\n",
       "    </tr>\n",
       "    <tr>\n",
       "      <th>t-mobile-atlanta-30</th>\n",
       "      <td>oKrbc2dBvop1eo4dwdGk6Q</td>\n",
       "      <td>{'address2': 'Ste A', 'address3': '', 'zip_cod...</td>\n",
       "      <td>[[I had a great experience switching from AT&amp;T...</td>\n",
       "      <td>10</td>\n",
       "    </tr>\n",
       "    <tr>\n",
       "      <th>t-mobile-atlanta-23</th>\n",
       "      <td>GP2c4RUrfCPivCTVZ_VueA</td>\n",
       "      <td>{'address2': 'Ste 2667', 'address3': '', 'zip_...</td>\n",
       "      <td>[[Let's start this one off with a good ole' GR...</td>\n",
       "      <td>10</td>\n",
       "    </tr>\n",
       "    <tr>\n",
       "      <th>t-mobile-atlanta-46</th>\n",
       "      <td>ZgkdwRzfT2QjQbzi34t96A</td>\n",
       "      <td>{'address2': 'Ste G', 'address3': None, 'zip_c...</td>\n",
       "      <td>[[You're like, \"Why the hell is he reviewing a...</td>\n",
       "      <td>10</td>\n",
       "    </tr>\n",
       "    <tr>\n",
       "      <th>t-mobile-lithia-springs</th>\n",
       "      <td>N_v0tMRmqgTnnusrcVI3dw</td>\n",
       "      <td>{'address2': None, 'address3': None, 'zip_code...</td>\n",
       "      <td>[[We came to this T-Mobile location about a mo...</td>\n",
       "      <td>10</td>\n",
       "    </tr>\n",
       "    <tr>\n",
       "      <th>t-mobile-atlanta-7</th>\n",
       "      <td>EGHoMbnG-vzwotSQz9oeqQ</td>\n",
       "      <td>{'address2': 'Ste 2037', 'address3': '', 'zip_...</td>\n",
       "      <td>[[I've been a T-Mobile customer for 12+ years ...</td>\n",
       "      <td>10</td>\n",
       "    </tr>\n",
       "    <tr>\n",
       "      <th>t-mobile-east-point</th>\n",
       "      <td>8XBfdAwp1Y_IrhFdSZaNzw</td>\n",
       "      <td>{'address2': None, 'address3': None, 'zip_code...</td>\n",
       "      <td>[[The customer service here overall is better ...</td>\n",
       "      <td>10</td>\n",
       "    </tr>\n",
       "    <tr>\n",
       "      <th>t-mobile-atlanta-35</th>\n",
       "      <td>Qh0Z1gyxugwZzAna4UsCKA</td>\n",
       "      <td>{'address2': None, 'address3': None, 'zip_code...</td>\n",
       "      <td>[[I called ahead of time before the 4th of Jul...</td>\n",
       "      <td>10</td>\n",
       "    </tr>\n",
       "    <tr>\n",
       "      <th>t-mobile-atlanta-28</th>\n",
       "      <td>sSc4MPlUOPCEXEDQw_DISg</td>\n",
       "      <td>{'address2': 'Ste 1106', 'address3': '', 'zip_...</td>\n",
       "      <td>[[I have visited 2 other T-Mobile stores. The ...</td>\n",
       "      <td>10</td>\n",
       "    </tr>\n",
       "    <tr>\n",
       "      <th>t-mobile-alpharetta-7</th>\n",
       "      <td>jMCpYt9N6VqtjS-U2ubjZQ</td>\n",
       "      <td>{'address2': 'Ste 1430', 'address3': '', 'zip_...</td>\n",
       "      <td>[[I purchased a new phone and needed the quick...</td>\n",
       "      <td>10</td>\n",
       "    </tr>\n",
       "    <tr>\n",
       "      <th>t-mobile-atlanta-43</th>\n",
       "      <td>RlaaCtbydgyg8ItxIeuFRQ</td>\n",
       "      <td>{'address2': 'Ste A', 'address3': None, 'zip_c...</td>\n",
       "      <td>[[I've been with T-Mobile for over 4 years and...</td>\n",
       "      <td>10</td>\n",
       "    </tr>\n",
       "  </tbody>\n",
       "</table>\n",
       "</div>"
      ],
      "text/plain": [
       "                                             id  \\\n",
       "name                                              \n",
       "t-mobile-atlanta-13      wKKRoSg1pZQtQRYPoD7TXg   \n",
       "t-mobile-atlanta-3       8hXzJzOb3K1eFor0oNrPWA   \n",
       "t-mobile-atlanta-39      z-ldpf_9VxZjITfBb7Lnkg   \n",
       "t-mobile-austell         qiAckHMVZQScy2U9nvSCmQ   \n",
       "t-mobile-lilburn-2       9oHGS1knSS3uAHsf2sqxRg   \n",
       "t-mobile-atlanta-30      oKrbc2dBvop1eo4dwdGk6Q   \n",
       "t-mobile-atlanta-23      GP2c4RUrfCPivCTVZ_VueA   \n",
       "t-mobile-atlanta-46      ZgkdwRzfT2QjQbzi34t96A   \n",
       "t-mobile-lithia-springs  N_v0tMRmqgTnnusrcVI3dw   \n",
       "t-mobile-atlanta-7       EGHoMbnG-vzwotSQz9oeqQ   \n",
       "t-mobile-east-point      8XBfdAwp1Y_IrhFdSZaNzw   \n",
       "t-mobile-atlanta-35      Qh0Z1gyxugwZzAna4UsCKA   \n",
       "t-mobile-atlanta-28      sSc4MPlUOPCEXEDQw_DISg   \n",
       "t-mobile-alpharetta-7    jMCpYt9N6VqtjS-U2ubjZQ   \n",
       "t-mobile-atlanta-43      RlaaCtbydgyg8ItxIeuFRQ   \n",
       "\n",
       "                                                                  location  \\\n",
       "name                                                                         \n",
       "t-mobile-atlanta-13      {'address2': 'Ste 500', 'address3': '', 'zip_c...   \n",
       "t-mobile-atlanta-3       {'address2': 'Ste 105', 'address3': '', 'zip_c...   \n",
       "t-mobile-atlanta-39      {'address2': 'Ste 100', 'address3': None, 'zip...   \n",
       "t-mobile-austell         {'address2': 'Ste 480', 'address3': '', 'zip_c...   \n",
       "t-mobile-lilburn-2       {'address2': 'Ste 13', 'address3': None, 'zip_...   \n",
       "t-mobile-atlanta-30      {'address2': 'Ste A', 'address3': '', 'zip_cod...   \n",
       "t-mobile-atlanta-23      {'address2': 'Ste 2667', 'address3': '', 'zip_...   \n",
       "t-mobile-atlanta-46      {'address2': 'Ste G', 'address3': None, 'zip_c...   \n",
       "t-mobile-lithia-springs  {'address2': None, 'address3': None, 'zip_code...   \n",
       "t-mobile-atlanta-7       {'address2': 'Ste 2037', 'address3': '', 'zip_...   \n",
       "t-mobile-east-point      {'address2': None, 'address3': None, 'zip_code...   \n",
       "t-mobile-atlanta-35      {'address2': None, 'address3': None, 'zip_code...   \n",
       "t-mobile-atlanta-28      {'address2': 'Ste 1106', 'address3': '', 'zip_...   \n",
       "t-mobile-alpharetta-7    {'address2': 'Ste 1430', 'address3': '', 'zip_...   \n",
       "t-mobile-atlanta-43      {'address2': 'Ste A', 'address3': None, 'zip_c...   \n",
       "\n",
       "                                                                   reviews  \\\n",
       "name                                                                         \n",
       "t-mobile-atlanta-13      [[Was in town for work and had issues with my ...   \n",
       "t-mobile-atlanta-3       [[The customer service is off the charts!!! Th...   \n",
       "t-mobile-atlanta-39      [[If you haven't been to see us in over a year...   \n",
       "t-mobile-austell         [[Kudos to Tatiana! My daughter need a screen ...   \n",
       "t-mobile-lilburn-2       [[I would like to start by saying I was pleasa...   \n",
       "t-mobile-atlanta-30      [[I had a great experience switching from AT&T...   \n",
       "t-mobile-atlanta-23      [[Let's start this one off with a good ole' GR...   \n",
       "t-mobile-atlanta-46      [[You're like, \"Why the hell is he reviewing a...   \n",
       "t-mobile-lithia-springs  [[We came to this T-Mobile location about a mo...   \n",
       "t-mobile-atlanta-7       [[I've been a T-Mobile customer for 12+ years ...   \n",
       "t-mobile-east-point      [[The customer service here overall is better ...   \n",
       "t-mobile-atlanta-35      [[I called ahead of time before the 4th of Jul...   \n",
       "t-mobile-atlanta-28      [[I have visited 2 other T-Mobile stores. The ...   \n",
       "t-mobile-alpharetta-7    [[I purchased a new phone and needed the quick...   \n",
       "t-mobile-atlanta-43      [[I've been with T-Mobile for over 4 years and...   \n",
       "\n",
       "                         sentiment  \n",
       "name                                \n",
       "t-mobile-atlanta-13             10  \n",
       "t-mobile-atlanta-3              10  \n",
       "t-mobile-atlanta-39             10  \n",
       "t-mobile-austell                10  \n",
       "t-mobile-lilburn-2              10  \n",
       "t-mobile-atlanta-30             10  \n",
       "t-mobile-atlanta-23             10  \n",
       "t-mobile-atlanta-46             10  \n",
       "t-mobile-lithia-springs         10  \n",
       "t-mobile-atlanta-7              10  \n",
       "t-mobile-east-point             10  \n",
       "t-mobile-atlanta-35             10  \n",
       "t-mobile-atlanta-28             10  \n",
       "t-mobile-alpharetta-7           10  \n",
       "t-mobile-atlanta-43             10  "
      ]
     },
     "execution_count": 62,
     "metadata": {},
     "output_type": "execute_result"
    }
   ],
   "source": [
    "df"
   ]
  },
  {
   "cell_type": "code",
   "execution_count": 9,
   "metadata": {},
   "outputs": [
    {
     "name": "stdout",
     "output_type": "stream",
     "text": [
      "                        id                                           location  \\\n",
      "0   wKKRoSg1pZQtQRYPoD7TXg  {'address2': 'Ste 500', 'address3': '', 'zip_c...   \n",
      "1   8hXzJzOb3K1eFor0oNrPWA  {'address2': 'Ste 105', 'address3': '', 'zip_c...   \n",
      "2   z-ldpf_9VxZjITfBb7Lnkg  {'address2': 'Ste 100', 'address3': None, 'zip...   \n",
      "3   qiAckHMVZQScy2U9nvSCmQ  {'address2': 'Ste 480', 'address3': '', 'zip_c...   \n",
      "4   9oHGS1knSS3uAHsf2sqxRg  {'address2': 'Ste 13', 'address3': None, 'zip_...   \n",
      "5   oKrbc2dBvop1eo4dwdGk6Q  {'address2': 'Ste A', 'address3': '', 'zip_cod...   \n",
      "6   GP2c4RUrfCPivCTVZ_VueA  {'address2': 'Ste 2667', 'address3': '', 'zip_...   \n",
      "7   ZgkdwRzfT2QjQbzi34t96A  {'address2': 'Ste G', 'address3': None, 'zip_c...   \n",
      "8   N_v0tMRmqgTnnusrcVI3dw  {'address2': None, 'address3': None, 'zip_code...   \n",
      "9   EGHoMbnG-vzwotSQz9oeqQ  {'address2': 'Ste 2037', 'address3': '', 'zip_...   \n",
      "10  8XBfdAwp1Y_IrhFdSZaNzw  {'address2': None, 'address3': None, 'zip_code...   \n",
      "11  Qh0Z1gyxugwZzAna4UsCKA  {'address2': None, 'address3': None, 'zip_code...   \n",
      "12  sSc4MPlUOPCEXEDQw_DISg  {'address2': 'Ste 1106', 'address3': '', 'zip_...   \n",
      "13  jMCpYt9N6VqtjS-U2ubjZQ  {'address2': 'Ste 1430', 'address3': '', 'zip_...   \n",
      "14  RlaaCtbydgyg8ItxIeuFRQ  {'address2': 'Ste A', 'address3': None, 'zip_c...   \n",
      "\n",
      "                       name                                            reviews  \n",
      "0       t-mobile-atlanta-13  [[Was in town for work and had issues with my ...  \n",
      "1        t-mobile-atlanta-3  [[The customer service is off the charts!!! Th...  \n",
      "2       t-mobile-atlanta-39  [[If you haven't been to see us in over a year...  \n",
      "3          t-mobile-austell  [[Kudos to Tatiana! My daughter need a screen ...  \n",
      "4        t-mobile-lilburn-2  [[I would like to start by saying I was pleasa...  \n",
      "5       t-mobile-atlanta-30  [[I had a great experience switching from AT&T...  \n",
      "6       t-mobile-atlanta-23  [[Let's start this one off with a good ole' GR...  \n",
      "7       t-mobile-atlanta-46  [[You're like, \"Why the hell is he reviewing a...  \n",
      "8   t-mobile-lithia-springs  [[We came to this T-Mobile location about a mo...  \n",
      "9        t-mobile-atlanta-7  [[I've been a T-Mobile customer for 12+ years ...  \n",
      "10      t-mobile-east-point  [[The customer service here overall is better ...  \n",
      "11      t-mobile-atlanta-35  [[I called ahead of time before the 4th of Jul...  \n",
      "12      t-mobile-atlanta-28  [[I have visited 2 other T-Mobile stores. The ...  \n",
      "13    t-mobile-alpharetta-7  [[I purchased a new phone and needed the quick...  \n",
      "14      t-mobile-atlanta-43  [[I've been with T-Mobile for over 4 years and...  \n",
      "0\n"
     ]
    },
    {
     "ename": "NameError",
     "evalue": "name 'raw_revs' is not defined",
     "output_type": "error",
     "traceback": [
      "\u001b[0;31m---------------------------------------------------------------------------\u001b[0m",
      "\u001b[0;31mNameError\u001b[0m                                 Traceback (most recent call last)",
      "\u001b[0;32m<ipython-input-9-b46c97d6ae90>\u001b[0m in \u001b[0;36m<module>\u001b[0;34m\u001b[0m\n\u001b[1;32m      4\u001b[0m     \u001b[0midnum\u001b[0m \u001b[0;34m=\u001b[0m \u001b[0;36m1\u001b[0m\u001b[0;34m\u001b[0m\u001b[0m\n\u001b[1;32m      5\u001b[0m     \u001b[0mdocDic\u001b[0m \u001b[0;34m=\u001b[0m \u001b[0;34m[\u001b[0m\u001b[0;34m]\u001b[0m\u001b[0;34m\u001b[0m\u001b[0m\n\u001b[0;32m----> 6\u001b[0;31m     \u001b[0;32mfor\u001b[0m \u001b[0mrev\u001b[0m \u001b[0;32min\u001b[0m \u001b[0mraw_revs\u001b[0m\u001b[0;34m:\u001b[0m\u001b[0;34m\u001b[0m\u001b[0m\n\u001b[0m\u001b[1;32m      7\u001b[0m         \u001b[0mdocDic\u001b[0m\u001b[0;34m.\u001b[0m\u001b[0mappend\u001b[0m\u001b[0;34m(\u001b[0m\u001b[0;34m{\u001b[0m\u001b[0;34m'id'\u001b[0m\u001b[0;34m:\u001b[0m\u001b[0midnum\u001b[0m\u001b[0;34m,\u001b[0m \u001b[0;34m'language'\u001b[0m\u001b[0;34m:\u001b[0m\u001b[0;34m'en'\u001b[0m\u001b[0;34m,\u001b[0m \u001b[0;34m'text'\u001b[0m\u001b[0;34m:\u001b[0m \u001b[0mrev\u001b[0m\u001b[0;34m[\u001b[0m\u001b[0;36m0\u001b[0m\u001b[0;34m]\u001b[0m\u001b[0;34m}\u001b[0m\u001b[0;34m)\u001b[0m\u001b[0;34m\u001b[0m\u001b[0m\n\u001b[1;32m      8\u001b[0m         \u001b[0midnum\u001b[0m \u001b[0;34m+=\u001b[0m \u001b[0;36m1\u001b[0m\u001b[0;34m\u001b[0m\u001b[0m\n",
      "\u001b[0;31mNameError\u001b[0m: name 'raw_revs' is not defined"
     ]
    }
   ],
   "source": [
    "for i in range(len(df)):\n",
    "    print(i)\n",
    "    idnum = 1\n",
    "    docDic = []\n",
    "    for rev in raw_revs:\n",
    "        docDic.append({'id':idnum, 'language':'en', 'text': rev[0]})\n",
    "        idnum += 1\n",
    "\n",
    "    documents = {'documents' : docDic}\n",
    "#     key_phrase_api_url = text_analytics_base_url + \"keyPhrases\"\n",
    "#     headers   = {'Ocp-Apim-Subscription-Key': subscription_key}\n",
    "#     response  = requests.post(key_phrase_api_url, headers=headers, json=documents)\n",
    "#     key_phrases = response.json()\n",
    "#     pprint(key_phrases)\n",
    "\n",
    "    sentiment_api_url = text_analytics_base_url + \"sentiment\"\n",
    "    response  = requests.post(sentiment_api_url, headers=headers, json=documents)\n",
    "    sentiments = response.json()\n",
    "    pprint(sentiments)\n",
    "    df = df.loc[i]['sentinments'] = sentiments['documents']\n",
    "    \n",
    "\n",
    "    #     entity_linking_api_url = text_analytics_base_url + \"entities\"\n",
    "    #     response  = requests.post(entity_linking_api_url, headers=headers, json=documents)\n",
    "    #     entities = response.json()\n",
    "    #     pprint(entities)\n",
    "\n",
    "    keyphr = []\n",
    "    senti = []\n",
    "    try:\n",
    "        for j in range(len(sentiments['documents'])):\n",
    "#             keyphr += key_phrases['documents'][j]['keyPhrases']\n",
    "            senti += [sentiments['documents'][j]['score']]\n",
    "    except:\n",
    "        pprint(key_phrases)\n",
    "\n",
    "    #     freq_words(keyphr)\n",
    "\n",
    "    try:\n",
    "        currStore = df.loc[i]['name']\n",
    "    except:\n",
    "        print(i)\n",
    "    print(\"Store: \" + currStore)\n",
    "    print(\"Loc: \" + str(i))\n",
    "    raw_revs = df.loc[i]['reviews']\n",
    "    scores = [rev[1] for rev in raw_revs]\n",
    "    print (\"Average Score: %f\" % (sum(scores) / float(len(scores))))\n",
    "\n",
    "    if (sum(senti) / float(len(senti)) > 0.5):\n",
    "        print(\"HAPPY\")\n",
    "        print(sum(senti) / float(len(senti)))\n",
    "    else:\n",
    "        print(\"BAD\")\n",
    "        print(sum(senti) / float(len(senti)))\n"
   ]
  },
  {
   "cell_type": "code",
   "execution_count": null,
   "metadata": {},
   "outputs": [],
   "source": []
  },
  {
   "cell_type": "code",
   "execution_count": null,
   "metadata": {},
   "outputs": [],
   "source": [
    "df['sentiments']"
   ]
  },
  {
   "cell_type": "code",
   "execution_count": null,
   "metadata": {},
   "outputs": [],
   "source": []
  }
 ],
 "metadata": {
  "kernelspec": {
   "display_name": "Python 3",
   "language": "python",
   "name": "python3"
  },
  "language_info": {
   "codemirror_mode": {
    "name": "ipython",
    "version": 3
   },
   "file_extension": ".py",
   "mimetype": "text/x-python",
   "name": "python",
   "nbconvert_exporter": "python",
   "pygments_lexer": "ipython3",
   "version": "3.7.0"
  }
 },
 "nbformat": 4,
 "nbformat_minor": 2
}
