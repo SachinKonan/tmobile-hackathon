{
 "cells": [
  {
   "cell_type": "code",
   "execution_count": 5,
   "metadata": {
    "colab": {
     "base_uri": "https://localhost:8080/",
     "height": 1063.0
    },
    "colab_type": "code",
    "id": "U32BHTBUq7D6",
    "outputId": "6f2ba14c-1484-4a32-e02e-0cc4106fed82"
   },
   "outputs": [
    {
     "name": "stdout",
     "output_type": "stream",
     "text": [
      "Requirement already satisfied: PyDrive in /usr/local/lib/python2.7/site-packages (1.3.1)\n",
      "Requirement already satisfied: PyYAML>=3.0 in /usr/local/lib/python2.7/site-packages (from PyDrive) (5.1)\n",
      "Requirement already satisfied: oauth2client>=4.0.0 in /usr/local/lib/python2.7/site-packages (from PyDrive) (4.1.3)\n",
      "Requirement already satisfied: google-api-python-client>=1.2 in /usr/local/lib/python2.7/site-packages (from PyDrive) (1.7.8)\n",
      "Requirement already satisfied: httplib2>=0.9.1 in /usr/local/lib/python2.7/site-packages (from oauth2client>=4.0.0->PyDrive) (0.10.3)\n",
      "Requirement already satisfied: six>=1.6.1 in /usr/local/Cellar/matplotlib/2.0.0_1/libexec/lib/python2.7/site-packages (from oauth2client>=4.0.0->PyDrive) (1.10.0)\n",
      "Requirement already satisfied: rsa>=3.1.4 in /usr/local/lib/python2.7/site-packages (from oauth2client>=4.0.0->PyDrive) (3.4.2)\n",
      "Requirement already satisfied: pyasn1-modules>=0.0.5 in /usr/local/lib/python2.7/site-packages (from oauth2client>=4.0.0->PyDrive) (0.2.1)\n",
      "Requirement already satisfied: pyasn1>=0.1.7 in /usr/local/lib/python2.7/site-packages (from oauth2client>=4.0.0->PyDrive) (0.4.2)\n",
      "Requirement already satisfied: google-auth>=1.4.1 in /usr/local/lib/python2.7/site-packages (from google-api-python-client>=1.2->PyDrive) (1.6.3)\n",
      "Requirement already satisfied: uritemplate<4dev,>=3.0.0 in /usr/local/lib/python2.7/site-packages (from google-api-python-client>=1.2->PyDrive) (3.0.0)\n",
      "Requirement already satisfied: google-auth-httplib2>=0.0.3 in /usr/local/lib/python2.7/site-packages (from google-api-python-client>=1.2->PyDrive) (0.0.3)\n",
      "Requirement already satisfied: cachetools>=2.0.0 in /usr/local/lib/python2.7/site-packages (from google-auth>=1.4.1->google-api-python-client>=1.2->PyDrive) (2.0.1)\n",
      "\u001b[31mgax-google-logging-v2 0.8.3 has requirement google-gax<0.13.0,>=0.12.5, but you'll have google-gax 0.15.16 which is incompatible.\u001b[0m\n",
      "\u001b[31mpyrebase 3.0.27 has requirement oauth2client==3.0.0, but you'll have oauth2client 4.1.3 which is incompatible.\u001b[0m\n",
      "\u001b[31mpyrebase 3.0.27 has requirement requests==2.11.1, but you'll have requests 2.21.0 which is incompatible.\u001b[0m\n",
      "\u001b[31mgax-google-pubsub-v1 0.8.3 has requirement google-gax<0.13.0,>=0.12.5, but you'll have google-gax 0.15.16 which is incompatible.\u001b[0m\n",
      "\u001b[33mYou are using pip version 10.0.1, however version 19.0.3 is available.\n",
      "You should consider upgrading via the 'pip install --upgrade pip' command.\u001b[0m\n",
      "Requirement already satisfied: gensim in /usr/local/lib/python2.7/site-packages (3.7.1)\n",
      "Requirement already satisfied: six>=1.5.0 in /usr/local/Cellar/matplotlib/2.0.0_1/libexec/lib/python2.7/site-packages (from gensim) (1.10.0)\n",
      "Requirement already satisfied: smart-open>=1.7.0 in /usr/local/lib/python2.7/site-packages (from gensim) (1.8.0)\n",
      "Requirement already satisfied: numpy>=1.11.3 in /usr/local/lib/python2.7/site-packages (from gensim) (1.16.2)\n",
      "Requirement already satisfied: scipy>=0.18.1 in /usr/local/lib/python2.7/site-packages (from gensim) (1.0.0)\n",
      "Requirement already satisfied: bz2file in /usr/local/lib/python2.7/site-packages (from smart-open>=1.7.0->gensim) (0.98)\n",
      "Requirement already satisfied: requests in /usr/local/lib/python2.7/site-packages (from smart-open>=1.7.0->gensim) (2.21.0)\n",
      "Requirement already satisfied: boto>=2.32 in /usr/local/lib/python2.7/site-packages (from smart-open>=1.7.0->gensim) (2.49.0)\n",
      "Requirement already satisfied: boto3 in /usr/local/lib/python2.7/site-packages (from smart-open>=1.7.0->gensim) (1.9.125)\n",
      "Requirement already satisfied: urllib3<1.25,>=1.21.1 in /usr/local/lib/python2.7/site-packages (from requests->smart-open>=1.7.0->gensim) (1.22)\n",
      "Requirement already satisfied: certifi>=2017.4.17 in /usr/local/lib/python2.7/site-packages (from requests->smart-open>=1.7.0->gensim) (2018.4.16)\n",
      "Requirement already satisfied: idna<2.9,>=2.5 in /usr/local/lib/python2.7/site-packages (from requests->smart-open>=1.7.0->gensim) (2.8)\n",
      "Requirement already satisfied: chardet<3.1.0,>=3.0.2 in /usr/local/lib/python2.7/site-packages (from requests->smart-open>=1.7.0->gensim) (3.0.4)\n",
      "Requirement already satisfied: botocore<1.13.0,>=1.12.125 in /usr/local/lib/python2.7/site-packages (from boto3->smart-open>=1.7.0->gensim) (1.12.125)\n",
      "Requirement already satisfied: jmespath<1.0.0,>=0.7.1 in /usr/local/lib/python2.7/site-packages (from boto3->smart-open>=1.7.0->gensim) (0.9.4)\n",
      "Requirement already satisfied: s3transfer<0.3.0,>=0.2.0 in /usr/local/lib/python2.7/site-packages (from boto3->smart-open>=1.7.0->gensim) (0.2.0)\n",
      "Requirement already satisfied: docutils>=0.10 in /usr/local/lib/python2.7/site-packages (from botocore<1.13.0,>=1.12.125->boto3->smart-open>=1.7.0->gensim) (0.14)\n",
      "Requirement already satisfied: python-dateutil<3.0.0,>=2.1; python_version >= \"2.7\" in /usr/local/Cellar/matplotlib/2.0.0_1/libexec/lib/python2.7/site-packages (from botocore<1.13.0,>=1.12.125->boto3->smart-open>=1.7.0->gensim) (2.6.0)\n",
      "Requirement already satisfied: futures<4.0.0,>=2.2.0; python_version == \"2.6\" or python_version == \"2.7\" in /usr/local/lib/python2.7/site-packages (from s3transfer<0.3.0,>=0.2.0->boto3->smart-open>=1.7.0->gensim) (3.2.0)\n",
      "\u001b[31mgax-google-logging-v2 0.8.3 has requirement google-gax<0.13.0,>=0.12.5, but you'll have google-gax 0.15.16 which is incompatible.\u001b[0m\n",
      "\u001b[31mpyrebase 3.0.27 has requirement oauth2client==3.0.0, but you'll have oauth2client 4.1.3 which is incompatible.\u001b[0m\n",
      "\u001b[31mpyrebase 3.0.27 has requirement requests==2.11.1, but you'll have requests 2.21.0 which is incompatible.\u001b[0m\n",
      "\u001b[31mgax-google-pubsub-v1 0.8.3 has requirement google-gax<0.13.0,>=0.12.5, but you'll have google-gax 0.15.16 which is incompatible.\u001b[0m\n",
      "\u001b[33mYou are using pip version 10.0.1, however version 19.0.3 is available.\n",
      "You should consider upgrading via the 'pip install --upgrade pip' command.\u001b[0m\n",
      "Requirement already satisfied: pyldavis in /usr/local/lib/python2.7/site-packages (2.1.2)\n",
      "Requirement already satisfied: funcy in /usr/local/lib/python2.7/site-packages (from pyldavis) (1.11)\n",
      "Requirement already satisfied: scipy>=0.18.0 in /usr/local/lib/python2.7/site-packages (from pyldavis) (1.0.0)\n",
      "Requirement already satisfied: numpy>=1.9.2 in /usr/local/lib/python2.7/site-packages (from pyldavis) (1.16.2)\n",
      "Requirement already satisfied: jinja2>=2.7.2 in /usr/local/lib/python2.7/site-packages (from pyldavis) (2.10)\n",
      "Requirement already satisfied: pandas>=0.17.0 in /usr/local/lib/python2.7/site-packages (from pyldavis) (0.21.1)\n",
      "Requirement already satisfied: numexpr in /usr/local/lib/python2.7/site-packages (from pyldavis) (2.6.9)\n",
      "Requirement already satisfied: future in /usr/local/lib/python2.7/site-packages (from pyldavis) (0.16.0)\n",
      "Requirement already satisfied: pytest in /usr/local/lib/python2.7/site-packages (from pyldavis) (4.3.1)\n",
      "Requirement already satisfied: joblib>=0.8.4 in /usr/local/lib/python2.7/site-packages (from pyldavis) (0.13.2)\n",
      "Requirement already satisfied: wheel>=0.23.0 in /usr/local/lib/python2.7/site-packages (from pyldavis) (0.31.0)\n",
      "Requirement already satisfied: MarkupSafe>=0.23 in /usr/local/lib/python2.7/site-packages (from jinja2>=2.7.2->pyldavis) (1.0)\n",
      "Requirement already satisfied: pytz>=2011k in /usr/local/Cellar/matplotlib/2.0.0_1/libexec/lib/python2.7/site-packages (from pandas>=0.17.0->pyldavis) (2016.10)\n",
      "Requirement already satisfied: python-dateutil in /usr/local/Cellar/matplotlib/2.0.0_1/libexec/lib/python2.7/site-packages (from pandas>=0.17.0->pyldavis) (2.6.0)\n",
      "Requirement already satisfied: six>=1.10.0 in /usr/local/Cellar/matplotlib/2.0.0_1/libexec/lib/python2.7/site-packages (from pytest->pyldavis) (1.10.0)\n",
      "Requirement already satisfied: setuptools in /usr/local/lib/python2.7/site-packages (from pytest->pyldavis) (39.1.0)\n",
      "Requirement already satisfied: py>=1.5.0 in /usr/local/lib/python2.7/site-packages (from pytest->pyldavis) (1.8.0)\n",
      "Requirement already satisfied: atomicwrites>=1.0 in /usr/local/lib/python2.7/site-packages (from pytest->pyldavis) (1.3.0)\n",
      "Requirement already satisfied: pathlib2>=2.2.0; python_version < \"3.6\" in /usr/local/lib/python2.7/site-packages (from pytest->pyldavis) (2.3.2)\n",
      "Requirement already satisfied: funcsigs; python_version < \"3.0\" in /usr/local/lib/python2.7/site-packages (from pytest->pyldavis) (1.0.2)\n",
      "Requirement already satisfied: attrs>=17.4.0 in /usr/local/lib/python2.7/site-packages (from pytest->pyldavis) (19.1.0)\n"
     ]
    },
    {
     "name": "stdout",
     "output_type": "stream",
     "text": [
      "Requirement already satisfied: more-itertools<6.0.0,>=4.0.0; python_version <= \"2.7\" in /usr/local/lib/python2.7/site-packages (from pytest->pyldavis) (5.0.0)\n",
      "Requirement already satisfied: pluggy>=0.7 in /usr/local/lib/python2.7/site-packages (from pytest->pyldavis) (0.9.0)\n",
      "Requirement already satisfied: scandir; python_version < \"3.5\" in /usr/local/lib/python2.7/site-packages (from pathlib2>=2.2.0; python_version < \"3.6\"->pytest->pyldavis) (1.7)\n",
      "\u001b[31mgax-google-logging-v2 0.8.3 has requirement google-gax<0.13.0,>=0.12.5, but you'll have google-gax 0.15.16 which is incompatible.\u001b[0m\n",
      "\u001b[31mpyrebase 3.0.27 has requirement oauth2client==3.0.0, but you'll have oauth2client 4.1.3 which is incompatible.\u001b[0m\n",
      "\u001b[31mpyrebase 3.0.27 has requirement requests==2.11.1, but you'll have requests 2.21.0 which is incompatible.\u001b[0m\n",
      "\u001b[31mgax-google-pubsub-v1 0.8.3 has requirement google-gax<0.13.0,>=0.12.5, but you'll have google-gax 0.15.16 which is incompatible.\u001b[0m\n",
      "\u001b[33mYou are using pip version 10.0.1, however version 19.0.3 is available.\n",
      "You should consider upgrading via the 'pip install --upgrade pip' command.\u001b[0m\n",
      "Traceback (most recent call last):\n",
      "  File \"/usr/local/Cellar/python/2.7.13/Frameworks/Python.framework/Versions/2.7/lib/python2.7/runpy.py\", line 163, in _run_module_as_main\n",
      "    mod_name, _Error)\n",
      "  File \"/usr/local/Cellar/python/2.7.13/Frameworks/Python.framework/Versions/2.7/lib/python2.7/runpy.py\", line 111, in _get_module_details\n",
      "    __import__(mod_name)  # Do not catch exceptions initializing package\n",
      "  File \"/usr/local/Cellar/python/2.7.13/Frameworks/Python.framework/Versions/2.7/lib/python2.7/site-packages/spacy/__init__.py\", line 20, in <module>\n",
      "    raise SystemError(Errors.E130)\n",
      "SystemError: [E130] You are running a narrow unicode build, which is incompatible with spacy >= 2.1.0. To fix this, reinstall Python and use a wide unicode build instead. You can also rebuild Python and set the --enable-unicode=ucs4 flag.\n"
     ]
    }
   ],
   "source": [
    "!pip install PyDrive\n",
    "!pip install gensim\n",
    "!pip install pyldavis\n",
    "!python -m spacy download en"
   ]
  },
  {
   "cell_type": "code",
   "execution_count": 90,
   "metadata": {
    "colab": {
     "base_uri": "https://localhost:8080/",
     "height": 71.0
    },
    "colab_type": "code",
    "id": "z3LQhDUitB_I",
    "outputId": "be88b89d-e4fe-4371-fb8b-c9c030169fe9"
   },
   "outputs": [],
   "source": [
    "import os\n",
    "from pydrive.auth import GoogleAuth\n",
    "from pydrive.drive import GoogleDrive\n",
    "from google import auth\n",
    "from oauth2client.client import GoogleCredentials\n",
    "import nltk\n",
    "from nltk import FreqDist\n",
    "import pandas as pd\n",
    "import matplotlib.pyplot as plt\n",
    "import re\n",
    "# nltk.download('stopwords')"
   ]
  },
  {
   "cell_type": "code",
   "execution_count": 16,
   "metadata": {
    "colab": {},
    "colab_type": "code",
    "id": "UVOx_UHJtHlf"
   },
   "outputs": [
    {
     "ename": "AttributeError",
     "evalue": "module 'google.auth' has no attribute 'authenticate_user'",
     "traceback": [
      "\u001b[0;31m---------------------------------------------------------------------------\u001b[0m",
      "\u001b[0;31mAttributeError\u001b[0m                            Traceback (most recent call last)",
      "\u001b[0;32m<ipython-input-16-3254a9bed9fd>\u001b[0m in \u001b[0;36m<module>\u001b[0;34m\u001b[0m\n\u001b[0;32m----> 1\u001b[0;31m \u001b[0mauth\u001b[0m\u001b[0;34m.\u001b[0m\u001b[0mauthenticate_user\u001b[0m\u001b[0;34m(\u001b[0m\u001b[0;34m)\u001b[0m\u001b[0;34m\u001b[0m\u001b[0m\n\u001b[0m\u001b[1;32m      2\u001b[0m \u001b[0mgauth\u001b[0m \u001b[0;34m=\u001b[0m \u001b[0mGoogleAuth\u001b[0m\u001b[0;34m(\u001b[0m\u001b[0;34m)\u001b[0m\u001b[0;34m\u001b[0m\u001b[0m\n\u001b[1;32m      3\u001b[0m \u001b[0mgauth\u001b[0m\u001b[0;34m.\u001b[0m\u001b[0mcredentials\u001b[0m \u001b[0;34m=\u001b[0m \u001b[0mGoogleCredentials\u001b[0m\u001b[0;34m.\u001b[0m\u001b[0mget_application_default\u001b[0m\u001b[0;34m(\u001b[0m\u001b[0;34m)\u001b[0m\u001b[0;34m\u001b[0m\u001b[0m\n\u001b[1;32m      4\u001b[0m \u001b[0mdrive\u001b[0m \u001b[0;34m=\u001b[0m \u001b[0mGoogleDrive\u001b[0m\u001b[0;34m(\u001b[0m\u001b[0mgauth\u001b[0m\u001b[0;34m)\u001b[0m\u001b[0;34m\u001b[0m\u001b[0m\n",
      "\u001b[0;31mAttributeError\u001b[0m: module 'google.auth' has no attribute 'authenticate_user'"
     ],
     "output_type": "error"
    }
   ],
   "source": [
    "# auth.authenticate_user()\n",
    "# gauth = GoogleAuth()\n",
    "# gauth.credentials = GoogleCredentials.get_application_default()\n",
    "# drive = GoogleDrive(gauth)"
   ]
  },
  {
   "cell_type": "code",
   "execution_count": 0,
   "metadata": {
    "colab": {},
    "colab_type": "code",
    "id": "OKXm0rrnt1j4"
   },
   "outputs": [],
   "source": [
    "# download = drive.CreateFile({'id': '1-a2dbUDDHsmkWOXoDYvgvCa8WBkEMzbr'})"
   ]
  },
  {
   "cell_type": "code",
   "execution_count": 18,
   "metadata": {
    "colab": {
     "base_uri": "https://localhost:8080/",
     "height": 35.0
    },
    "colab_type": "code",
    "id": "TeAxx6Btuf-m",
    "outputId": "dbcf73e3-661b-40fd-a475-d57b4bd36df4"
   },
   "outputs": [
    {
     "name": "stdout",
     "output_type": "stream",
     "text": [
      "MoreCheckTM.ipynb    data.json\r\n",
      "auto_review.dict     topicmodeling.ipynb\r\n"
     ]
    }
   ],
   "source": [
    "ls"
   ]
  },
  {
   "cell_type": "code",
   "execution_count": 0,
   "metadata": {
    "colab": {},
    "colab_type": "code",
    "id": "1mR48mvAuYqP"
   },
   "outputs": [],
   "source": [
    "# download.GetContentFile('automotive_rev_json.gz')"
   ]
  },
  {
   "cell_type": "code",
   "execution_count": 37,
   "metadata": {
    "colab": {},
    "colab_type": "code",
    "id": "v7ftghxl_SzE"
   },
   "outputs": [],
   "source": [
    "import pandas as pd\n",
    "pd.set_option(\"display.max_colwidth\", 200)\n",
    "import numpy as np\n",
    "import json\n",
    "import re\n",
    "import gzip\n",
    "# import spacy\n",
    "\n",
    "import gensim\n",
    "from gensim import corpora\n",
    "\n",
    "import pyLDAvis\n",
    "import pyLDAvis.gensim\n",
    "import matplotlib.pyplot as plt\n",
    "import seaborn as sns\n",
    "%matplotlib inline"
   ]
  },
  {
   "cell_type": "code",
   "execution_count": 38,
   "metadata": {
    "colab": {},
    "colab_type": "code",
    "id": "k-_gLizownvx"
   },
   "outputs": [],
   "source": [
    "def parse(path):\n",
    "  g = gzip.open(path, 'rb')\n",
    "  for l in g:\n",
    "    yield eval(l)\n",
    "    \n",
    "def getDF(path):\n",
    "  i = 0\n",
    "  df = {}\n",
    "  for d in parse(path):\n",
    "    df[i] = d\n",
    "    i += 1\n",
    "  return pd.DataFrame.from_dict(df, orient='index')"
   ]
  },
  {
   "cell_type": "code",
   "execution_count": 39,
   "metadata": {
    "colab": {
     "base_uri": "https://localhost:8080/",
     "height": 35.0
    },
    "colab_type": "code",
    "id": "FPle7KMpCVuc",
    "outputId": "0e836477-df77-4f96-8df5-3319afddfb50"
   },
   "outputs": [
    {
     "data": {
      "text/plain": [
       "(15, 4)"
      ]
     },
     "execution_count": 39,
     "metadata": {},
     "output_type": "execute_result"
    }
   ],
   "source": [
    "# df = getDF('automotive_rev_json.gz')\n",
    "df = pd.read_json('data.json')\n",
    "df.shape"
   ]
  },
  {
   "cell_type": "code",
   "execution_count": 40,
   "metadata": {
    "colab": {
     "base_uri": "https://localhost:8080/",
     "height": 459.0
    },
    "colab_type": "code",
    "id": "17zMP_rlEnCo",
    "outputId": "7f4dcd45-133b-49a5-b5fe-7f85e8d741b6"
   },
   "outputs": [
    {
     "data": {
      "text/html": [
       "<div>\n",
       "<style scoped>\n",
       "    .dataframe tbody tr th:only-of-type {\n",
       "        vertical-align: middle;\n",
       "    }\n",
       "\n",
       "    .dataframe tbody tr th {\n",
       "        vertical-align: top;\n",
       "    }\n",
       "\n",
       "    .dataframe thead th {\n",
       "        text-align: right;\n",
       "    }\n",
       "</style>\n",
       "<table border=\"1\" class=\"dataframe\">\n",
       "  <thead>\n",
       "    <tr style=\"text-align: right;\">\n",
       "      <th></th>\n",
       "      <th>id</th>\n",
       "      <th>location</th>\n",
       "      <th>name</th>\n",
       "      <th>reviews</th>\n",
       "    </tr>\n",
       "  </thead>\n",
       "  <tbody>\n",
       "    <tr>\n",
       "      <th>0</th>\n",
       "      <td>wKKRoSg1pZQtQRYPoD7TXg</td>\n",
       "      <td>{'address2': 'Ste 500', 'address3': '', 'zip_code': '30309', 'state': 'GA', 'city': 'Atlanta', 'address1': '903 Peachtree St', 'display_address': ['903 Peachtree St', 'Ste 500', 'Atlanta, GA 30309...</td>\n",
       "      <td>t-mobile-atlanta-13</td>\n",
       "      <td>[[Was in town for work and had issues with my phone and service. This T-mobile is one of the earliest one to open; and they're right at midtown, so I went in right at 9am. The customer service rep...</td>\n",
       "    </tr>\n",
       "    <tr>\n",
       "      <th>1</th>\n",
       "      <td>8hXzJzOb3K1eFor0oNrPWA</td>\n",
       "      <td>{'address2': 'Ste 105', 'address3': '', 'zip_code': '30305', 'state': 'GA', 'city': 'Atlanta', 'address1': '2900 Peachtree Rd NW', 'display_address': ['2900 Peachtree Rd NW', 'Ste 105', 'Atlanta, ...</td>\n",
       "      <td>t-mobile-atlanta-3</td>\n",
       "      <td>[[The customer service is off the charts!!! The staff went above and beyond to help!!! I had a great experience!!!, 5.0, \\n        3/2/2019\\n    ], [Where are the workers? Why am I having to wait ...</td>\n",
       "    </tr>\n",
       "    <tr>\n",
       "      <th>2</th>\n",
       "      <td>z-ldpf_9VxZjITfBb7Lnkg</td>\n",
       "      <td>{'address2': 'Ste 100', 'address3': None, 'zip_code': '30346', 'state': 'GA', 'city': 'Atlanta', 'address1': '1161 Hammond Dr', 'display_address': ['1161 Hammond Dr', 'Ste 100', 'Atlanta, GA 30346...</td>\n",
       "      <td>t-mobile-atlanta-39</td>\n",
       "      <td>[[If you haven't been to see us in over a year then come and check out our newly remodeled store and wonderful new staff., 5.0, \\n        11/24/2018\\n    ], [\"We can't help you because it gives us...</td>\n",
       "    </tr>\n",
       "    <tr>\n",
       "      <th>3</th>\n",
       "      <td>qiAckHMVZQScy2U9nvSCmQ</td>\n",
       "      <td>{'address2': 'Ste 480', 'address3': '', 'zip_code': '30106', 'state': 'GA', 'city': 'Austell', 'address1': '1757 E West Connector', 'display_address': ['1757 E West Connector', 'Ste 480', 'Austell...</td>\n",
       "      <td>t-mobile-austell</td>\n",
       "      <td>[[Kudos to Tatiana! My daughter need a screen cover for her IPhone and we were treated as if we were buying a new $1,000 phone. Super nice and very hospitable.  Thanks!, 5.0, \\n        10/18/2018\\...</td>\n",
       "    </tr>\n",
       "    <tr>\n",
       "      <th>4</th>\n",
       "      <td>9oHGS1knSS3uAHsf2sqxRg</td>\n",
       "      <td>{'address2': 'Ste 13', 'address3': None, 'zip_code': '30047', 'state': 'GA', 'city': 'Lilburn', 'address1': '4145 Lawrenceville Hwy NW', 'display_address': ['4145 Lawrenceville Hwy NW', 'Ste 13', ...</td>\n",
       "      <td>t-mobile-lilburn-2</td>\n",
       "      <td>[[I would like to start by saying I was pleasantly surprised and extremely satisfied with the level of customer service I received along with the  professionalism displayed at this location. Let's...</td>\n",
       "    </tr>\n",
       "  </tbody>\n",
       "</table>\n",
       "</div>"
      ],
      "text/plain": [
       "                       id  \\\n",
       "0  wKKRoSg1pZQtQRYPoD7TXg   \n",
       "1  8hXzJzOb3K1eFor0oNrPWA   \n",
       "2  z-ldpf_9VxZjITfBb7Lnkg   \n",
       "3  qiAckHMVZQScy2U9nvSCmQ   \n",
       "4  9oHGS1knSS3uAHsf2sqxRg   \n",
       "\n",
       "                                                                                                                                                                                                  location  \\\n",
       "0  {'address2': 'Ste 500', 'address3': '', 'zip_code': '30309', 'state': 'GA', 'city': 'Atlanta', 'address1': '903 Peachtree St', 'display_address': ['903 Peachtree St', 'Ste 500', 'Atlanta, GA 30309...   \n",
       "1  {'address2': 'Ste 105', 'address3': '', 'zip_code': '30305', 'state': 'GA', 'city': 'Atlanta', 'address1': '2900 Peachtree Rd NW', 'display_address': ['2900 Peachtree Rd NW', 'Ste 105', 'Atlanta, ...   \n",
       "2  {'address2': 'Ste 100', 'address3': None, 'zip_code': '30346', 'state': 'GA', 'city': 'Atlanta', 'address1': '1161 Hammond Dr', 'display_address': ['1161 Hammond Dr', 'Ste 100', 'Atlanta, GA 30346...   \n",
       "3  {'address2': 'Ste 480', 'address3': '', 'zip_code': '30106', 'state': 'GA', 'city': 'Austell', 'address1': '1757 E West Connector', 'display_address': ['1757 E West Connector', 'Ste 480', 'Austell...   \n",
       "4  {'address2': 'Ste 13', 'address3': None, 'zip_code': '30047', 'state': 'GA', 'city': 'Lilburn', 'address1': '4145 Lawrenceville Hwy NW', 'display_address': ['4145 Lawrenceville Hwy NW', 'Ste 13', ...   \n",
       "\n",
       "                  name  \\\n",
       "0  t-mobile-atlanta-13   \n",
       "1   t-mobile-atlanta-3   \n",
       "2  t-mobile-atlanta-39   \n",
       "3     t-mobile-austell   \n",
       "4   t-mobile-lilburn-2   \n",
       "\n",
       "                                                                                                                                                                                                   reviews  \n",
       "0  [[Was in town for work and had issues with my phone and service. This T-mobile is one of the earliest one to open; and they're right at midtown, so I went in right at 9am. The customer service rep...  \n",
       "1  [[The customer service is off the charts!!! The staff went above and beyond to help!!! I had a great experience!!!, 5.0, \\n        3/2/2019\\n    ], [Where are the workers? Why am I having to wait ...  \n",
       "2  [[If you haven't been to see us in over a year then come and check out our newly remodeled store and wonderful new staff., 5.0, \\n        11/24/2018\\n    ], [\"We can't help you because it gives us...  \n",
       "3  [[Kudos to Tatiana! My daughter need a screen cover for her IPhone and we were treated as if we were buying a new $1,000 phone. Super nice and very hospitable.  Thanks!, 5.0, \\n        10/18/2018\\...  \n",
       "4  [[I would like to start by saying I was pleasantly surprised and extremely satisfied with the level of customer service I received along with the  professionalism displayed at this location. Let's...  "
      ]
     },
     "execution_count": 40,
     "metadata": {},
     "output_type": "execute_result"
    }
   ],
   "source": [
    "df.head()"
   ]
  },
  {
   "cell_type": "code",
   "execution_count": 41,
   "metadata": {},
   "outputs": [],
   "source": [
    "all_reviews = []\n",
    "for i in range(len(df)):\n",
    "    for j in range(len(df.loc[i]['reviews'])):\n",
    "        all_reviews.append(df.loc[i]['reviews'][j][0])"
   ]
  },
  {
   "cell_type": "code",
   "execution_count": 42,
   "metadata": {
    "colab": {},
    "colab_type": "code",
    "id": "jjLyeSxg41OQ"
   },
   "outputs": [],
   "source": [
    "def freq_words(x, terms = 30):\n",
    "  all_words = ' '.join([text for text in x])\n",
    "  all_words = all_words.split()\n",
    "  \n",
    "  fdist = FreqDist(all_words)\n",
    "  words_df = pd.DataFrame({'word':list(fdist.keys()), 'count':list(fdist.values())})\n",
    "  \n",
    "  # selecting top 20 most frequent words\n",
    "  d = words_df.nlargest(columns=\"count\", n = terms) \n",
    "  plt.figure(figsize=(20,5))\n",
    "  ax = sns.barplot(data=d, x= \"word\", y = \"count\")\n",
    "  ax.set(ylabel = 'Count')\n",
    "  plt.show()"
   ]
  },
  {
   "cell_type": "code",
   "execution_count": 43,
   "metadata": {
    "colab": {
     "base_uri": "https://localhost:8080/",
     "height": 426.0
    },
    "colab_type": "code",
    "id": "pennLlyl5Whp",
    "outputId": "057ab4de-0c87-4d9a-edf8-7a4bbc7e8949"
   },
   "outputs": [
    {
     "name": "stderr",
     "output_type": "stream",
     "text": [
      "/Library/Frameworks/Python.framework/Versions/3.7/lib/python3.7/site-packages/matplotlib/cbook/__init__.py:2349: DeprecationWarning: Using or importing the ABCs from 'collections' instead of from 'collections.abc' is deprecated, and in 3.8 it will stop working\n",
      "  if isinstance(obj, collections.Iterator):\n",
      "/Library/Frameworks/Python.framework/Versions/3.7/lib/python3.7/site-packages/matplotlib/cbook/__init__.py:2366: DeprecationWarning: Using or importing the ABCs from 'collections' instead of from 'collections.abc' is deprecated, and in 3.8 it will stop working\n",
      "  return list(data) if isinstance(data, collections.MappingView) else data\n"
     ]
    },
    {
     "data": {
      "image/png": "[encoded data removed]",
      "text/plain": [
       "<Figure size 1440x360 with 1 Axes>"
      ]
     },
     "metadata": {
      "needs_background": "light"
     },
     "output_type": "display_data"
    }
   ],
   "source": [
    "# freq_words(df['reviewText'])\n",
    "freq_words(all_reviews)"
   ]
  },
  {
   "cell_type": "code",
   "execution_count": 96,
   "metadata": {
    "colab": {},
    "colab_type": "code",
    "id": "jUc1_gTcLfYt"
   },
   "outputs": [],
   "source": [
    "# replace \"n't\" with \" not\"\n",
    "all_reviews = [rev.replace(\"n\\'t\", \" not\") for rev in all_reviews]\n",
    "\n",
    "punctuation = re.compile(r'[-.?!,\":;()\\'|0-9]')\n",
    "# remove unwanted characters, numbers and symbols\n",
    "all_reviews = [rev.replace(\"[^a-zA-Z#]\", \" \") for rev in all_reviews ]\n",
    "\n",
    "all_reviews = [punctuation.sub(\"\", rev) for rev in all_reviews ]"
   ]
  },
  {
   "cell_type": "code",
   "execution_count": 97,
   "metadata": {
    "colab": {
     "base_uri": "https://localhost:8080/",
     "height": 426.0
    },
    "colab_type": "code",
    "id": "wUUY2XIj6dF_",
    "outputId": "1af3a5d2-8890-4de1-fc54-9a67f5581a40"
   },
   "outputs": [
    {
     "data": {
      "image/png": "[encoded data removed]",
      "text/plain": [
       "<Figure size 1440x360 with 1 Axes>"
      ]
     },
     "metadata": {
      "needs_background": "light"
     },
     "output_type": "display_data"
    }
   ],
   "source": [
    "freq_words(all_reviews)"
   ]
  },
  {
   "cell_type": "code",
   "execution_count": 98,
   "metadata": {
    "colab": {},
    "colab_type": "code",
    "id": "nshGCS0WGLlQ"
   },
   "outputs": [],
   "source": [
    "from nltk.corpus import stopwords\n",
    "stop_words = stopwords.words('english')"
   ]
  },
  {
   "cell_type": "code",
   "execution_count": 99,
   "metadata": {
    "colab": {},
    "colab_type": "code",
    "id": "B8MogVp8vC6l"
   },
   "outputs": [],
   "source": [
    "# function to remove stopwords\n",
    "def remove_stopwords(rev):\n",
    "    rev_new = \" \".join([i for i in rev if i not in stop_words and len(i) > 2])\n",
    "    return rev_new"
   ]
  },
  {
   "cell_type": "code",
   "execution_count": 100,
   "metadata": {},
   "outputs": [
    {
     "data": {
      "text/plain": [
       "'This cat'"
      ]
     },
     "execution_count": 100,
     "metadata": {},
     "output_type": "execute_result"
    }
   ],
   "source": [
    "remove_stopwords(\"This cat\".split())"
   ]
  },
  {
   "cell_type": "code",
   "execution_count": 101,
   "metadata": {
    "colab": {},
    "colab_type": "code",
    "id": "KYxtiTbOwULK"
   },
   "outputs": [],
   "source": [
    "# make entire text lowercase\n",
    "all_reviews = [r.lower() for r in all_reviews]\n",
    "\n",
    "# remove short words (length < 3)\n",
    "all_reviews = [rev for rev in all_reviews if len(rev) > 2]\n",
    "\n",
    "# remove stopwords from the text\n",
    "reviews = [remove_stopwords(r.split()) for r in all_reviews]\n"
   ]
  },
  {
   "cell_type": "code",
   "execution_count": 102,
   "metadata": {
    "colab": {
     "base_uri": "https://localhost:8080/",
     "height": 426.0
    },
    "colab_type": "code",
    "id": "9eSP1Ruj9fdT",
    "outputId": "1bfc8f92-c390-4d1c-cfa3-ed6b9982271f"
   },
   "outputs": [
    {
     "data": {
      "image/png": "[encoded data removed]",
      "text/plain": [
       "<Figure size 1440x360 with 1 Axes>"
      ]
     },
     "metadata": {
      "needs_background": "light"
     },
     "output_type": "display_data"
    }
   ],
   "source": [
    "freq_words(reviews, 35)"
   ]
  },
  {
   "cell_type": "code",
   "execution_count": 164,
   "metadata": {
    "colab": {},
    "colab_type": "code",
    "id": "jZ6TkR4w_kwq"
   },
   "outputs": [],
   "source": [
    "from nltk.stem import WordNetLemmatizer \n",
    "  \n",
    "lemmatizer = WordNetLemmatizer()\n",
    "\n",
    "def lemmatization(texts, tags=['JJ', 'JJR', 'JJS']):\n",
    "    output = []\n",
    "    for sent in texts:\n",
    "        spec_sent = []\n",
    "        for word in sent:\n",
    "            pos = nltk.pos_tag([word])[0][1]\n",
    "            if pos in tags:\n",
    "                spec_sent.append(punctuation.sub(\"\",lemmatizer.lemmatize(word)))\n",
    "        output.append(spec_sent)\n",
    "#         print(lemmatizer.lemmatize(sent))\n",
    "#         output.append(lemmatizer.lemmatize(sent))\n",
    "#         doc = nlp(\" \".join(sent)) \n",
    "#         output.append([token.lemma_ for token in doc if token.pos_ in tags])\n",
    "    return output"
   ]
  },
  {
   "cell_type": "code",
   "execution_count": 165,
   "metadata": {
    "colab": {},
    "colab_type": "code",
    "id": "A_r_uxa3Icq0"
   },
   "outputs": [
    {
     "name": "stdout",
     "output_type": "stream",
     "text": [
      "['came', 'upgrade', 'two', 'months', 'ago', 'really', 'anyone', 'quiet', 'place', 'well', 'organized', 'associates', 'helpful', 'upgrade', 'process', 'although', 'bit', 'trouble', 'trying', 'get', 'new', 'device', '#teammagenta', 'answer', 'questions', 'may', 'ill', 'going', 'upgrades']\n"
     ]
    }
   ],
   "source": [
    "tokenized_reviews = pd.Series(reviews).apply(lambda x: x.split())\n",
    "print(tokenized_reviews[1])"
   ]
  },
  {
   "cell_type": "code",
   "execution_count": 166,
   "metadata": {
    "colab": {
     "base_uri": "https://localhost:8080/",
     "height": 73.0
    },
    "colab_type": "code",
    "id": "OKGHMX01NlBa",
    "outputId": "74723838-835d-4ecc-dc02-6aa7d3b11811"
   },
   "outputs": [
    {
     "name": "stdout",
     "output_type": "stream",
     "text": [
      "['came', 'upgrade', 'two', 'months', 'ago', 'really', 'anyone', 'quiet', 'place', 'well', 'organized', 'associates', 'helpful', 'upgrade', 'process', 'although', 'bit', 'trouble', 'trying', 'get', 'new', 'device', '#teammagenta', 'answer', 'questions', 'may', 'ill', 'going', 'upgrades']\n"
     ]
    },
    {
     "data": {
      "text/plain": [
       "29"
      ]
     },
     "execution_count": 166,
     "metadata": {},
     "output_type": "execute_result"
    }
   ],
   "source": [
    "print(tokenized_reviews[1])\n",
    "len(tokenized_reviews[1])"
   ]
  },
  {
   "cell_type": "code",
   "execution_count": 167,
   "metadata": {
    "colab": {},
    "colab_type": "code",
    "id": "tRUfUgkD_k24"
   },
   "outputs": [
    {
     "name": "stdout",
     "output_type": "stream",
     "text": [
      "['quiet', 'new']\n"
     ]
    }
   ],
   "source": [
    "reviews_2 = lemmatization(tokenized_reviews)\n",
    "print(reviews_2[1])"
   ]
  },
  {
   "cell_type": "code",
   "execution_count": 168,
   "metadata": {
    "colab": {
     "base_uri": "https://localhost:8080/",
     "height": 73.0
    },
    "colab_type": "code",
    "id": "3Iw8zFgu_lC3",
    "outputId": "a04236f4-0f32-4551-9621-9f69fa439b85"
   },
   "outputs": [
    {
     "name": "stdout",
     "output_type": "stream",
     "text": [
      "['quiet', 'new']\n"
     ]
    },
    {
     "data": {
      "text/plain": [
       "2"
      ]
     },
     "execution_count": 168,
     "metadata": {},
     "output_type": "execute_result"
    }
   ],
   "source": [
    "print(reviews_2[1])\n",
    "len(reviews_2[1])"
   ]
  },
  {
   "cell_type": "code",
   "execution_count": 169,
   "metadata": {
    "colab": {
     "base_uri": "https://localhost:8080/",
     "height": 251.0
    },
    "colab_type": "code",
    "id": "4xggnZ-u_lHd",
    "outputId": "0bd6f14e-acbe-4fe6-969c-4480a90640c6"
   },
   "outputs": [
    {
     "data": {
      "text/plain": [
       "{'#teammagenta',\n",
       " 'ago',\n",
       " 'although',\n",
       " 'answer',\n",
       " 'anyone',\n",
       " 'associates',\n",
       " 'bit',\n",
       " 'came',\n",
       " 'device',\n",
       " 'get',\n",
       " 'going',\n",
       " 'helpful',\n",
       " 'ill',\n",
       " 'may',\n",
       " 'months',\n",
       " 'organized',\n",
       " 'place',\n",
       " 'process',\n",
       " 'questions',\n",
       " 'really',\n",
       " 'trouble',\n",
       " 'trying',\n",
       " 'two',\n",
       " 'upgrade',\n",
       " 'upgrades',\n",
       " 'well'}"
      ]
     },
     "execution_count": 169,
     "metadata": {},
     "output_type": "execute_result"
    }
   ],
   "source": [
    "set(tokenized_reviews[1]) - set(reviews_2[1])"
   ]
  },
  {
   "cell_type": "code",
   "execution_count": 170,
   "metadata": {
    "colab": {},
    "colab_type": "code",
    "id": "aZ9ZPfO-CEmD"
   },
   "outputs": [],
   "source": [
    "reviews_3 = []\n",
    "for i in range(len(reviews_2)):\n",
    "    reviews_3.append(' '.join(reviews_2[i]))\n",
    "    \n",
    "new_reviews = reviews_3"
   ]
  },
  {
   "cell_type": "code",
   "execution_count": 171,
   "metadata": {
    "colab": {
     "base_uri": "https://localhost:8080/",
     "height": 426.0
    },
    "colab_type": "code",
    "id": "Zyj9zVQqCY6R",
    "outputId": "a71332fc-e6bf-4581-e3f8-4fb081bbb8f1"
   },
   "outputs": [
    {
     "name": "stdout",
     "output_type": "stream",
     "text": [
      "122\n"
     ]
    },
    {
     "data": {
      "image/png": "[encoded data removed]",
      "text/plain": [
       "<Figure size 1440x360 with 1 Axes>"
      ]
     },
     "metadata": {
      "needs_background": "light"
     },
     "output_type": "display_data"
    }
   ],
   "source": [
    "print(len(new_reviews))\n",
    "freq_words(new_reviews, 35)"
   ]
  },
  {
   "cell_type": "code",
   "execution_count": 172,
   "metadata": {
    "colab": {},
    "colab_type": "code",
    "id": "FBtKwstViu_h"
   },
   "outputs": [],
   "source": [
    "# Create the term dictionary of our corpus, where every unique term is assigned an index\n",
    "dictionary = corpora.Dictionary(reviews_2)"
   ]
  },
  {
   "cell_type": "code",
   "execution_count": 173,
   "metadata": {
    "colab": {},
    "colab_type": "code",
    "id": "rDoMrZfkiu-c"
   },
   "outputs": [],
   "source": [
    "# Convert list of reviews (reviews_2) into a Document Term Matrix using the dictionary prepared above.\n",
    "doc_term_matrix = [dictionary.doc2bow(rev) for rev in reviews_2]"
   ]
  },
  {
   "cell_type": "code",
   "execution_count": 174,
   "metadata": {
    "colab": {},
    "colab_type": "code",
    "id": "X6JSF612qkm1"
   },
   "outputs": [],
   "source": [
    "# Creating the object for LDA model using gensim library\n",
    "LDA = gensim.models.ldamodel.LdaModel"
   ]
  },
  {
   "cell_type": "code",
   "execution_count": 175,
   "metadata": {
    "colab": {},
    "colab_type": "code",
    "id": "U8MLxPhRiuh6"
   },
   "outputs": [],
   "source": [
    "# Build LDA model\n",
    "lda_model = LDA(corpus=doc_term_matrix,\n",
    "                id2word=dictionary,\n",
    "                num_topics=15, \n",
    "                random_state=100,\n",
    "                chunksize=1000,\n",
    "                passes=50)"
   ]
  },
  {
   "cell_type": "code",
   "execution_count": 176,
   "metadata": {
    "colab": {
     "base_uri": "https://localhost:8080/",
     "height": 289.0
    },
    "colab_type": "code",
    "id": "TB5lGOR3iucK",
    "outputId": "a6c66aa2-34c9-4b80-bc56-601eed395193"
   },
   "outputs": [
    {
     "data": {
      "text/plain": [
       "(0,\n",
       " '0.099*\"different\" + 0.040*\"free\" + 0.040*\"able\" + 0.040*\"second\" + 0.040*\"wrong\" + 0.040*\"nice\" + 0.040*\"good\" + 0.021*\"private\" + 0.021*\"short\" + 0.021*\"international\"')"
      ]
     },
     "execution_count": 176,
     "metadata": {},
     "output_type": "execute_result"
    }
   ],
   "source": [
    "lda_model.print_topics()[0]"
   ]
  },
  {
   "cell_type": "code",
   "execution_count": 177,
   "metadata": {
    "colab": {
     "base_uri": "https://localhost:8080/",
     "height": 860.0
    },
    "colab_type": "code",
    "id": "4nRZyKPDCauL",
    "outputId": "b0ef59ff-5204-4ea1-80c9-f100cc9bf1cb"
   },
   "outputs": [
    {
     "name": "stderr",
     "output_type": "stream",
     "text": [
      "/Library/Frameworks/Python.framework/Versions/3.7/lib/python3.7/site-packages/pyLDAvis/_prepare.py:257: FutureWarning: Sorting because non-concatenation axis is not aligned. A future version\n",
      "of pandas will change to not sort by default.\n",
      "\n",
      "To accept the future behavior, pass 'sort=False'.\n",
      "\n",
      "To retain the current behavior and silence the warning, pass 'sort=True'.\n",
      "\n",
      "  return pd.concat([default_term_info] + list(topic_dfs))\n"
     ]
    },
    {
     "data": {
      "text/html": [
       "\n",
       "<link rel=\"stylesheet\" type=\"text/css\" href=\"https://cdn.rawgit.com/bmabey/pyLDAvis/files/ldavis.v1.0.0.css\">\n",
       "\n",
       "\n",
       "<div id=\"ldavis_el1720149047440641379778570\"></div>\n",
       "<script type=\"text/javascript\">\n",
       "\n",
       "var ldavis_el1720149047440641379778570_data = {\"mdsDat\": {\"x\": [0.10102165435684306, 0.02865904417826785, 0.05277820280519712, 0.058741009655116264, -0.1652460391489005, -0.004467001898341955, -0.10273628182192425, 0.047653807154352926, 0.20455846502458455, 0.06724214032970238, -0.0742284465621034, -0.07315800976650097, -0.1064207759013886, -0.055931833851646254, 0.02153406544674231], \"y\": [0.015665762317257692, -0.1460352068238868, 0.10927069374548383, -0.03457329997107665, -0.03304166566190886, 0.01647996586385626, -0.08386662449120517, -0.0011415176995937847, -0.02305319500679655, -0.07895011787415832, 0.19323890548332212, -0.05268234635115533, -0.01540088261583253, -0.011695401103295866, 0.14578493018898936], \"topics\": [1, 2, 3, 4, 5, 6, 7, 8, 9, 10, 11, 12, 13, 14, 15], \"cluster\": [1, 1, 1, 1, 1, 1, 1, 1, 1, 1, 1, 1, 1, 1, 1], \"Freq\": [13.03677749633789, 9.977703094482422, 8.52835750579834, 8.190413475036621, 7.731670379638672, 7.725821495056152, 7.626657009124756, 6.377567291259766, 6.099244117736816, 5.92503023147583, 5.365081310272217, 4.055345058441162, 3.8983848094940186, 2.977473020553589, 2.4844777584075928]}, \"tinfo\": {\"Category\": [\"Default\", \"Default\", \"Default\", \"Default\", \"Default\", \"Default\", \"Default\", \"Default\", \"Default\", \"Default\", \"Default\", \"Default\", \"Default\", \"Default\", \"Default\", \"Default\", \"Default\", \"Default\", \"Default\", \"Default\", \"Default\", \"Default\", \"Default\", \"Default\", \"Default\", \"Default\", \"Default\", \"Default\", \"Default\", \"Default\", \"Topic1\", \"Topic1\", \"Topic1\", \"Topic1\", \"Topic1\", \"Topic1\", \"Topic1\", \"Topic1\", \"Topic1\", \"Topic1\", \"Topic1\", \"Topic1\", \"Topic1\", \"Topic1\", \"Topic1\", \"Topic1\", \"Topic1\", \"Topic1\", \"Topic1\", \"Topic1\", \"Topic1\", \"Topic1\", \"Topic1\", \"Topic1\", \"Topic1\", \"Topic1\", \"Topic1\", \"Topic1\", \"Topic1\", \"Topic1\", \"Topic1\", \"Topic1\", \"Topic1\", \"Topic1\", \"Topic1\", \"Topic1\", \"Topic1\", \"Topic1\", \"Topic1\", \"Topic1\", \"Topic2\", \"Topic2\", \"Topic2\", \"Topic2\", \"Topic2\", \"Topic2\", \"Topic2\", \"Topic2\", \"Topic2\", \"Topic2\", \"Topic2\", \"Topic2\", \"Topic2\", \"Topic2\", \"Topic2\", \"Topic2\", \"Topic2\", \"Topic2\", \"Topic2\", \"Topic2\", \"Topic2\", \"Topic2\", \"Topic2\", \"Topic2\", \"Topic2\", \"Topic2\", \"Topic2\", \"Topic2\", \"Topic2\", \"Topic2\", \"Topic2\", \"Topic3\", \"Topic3\", \"Topic3\", \"Topic3\", \"Topic3\", \"Topic3\", \"Topic3\", \"Topic3\", \"Topic3\", \"Topic3\", \"Topic3\", \"Topic3\", \"Topic3\", \"Topic3\", \"Topic3\", \"Topic3\", \"Topic3\", \"Topic3\", \"Topic3\", \"Topic3\", \"Topic3\", \"Topic3\", \"Topic3\", \"Topic3\", \"Topic3\", \"Topic3\", \"Topic3\", \"Topic3\", \"Topic3\", \"Topic3\", \"Topic3\", \"Topic4\", \"Topic4\", \"Topic4\", \"Topic4\", \"Topic4\", \"Topic4\", \"Topic4\", \"Topic4\", \"Topic4\", \"Topic4\", \"Topic4\", \"Topic4\", \"Topic4\", \"Topic4\", \"Topic4\", \"Topic4\", \"Topic4\", \"Topic4\", \"Topic4\", \"Topic4\", \"Topic4\", \"Topic4\", \"Topic4\", \"Topic4\", \"Topic4\", \"Topic4\", \"Topic4\", \"Topic4\", \"Topic4\", \"Topic4\", \"Topic4\", \"Topic4\", \"Topic4\", \"Topic4\", \"Topic4\", \"Topic5\", \"Topic5\", \"Topic5\", \"Topic5\", \"Topic5\", \"Topic5\", \"Topic5\", \"Topic5\", \"Topic5\", \"Topic5\", \"Topic5\", \"Topic5\", \"Topic5\", \"Topic5\", \"Topic5\", \"Topic5\", \"Topic5\", \"Topic5\", \"Topic5\", \"Topic5\", \"Topic5\", \"Topic5\", \"Topic5\", \"Topic5\", \"Topic5\", \"Topic5\", \"Topic5\", \"Topic5\", \"Topic5\", \"Topic5\", \"Topic5\", \"Topic5\", \"Topic5\", \"Topic5\", \"Topic5\", \"Topic5\", \"Topic5\", \"Topic5\", \"Topic6\", \"Topic6\", \"Topic6\", \"Topic6\", \"Topic6\", \"Topic6\", \"Topic6\", \"Topic6\", \"Topic6\", \"Topic6\", \"Topic6\", \"Topic6\", \"Topic6\", \"Topic6\", \"Topic6\", \"Topic6\", \"Topic6\", \"Topic6\", \"Topic6\", \"Topic6\", \"Topic6\", \"Topic6\", \"Topic6\", \"Topic6\", \"Topic6\", \"Topic6\", \"Topic6\", \"Topic6\", \"Topic6\", \"Topic6\", \"Topic6\", \"Topic6\", \"Topic6\", \"Topic6\", \"Topic6\", \"Topic6\", \"Topic6\", \"Topic6\", \"Topic6\", \"Topic6\", \"Topic6\", \"Topic6\", \"Topic7\", \"Topic7\", \"Topic7\", \"Topic7\", \"Topic7\", \"Topic7\", \"Topic7\", \"Topic7\", \"Topic7\", \"Topic7\", \"Topic7\", \"Topic7\", \"Topic7\", \"Topic7\", \"Topic7\", \"Topic7\", \"Topic7\", \"Topic7\", \"Topic7\", \"Topic7\", \"Topic7\", \"Topic7\", \"Topic7\", \"Topic7\", \"Topic7\", \"Topic7\", \"Topic7\", \"Topic7\", \"Topic7\", \"Topic7\", \"Topic7\", \"Topic7\", \"Topic7\", \"Topic8\", \"Topic8\", \"Topic8\", \"Topic8\", \"Topic8\", \"Topic8\", \"Topic8\", \"Topic8\", \"Topic8\", \"Topic8\", \"Topic8\", \"Topic8\", \"Topic8\", \"Topic8\", \"Topic8\", \"Topic8\", \"Topic8\", \"Topic8\", \"Topic8\", \"Topic8\", \"Topic8\", \"Topic8\", \"Topic8\", \"Topic8\", \"Topic8\", \"Topic8\", \"Topic8\", \"Topic8\", \"Topic8\", \"Topic8\", \"Topic8\", \"Topic8\", \"Topic9\", \"Topic9\", \"Topic9\", \"Topic9\", \"Topic9\", \"Topic9\", \"Topic9\", \"Topic9\", \"Topic9\", \"Topic9\", \"Topic9\", \"Topic9\", \"Topic9\", \"Topic9\", \"Topic9\", \"Topic9\", \"Topic9\", \"Topic9\", \"Topic9\", \"Topic9\", \"Topic9\", \"Topic9\", \"Topic9\", \"Topic9\", \"Topic9\", \"Topic9\", \"Topic9\", \"Topic9\", \"Topic9\", \"Topic9\", \"Topic9\", \"Topic9\", \"Topic9\", \"Topic9\", \"Topic9\", \"Topic9\", \"Topic9\", \"Topic9\", \"Topic9\", \"Topic9\", \"Topic9\", \"Topic9\", \"Topic10\", \"Topic10\", \"Topic10\", \"Topic10\", \"Topic10\", \"Topic10\", \"Topic10\", \"Topic10\", \"Topic10\", \"Topic10\", \"Topic10\", \"Topic10\", \"Topic10\", \"Topic10\", \"Topic10\", \"Topic10\", \"Topic10\", \"Topic10\", \"Topic10\", \"Topic10\", \"Topic10\", \"Topic10\", \"Topic10\", \"Topic10\", \"Topic10\", \"Topic10\", \"Topic10\", \"Topic10\", \"Topic10\", \"Topic10\", \"Topic10\", \"Topic11\", \"Topic11\", \"Topic11\", \"Topic11\", \"Topic11\", \"Topic11\", \"Topic11\", \"Topic11\", \"Topic11\", \"Topic11\", \"Topic11\", \"Topic11\", \"Topic11\", \"Topic11\", \"Topic11\", \"Topic11\", \"Topic11\", \"Topic11\", \"Topic11\", \"Topic11\", \"Topic11\", \"Topic11\", \"Topic11\", \"Topic11\", \"Topic11\", \"Topic11\", \"Topic11\", \"Topic11\", \"Topic11\", \"Topic11\", \"Topic11\", \"Topic11\", \"Topic11\", \"Topic11\", \"Topic11\", \"Topic11\", \"Topic11\", \"Topic11\", \"Topic11\", \"Topic11\", \"Topic11\", \"Topic11\", \"Topic12\", \"Topic12\", \"Topic12\", \"Topic12\", \"Topic12\", \"Topic12\", \"Topic12\", \"Topic12\", \"Topic12\", \"Topic12\", \"Topic12\", \"Topic12\", \"Topic12\", \"Topic12\", \"Topic12\", \"Topic12\", \"Topic12\", \"Topic12\", \"Topic12\", \"Topic12\", \"Topic12\", \"Topic12\", \"Topic12\", \"Topic12\", \"Topic12\", \"Topic12\", \"Topic12\", \"Topic12\", \"Topic12\", \"Topic12\", \"Topic12\", \"Topic12\", \"Topic12\", \"Topic12\", \"Topic12\", \"Topic12\", \"Topic12\", \"Topic12\", \"Topic12\", \"Topic12\", \"Topic12\", \"Topic12\", \"Topic12\", \"Topic13\", \"Topic13\", \"Topic13\", \"Topic13\", \"Topic13\", \"Topic13\", \"Topic13\", \"Topic13\", \"Topic13\", \"Topic13\", \"Topic13\", \"Topic13\", \"Topic13\", \"Topic13\", \"Topic13\", \"Topic13\", \"Topic13\", \"Topic13\", \"Topic13\", \"Topic13\", \"Topic13\", \"Topic13\", \"Topic13\", \"Topic13\", \"Topic13\", \"Topic13\", \"Topic13\", \"Topic13\", \"Topic13\", \"Topic13\", \"Topic13\", \"Topic13\", \"Topic13\", \"Topic13\", \"Topic13\", \"Topic13\", \"Topic13\", \"Topic13\", \"Topic13\", \"Topic13\", \"Topic13\", \"Topic13\", \"Topic13\", \"Topic13\", \"Topic13\", \"Topic13\", \"Topic14\", \"Topic14\", \"Topic14\", \"Topic14\", \"Topic14\", \"Topic14\", \"Topic14\", \"Topic14\", \"Topic14\", \"Topic14\", \"Topic14\", \"Topic14\", \"Topic14\", \"Topic14\", \"Topic14\", \"Topic14\", \"Topic14\", \"Topic14\", \"Topic14\", \"Topic14\", \"Topic14\", \"Topic14\", \"Topic14\", \"Topic14\", \"Topic14\", \"Topic14\", \"Topic14\", \"Topic14\", \"Topic14\", \"Topic14\", \"Topic14\", \"Topic14\", \"Topic14\", \"Topic14\", \"Topic14\", \"Topic14\", \"Topic14\", \"Topic14\", \"Topic14\", \"Topic14\", \"Topic14\", \"Topic14\", \"Topic14\", \"Topic14\", \"Topic14\", \"Topic14\", \"Topic14\", \"Topic15\", \"Topic15\", \"Topic15\", \"Topic15\", \"Topic15\", \"Topic15\", \"Topic15\", \"Topic15\", \"Topic15\", \"Topic15\", \"Topic15\", \"Topic15\", \"Topic15\", \"Topic15\", \"Topic15\", \"Topic15\", \"Topic15\", \"Topic15\", \"Topic15\", \"Topic15\", \"Topic15\", \"Topic15\", \"Topic15\", \"Topic15\", \"Topic15\", \"Topic15\", \"Topic15\", \"Topic15\", \"Topic15\", \"Topic15\", \"Topic15\", \"Topic15\", \"Topic15\", \"Topic15\", \"Topic15\", \"Topic15\", \"Topic15\", \"Topic15\", \"Topic15\", \"Topic15\", \"Topic15\", \"Topic15\", \"Topic15\", \"Topic15\", \"Topic15\", \"Topic15\", \"Topic15\", \"Topic15\", \"Topic15\", \"Topic15\", \"Topic15\"], \"Freq\": [14.0, 9.0, 42.0, 17.0, 14.0, 4.0, 5.0, 10.0, 7.0, 10.0, 8.0, 12.0, 10.0, 8.0, 6.0, 6.0, 5.0, 9.0, 6.0, 12.0, 4.0, 5.0, 7.0, 2.0, 3.0, 3.0, 4.0, 5.0, 6.0, 3.0, 3.415773391723633, 5.935614109039307, 0.8959272503852844, 0.8959272503852844, 0.8959270119667053, 0.8959270119667053, 0.8959270119667053, 0.8959266543388367, 0.8959226012229919, 0.895919680595398, 0.895919680595398, 0.8959190845489502, 0.8959144353866577, 0.8959055542945862, 1.735876202583313, 4.255716800689697, 3.91143798828125, 3.415771007537842, 2.5757646560668945, 0.8959272503852844, 0.8959270119667053, 0.8959272503852844, 0.8959266543388367, 4.255720138549805, 0.895925760269165, 0.8959270119667053, 1.735877513885498, 0.8959265351295471, 0.8959141969680786, 0.8959269523620605, 2.5758261680603027, 3.415797710418701, 2.5758254528045654, 2.575850486755371, 5.09566593170166, 1.735963225364685, 1.26748788356781, 0.9852249622344971, 0.8959285616874695, 0.8959272503852844, 2.4177029132843018, 1.6293050050735474, 0.8409304022789001, 0.8409304022789001, 0.8409304022789001, 0.8409304022789001, 0.8409300446510315, 0.8409297466278076, 0.8409292697906494, 0.8409292697906494, 5.481211185455322, 1.6293151378631592, 1.6293175220489502, 0.8409300446510315, 2.3056721687316895, 3.1279728412628174, 12.572047233581543, 0.8409245014190674, 0.8409304022789001, 0.8409304022789001, 4.484493255615234, 0.8409304022789001, 0.8409294486045837, 0.8409290909767151, 0.8409301042556763, 0.8409301042556763, 1.6293171644210815, 0.840928852558136, 0.8409301042556763, 0.8409300446510315, 0.8409297466278076, 1.6792099475860596, 2.4917235374450684, 8.157363891601562, 0.866682767868042, 0.8666822910308838, 0.8666823506355286, 0.8666822910308838, 0.8666822910308838, 0.8666821718215942, 1.6791248321533203, 2.491650342941284, 0.8666828870773315, 0.8666806817054749, 0.866682767868042, 0.8666828870773315, 0.8666806817054749, 1.6792086362838745, 0.8666824698448181, 0.8666822910308838, 2.4916462898254395, 0.8666822910308838, 0.8666805028915405, 0.8666823506355286, 0.9820969700813293, 0.8666822910308838, 0.9471378922462463, 0.9592478275299072, 1.7953863143920898, 0.8666825890541077, 0.8666822910308838, 3.3953912258148193, 2.554440498352051, 1.721484661102295, 0.888502299785614, 0.888502299785614, 0.888502299785614, 0.888502299785614, 0.8885020613670349, 0.8885020613670349, 0.8885020613670349, 0.8885020613670349, 0.8885020613670349, 0.8885020613670349, 0.8885020613670349, 0.8885020613670349, 0.8884971737861633, 0.8884885907173157, 0.8884803056716919, 1.7214851379394531, 1.721484899520874, 2.0293822288513184, 0.888502299785614, 1.7214854955673218, 0.8885025382041931, 4.2204270362854, 0.8885025382041931, 0.8885020613670349, 1.7214568853378296, 0.8886216282844543, 0.888502299785614, 0.8884795904159546, 1.7214884757995605, 0.9264165759086609, 0.8886035084724426, 0.8885039687156677, 0.8885025382041931, 3.2065696716308594, 0.8410599827766418, 0.8410598039627075, 0.8410589098930359, 0.8410573601722717, 0.8410502076148987, 1.6295651197433472, 1.629542589187622, 3.2065696716308594, 0.8410599827766418, 0.8410501480102539, 5.572081565856934, 0.8410599827766418, 0.8410599231719971, 0.8410587906837463, 1.629561185836792, 0.8410587310791016, 0.8410599827766418, 1.6295647621154785, 6.553940773010254, 1.629562497138977, 0.8410587310791016, 0.8410602807998657, 0.8410568833351135, 0.8410599231719971, 0.05256687104701996, 0.05256687104701996, 0.05256687104701996, 0.05256687104701996, 0.05256687104701996, 0.05256687104701996, 0.05256687104701996, 0.05256687104701996, 0.05282006040215492, 0.0525745190680027, 0.05257398262619972, 0.05257398262619972, 0.05257398262619972, 9.77934741973877, 0.7983298897743225, 0.7983298897743225, 0.7983298897743225, 0.7983294725418091, 0.7983274459838867, 0.7983254194259644, 2.2951982021331787, 1.5388184785842896, 2.0185651779174805, 0.7983298897743225, 0.7983283996582031, 0.7983284592628479, 1.5467740297317505, 0.7983283996582031, 0.7983284592628479, 1.5467751026153564, 1.5467616319656372, 7.316730976104736, 0.7864494919776917, 2.4296958446502686, 0.7983296513557434, 0.049896251410245895, 0.049896251410245895, 0.049896251410245895, 0.049896251410245895, 0.049896251410245895, 0.049896251410245895, 0.049896251410245895, 0.049896251410245895, 0.049896251410245895, 0.049896251410245895, 0.049896251410245895, 0.049896251410245895, 0.04989771917462349, 0.049897681921720505, 0.04989659786224365, 0.04989659786224365, 0.0498964823782444, 0.04989638924598694, 0.04989638924598694, 0.04989631474018097, 1.6682714223861694, 1.668269395828247, 1.6682649850845337, 4.089940547943115, 0.8610374927520752, 0.8610373139381409, 0.8610373139381409, 0.8610373139381409, 0.8610368967056274, 0.8610368967056274, 0.8610373139381409, 0.8610368967056274, 0.8610368967056274, 0.8610368967056274, 0.8610368967056274, 0.8610371351242065, 0.8610329627990723, 1.6682710647583008, 0.8610374927520752, 0.8610368967056274, 0.8610371351242065, 2.4755029678344727, 0.8610367774963379, 1.6682710647583008, 0.8610374927520752, 0.8610376119613647, 0.8610367178916931, 0.8610370755195618, 0.8610376119613647, 0.8610374927520752, 1.6682710647583008, 1.6682727336883545, 0.8610392212867737, 2.324720621109009, 0.8085946440696716, 0.8085946440696716, 0.8085944056510925, 0.8085944056510925, 0.8085940480232239, 0.8085940480232239, 0.8085940480232239, 0.8085909485816956, 0.8084995746612549, 1.5666614770889282, 1.5666614770889282, 0.8085933327674866, 2.3246095180511475, 2.32460880279541, 0.8085933327674866, 0.8085944652557373, 0.8085946440696716, 1.5666618347167969, 0.8085940480232239, 0.8085941672325134, 0.8085943460464478, 1.119196891784668, 0.8085931539535522, 1.5666614770889282, 0.8085940480232239, 1.608864426612854, 0.8291595578193665, 0.05053768679499626, 0.05053768679499626, 0.8145661354064941, 0.05064518004655838, 5.272937774658203, 1.542076587677002, 0.7959081530570984, 0.7959067821502686, 0.7959067821502686, 0.7959044575691223, 0.7958982586860657, 3.0344200134277344, 0.7959074378013611, 0.7959074378013611, 0.7959025502204895, 3.0343947410583496, 1.5420799255371094, 1.5420786142349243, 0.7959067821502686, 0.7959083318710327, 0.7959025502204895, 0.7959072589874268, 0.7959083318710327, 1.5420812368392944, 0.7959076166152954, 1.5420805215835571, 0.04974474757909775, 0.04974474757909775, 0.04974474757909775, 0.04974474757909775, 0.04974474757909775, 0.04974474757909775, 0.04974474757909775, 0.04974474757909775, 0.04974474757909775, 0.04974474757909775, 0.04974474757909775, 0.04974474757909775, 0.04975738748908043, 0.04975509271025658, 0.04974474757909775, 0.04974474757909775, 0.04974474757909775, 0.04974474757909775, 0.04974474757909775, 0.04974474757909775, 0.7731741666793823, 0.7731740474700928, 0.7731741666793823, 0.773173987865448, 0.773173987865448, 0.7731737494468689, 0.7731726765632629, 0.7731710076332092, 0.7731649875640869, 3.6725974082946777, 0.7731726765632629, 0.7731710076332092, 1.4980343580245972, 0.7731726169586182, 0.7731737494468689, 0.773173451423645, 0.7731740474700928, 1.498034119606018, 1.4980329275131226, 0.7731731534004211, 1.4980329275131226, 0.773173451423645, 1.4980344772338867, 0.7731741666793823, 0.7731731534004211, 1.498030662536621, 0.7731738090515137, 0.7731738090515137, 0.7731729745864868, 0.048323892056941986, 0.04834386706352234, 6.668243885040283, 0.7845038771629333, 0.784501850605011, 1.5198746919631958, 2.2554666996002197, 1.5199705362319946, 0.7845037579536438, 0.7845050096511841, 0.7845042943954468, 0.7845038771629333, 1.4416818618774414, 0.7845017313957214, 0.7923224568367004, 0.7845050096511841, 0.7845037579536438, 0.784504771232605, 0.7961742877960205, 1.1946383714675903, 0.784504771232605, 0.04903199151158333, 0.04903199151158333, 0.04903199151158333, 0.04903199151158333, 0.04903199151158333, 0.04903199151158333, 0.04903199151158333, 0.04903199151158333, 0.04903199151158333, 0.04903199151158333, 0.04903199151158333, 0.04903199151158333, 0.7845034003257751, 0.04903339594602585, 0.04903339594602585, 0.04903339594602585, 0.04903227835893631, 0.04903225228190422, 0.04903225228190422, 0.04903207719326019, 0.04903209209442139, 0.049032073467969894, 0.049032073467969894, 1.40981125831604, 0.7276421189308167, 0.7276422381401062, 1.409808874130249, 2.0919761657714844, 0.7276423573493958, 0.7276422381401062, 1.4098135232925415, 0.7276422381401062, 0.727642297744751, 0.7276424765586853, 2.0919830799102783, 0.7276422381401062, 0.7276418805122375, 0.7276423573493958, 0.7276419997215271, 0.7276421189308167, 0.04547799378633499, 0.04547799378633499, 0.04547799378633499, 0.04547799378633499, 0.04547799378633499, 0.04547799378633499, 0.04547799378633499, 0.04547799378633499, 0.04547799378633499, 0.04547799378633499, 0.04547799378633499, 0.04547799378633499, 0.04547799378633499, 0.7276415228843689, 0.04547799378633499, 0.04547799378633499, 0.04547799378633499, 0.04547799378633499, 0.04547799378633499, 0.04547799378633499, 0.04547799378633499, 0.04547799378633499, 0.04547799378633499, 0.04547799378633499, 0.04547799378633499, 0.04547799378633499, 1.5648143291473389, 0.807645320892334, 0.807645320892334, 0.807645320892334, 1.564818263053894, 0.807645320892334, 0.807645320892334, 1.5648187398910522, 0.8076454401016235, 0.8076454997062683, 0.8076456189155579, 1.5648187398910522, 0.8076454401016235, 0.8076468706130981, 1.5648187398910522, 0.05047813430428505, 0.05047813430428505, 0.05047813430428505, 0.05047813430428505, 0.05047813430428505, 0.05047813430428505, 0.05047813430428505, 0.05047813430428505, 0.05047813430428505, 0.05047813430428505, 0.05047813430428505, 0.05047813430428505, 0.05047813430428505, 0.05047813430428505, 0.05047813430428505, 0.05047813430428505, 0.0504952035844326, 0.05048496276140213, 0.05047957971692085, 0.05047957971692085, 0.05047813430428505, 0.05047813430428505, 0.05047813430428505, 0.05047813430428505, 0.05047813430428505, 0.05047813430428505, 0.05047813430428505, 0.05047813430428505, 0.05047813430428505, 0.05047813430428505, 0.05047813430428505, 0.7296971082687378, 0.7296968698501587, 0.7296968698501587, 1.413792610168457, 0.7296969890594482, 0.729692280292511, 0.7296971082687378, 0.7296972870826721, 0.7296969890594482, 0.7296969890594482, 0.7296973466873169, 0.7296971082687378, 0.7296971082687378, 0.04560631886124611, 0.04560631886124611, 0.04560631886124611, 0.04560631886124611, 0.04560631886124611, 0.04560631886124611, 0.04560631886124611, 0.04560631886124611, 0.04560631886124611, 0.04560631886124611, 0.04560631886124611, 0.04560631886124611, 0.04560631886124611, 0.04560631886124611, 0.04560631886124611, 0.04560631886124611, 0.04560631886124611, 0.7296969890594482, 0.04560631886124611, 0.04560631886124611, 0.04560631886124611, 0.04560631886124611, 0.04560631886124611, 0.04560631886124611, 0.04560631886124611, 0.04560631886124611, 0.04560631886124611, 0.04560631886124611, 0.04560631886124611, 0.04560631886124611, 0.04560631886124611, 0.04560631886124611, 0.04560631886124611, 0.04560631886124611, 3.248725652694702, 0.683946967124939, 1.3251084089279175, 0.6839470267295837, 0.6839470267295837, 0.6839470863342285, 0.683946967124939, 0.0427468977868557, 0.0427468977868557, 0.0427468977868557, 0.0427468977868557, 0.0427468977868557, 0.0427468977868557, 0.0427468977868557, 0.0427468977868557, 0.0427468977868557, 0.0427468977868557, 0.0427468977868557, 0.0427468977868557, 0.0427468977868557, 0.0427468977868557, 0.0427468977868557, 0.0427468977868557, 0.0427468977868557, 0.0427468977868557, 0.0427468977868557, 0.0427468977868557, 0.0427468977868557, 0.0427468977868557, 0.0427468977868557, 0.0427468977868557, 0.0427471287548542, 0.0427471287548542, 0.0427471287548542, 0.042747024446725845, 0.042746998369693756, 0.04274696484208107, 0.04274696111679077, 0.04274696484208107, 0.04274693503975868, 0.04274693503975868, 0.042746927589178085, 0.0427468977868557, 0.0427468977868557, 0.0427468977868557, 0.0427468977868557, 0.0427468977868557, 0.0427468977868557, 0.0427468977868557, 0.0427468977868557, 0.0427468977868557], \"Term\": [\"great\", \"worst\", \"new\", \"next\", \"bad\", \"courteous\", \"unlocked\", \"different\", \"happy\", \"little\", \"wrong\", \"much\", \"last\", \"free\", \"current\", \"whole\", \"poor\", \"ive\", \"horrible\", \"best\", \"willing\", \"busy\", \"nice\", \"retail\", \"satisfied\", \"big\", \"able\", \"old\", \"least\", \"interested\", \"full\", \"last\", \"incredible\", \"attentive\", \"recent\", \"economical\", \"bigger\", \"unrealistic\", \"cellular\", \"upper\", \"extra\", \"quiet\", \"apologetic\", \"knowledgable\", \"small\", \"free\", \"young\", \"knowledgeable\", \"black\", \"specific\", \"high\", \"third\", \"disappointed\", \"much\", \"hot\", \"surprised\", \"least\", \"original\", \"pathetic\", \"personal\", \"ive\", \"best\", \"different\", \"great\", \"new\", \"good\", \"bad\", \"experienced\", \"wrong\", \"expensive\", \"impressed\", \"professional\", \"horrendous\", \"huge\", \"moppy\", \"pleased\", \"acceptable\", \"skeptical\", \"tremendous\", \"rediculous\", \"little\", \"pathetic\", \"original\", \"hard\", \"second\", \"ive\", \"new\", \"negative\", \"due\", \"white\", \"good\", \"many\", \"able\", \"poor\", \"experienced\", \"current\", \"best\", \"nice\", \"different\", \"great\", \"next\", \"limited\", \"certain\", \"bad\", \"ish\", \"cerebral\", \"robotic\", \"unpleasant\", \"real\", \"envious\", \"white\", \"black\", \"angry\", \"single\", \"main\", \"unable\", \"small\", \"horrible\", \"total\", \"expensive\", \"much\", \"short\", \"several\", \"ready\", \"second\", \"whole\", \"ive\", \"little\", \"good\", \"worst\", \"last\", \"new\", \"temporary\", \"reliable\", \"greater\", \"mytouch\", \"available\", \"dead\", \"affordable\", \"competitive\", \"easiest\", \"nearest\", \"chinese\", \"essential\", \"functional\", \"asian\", \"lucky\", \"low\", \"lowest\", \"general\", \"personal\", \"old\", \"actual\", \"ready\", \"unprofessional\", \"next\", \"expensive\", \"several\", \"much\", \"young\", \"wrong\", \"free\", \"good\", \"new\", \"little\", \"different\", \"best\", \"satisfied\", \"unmotivated\", \"nasty\", \"understandable\", \"hospitable\", \"earliest\", \"true\", \"unable\", \"happy\", \"unhappy\", \"open\", \"next\", \"additional\", \"particular\", \"surprised\", \"knowledgeable\", \"many\", \"unhelpful\", \"worst\", \"new\", \"much\", \"second\", \"whole\", \"nice\", \"best\", \"related\", \"incapable\", \"prepared\", \"fantastic\", \"easy\", \"social\", \"arrive\", \"former\", \"great\", \"good\", \"several\", \"professional\", \"ive\", \"great\", \"sensitive\", \"productive\", \"higher\", \"quickest\", \"hilarious\", \"fresh\", \"several\", \"interested\", \"old\", \"individual\", \"worse\", \"single\", \"busy\", \"unprofessional\", \"surprised\", \"least\", \"horrible\", \"new\", \"ready\", \"good\", \"last\", \"related\", \"incapable\", \"prepared\", \"fantastic\", \"easy\", \"social\", \"arrive\", \"former\", \"unlimited\", \"private\", \"false\", \"international\", \"best\", \"total\", \"lowest\", \"free\", \"unable\", \"open\", \"earliest\", \"deductible\", \"latest\", \"clear\", \"technical\", \"current\", \"unsuccessful\", \"important\", \"dissatisfied\", \"displeased\", \"separate\", \"preferable\", \"uncomfortable\", \"apprehensive\", \"uneducated\", \"major\", \"likely\", \"lower\", \"ridiculous\", \"unhelpful\", \"main\", \"actual\", \"disappointed\", \"whole\", \"big\", \"nice\", \"willing\", \"poor\", \"knowledgeable\", \"happy\", \"young\", \"different\", \"good\", \"new\", \"great\", \"total\", \"serial\", \"positive\", \"outstanding\", \"continued\", \"replaceable\", \"fixable\", \"defective\", \"unknowledgeable\", \"attractive\", \"hot\", \"many\", \"technician\", \"nice\", \"happy\", \"terrible\", \"overall\", \"certain\", \"wrong\", \"able\", \"courteous\", \"busy\", \"young\", \"least\", \"best\", \"knowledgeable\", \"good\", \"bad\", \"related\", \"incapable\", \"new\", \"little\", \"unlocked\", \"deductible\", \"smaller\", \"entire\", \"inattentive\", \"enthusiastic\", \"sociable\", \"wrong\", \"third\", \"unprofessional\", \"general\", \"best\", \"ive\", \"little\", \"experienced\", \"old\", \"current\", \"horrible\", \"second\", \"bad\", \"young\", \"good\", \"related\", \"incapable\", \"prepared\", \"fantastic\", \"easy\", \"social\", \"arrive\", \"false\", \"private\", \"unlimited\", \"former\", \"international\", \"great\", \"new\", \"much\", \"clear\", \"unrealistic\", \"original\", \"disappointed\", \"impressed\", \"private\", \"former\", \"international\", \"false\", \"unlimited\", \"arrive\", \"social\", \"easy\", \"fantastic\", \"different\", \"hard\", \"unhappy\", \"able\", \"angry\", \"corporate\", \"negative\", \"additional\", \"second\", \"nice\", \"expensive\", \"wrong\", \"willing\", \"free\", \"short\", \"ready\", \"good\", \"last\", \"best\", \"next\", \"related\", \"much\", \"worst\", \"complete\", \"irresponsible\", \"corporate\", \"busy\", \"big\", \"possible\", \"open\", \"specific\", \"high\", \"experienced\", \"due\", \"interested\", \"overall\", \"unhelpful\", \"willing\", \"ready\", \"bad\", \"much\", \"related\", \"incapable\", \"prepared\", \"fantastic\", \"easy\", \"social\", \"arrive\", \"former\", \"unlimited\", \"false\", \"private\", \"international\", \"new\", \"several\", \"great\", \"certain\", \"black\", \"pathetic\", \"apologetic\", \"young\", \"little\", \"happy\", \"nice\", \"unsatisfied\", \"incapable\", \"prepared\", \"terrible\", \"poor\", \"due\", \"true\", \"horrible\", \"overall\", \"short\", \"experienced\", \"next\", \"least\", \"whole\", \"free\", \"different\", \"good\", \"related\", \"fantastic\", \"easy\", \"social\", \"arrive\", \"false\", \"unlimited\", \"former\", \"private\", \"international\", \"irresponsible\", \"complete\", \"sociable\", \"new\", \"impressed\", \"professional\", \"able\", \"hilarious\", \"clear\", \"ridiculous\", \"unrealistic\", \"original\", \"much\", \"disappointed\", \"best\", \"nasty\", \"previous\", \"rural\", \"solid\", \"large\", \"particular\", \"technician\", \"retail\", \"whole\", \"short\", \"poor\", \"least\", \"next\", \"little\", \"much\", \"new\", \"related\", \"incapable\", \"prepared\", \"fantastic\", \"easy\", \"social\", \"arrive\", \"former\", \"false\", \"unlimited\", \"private\", \"international\", \"irresponsible\", \"complete\", \"sociable\", \"enthusiastic\", \"great\", \"different\", \"satisfied\", \"happy\", \"unrealistic\", \"clear\", \"ridiculous\", \"original\", \"several\", \"disappointed\", \"best\", \"nasty\", \"professional\", \"sensitive\", \"productive\", \"possible\", \"worse\", \"individual\", \"willing\", \"negative\", \"additional\", \"big\", \"able\", \"horrible\", \"happy\", \"free\", \"ive\", \"next\", \"related\", \"incapable\", \"prepared\", \"fantastic\", \"easy\", \"social\", \"arrive\", \"former\", \"unlimited\", \"false\", \"private\", \"international\", \"irresponsible\", \"complete\", \"sociable\", \"enthusiastic\", \"entire\", \"new\", \"inattentive\", \"professional\", \"impressed\", \"ridiculous\", \"hilarious\", \"clear\", \"unrealistic\", \"much\", \"disappointed\", \"best\", \"whole\", \"nasty\", \"several\", \"sensitive\", \"productive\", \"least\", \"courteous\", \"related\", \"retail\", \"interested\", \"last\", \"much\", \"bad\", \"incapable\", \"prepared\", \"fantastic\", \"easy\", \"social\", \"arrive\", \"unlimited\", \"former\", \"false\", \"private\", \"international\", \"irresponsible\", \"complete\", \"sociable\", \"enthusiastic\", \"entire\", \"inattentive\", \"smaller\", \"fresh\", \"hilarious\", \"quickest\", \"sensitive\", \"higher\", \"productive\", \"upper\", \"overall\", \"extra\", \"certain\", \"several\", \"professional\", \"good\", \"great\", \"knowledgeable\", \"best\", \"ive\", \"original\", \"unrealistic\", \"disappointed\", \"whole\", \"nasty\", \"clear\", \"ridiculous\", \"impressed\", \"least\"], \"Total\": [14.0, 9.0, 42.0, 17.0, 14.0, 4.0, 5.0, 10.0, 7.0, 10.0, 8.0, 12.0, 10.0, 8.0, 6.0, 6.0, 5.0, 9.0, 6.0, 12.0, 4.0, 5.0, 7.0, 2.0, 3.0, 3.0, 4.0, 5.0, 6.0, 3.0, 4.11625862121582, 10.39606761932373, 1.5964127779006958, 1.5964127779006958, 1.5964125394821167, 1.5964125394821167, 1.5964125394821167, 1.596412181854248, 1.5964081287384033, 1.5964053869247437, 1.5964053869247437, 1.5964045524597168, 1.5964001417160034, 1.5963910818099976, 3.2488739490509033, 8.605117797851562, 8.067057609558105, 7.258528232574463, 5.7138590812683105, 2.33188533782959, 2.3318846225738525, 2.3425755500793457, 2.4036343097686768, 12.770540237426758, 3.112535238265991, 3.1333365440368652, 6.130629539489746, 3.173170328140259, 3.1731560230255127, 3.2623653411865234, 9.421167373657227, 12.540130615234375, 10.011320114135742, 14.601673126220703, 42.290523529052734, 19.452356338500977, 14.128935813903809, 5.295178413391113, 8.379892349243164, 3.9667470455169678, 3.1216256618499756, 2.333235740661621, 1.5448534488677979, 1.5448534488677979, 1.5448534488677979, 1.5448534488677979, 1.5448530912399292, 1.54485285282135, 1.544852375984192, 1.544852375984192, 10.172896385192871, 3.1731560230255127, 3.173170328140259, 2.2697019577026367, 6.921933174133301, 9.421167373657227, 42.290523529052734, 2.9537880420684814, 2.9624874591827393, 3.1698968410491943, 19.452356338500977, 3.8494694232940674, 4.436710834503174, 5.155745029449463, 5.295178413391113, 6.327156066894531, 12.540130615234375, 7.671703815460205, 10.011320114135742, 14.601673126220703, 17.006269454956055, 2.381523847579956, 3.9520959854125977, 14.128935813903809, 1.5689964294433594, 1.5689964294433594, 1.568996548652649, 1.568996548652649, 1.568996548652649, 1.5689964294433594, 3.1698968410491943, 5.7138590812683105, 2.2938454151153564, 2.317426919937134, 2.376218557357788, 3.145979881286621, 3.2488739490509033, 6.672987461090088, 3.8431813716888428, 3.9667470455169678, 12.770540237426758, 4.573108196258545, 4.647274494171143, 5.44349479675293, 6.921933174133301, 6.975683212280273, 9.421167373657227, 10.172896385192871, 19.452356338500977, 9.765317916870117, 10.39606761932373, 42.290523529052734, 3.2554104328155518, 2.4224348068237305, 1.5894523859024048, 1.5894523859024048, 1.5894523859024048, 1.5894523859024048, 1.5894521474838257, 1.5894521474838257, 1.5894521474838257, 1.5894521474838257, 1.5894521474838257, 1.5894521474838257, 1.5894521474838257, 1.5894521474838257, 1.589447259902954, 1.5894386768341064, 1.5894306898117065, 3.168592929840088, 3.2623653411865234, 5.4451680183410645, 2.3966739177703857, 5.44349479675293, 3.084047555923462, 17.006269454956055, 3.9667470455169678, 4.647274494171143, 12.770540237426758, 8.067057609558105, 8.379892349243164, 8.605117797851562, 19.452356338500977, 42.290523529052734, 10.172896385192871, 10.011320114135742, 12.540130615234375, 3.9104862213134766, 1.5449751615524292, 1.5449750423431396, 1.5449740886688232, 1.544972538948059, 1.5449655055999756, 3.0156447887420654, 3.145979881286621, 7.675995349884033, 2.269822359085083, 2.2804384231567383, 17.006269454956055, 2.953911304473877, 3.0593152046203613, 3.1333365440368652, 7.258528232574463, 3.8494694232940674, 3.8949034214019775, 9.765317916870117, 42.290523529052734, 12.770540237426758, 6.921933174133301, 6.975683212280273, 7.671703815460205, 12.540130615234375, 1.3976821899414062, 1.4386461973190308, 1.4386463165283203, 1.4813231229782104, 1.4813292026519775, 1.4813308715820312, 1.4813319444656372, 1.4813321828842163, 14.601673126220703, 19.452356338500977, 4.647274494171143, 2.333235740661621, 9.421167373657227, 14.601673126220703, 1.504915714263916, 1.504915714263916, 1.504915714263916, 1.5049152374267578, 1.504913330078125, 1.504911184310913, 4.647274494171143, 3.6298952102661133, 5.4451680183410645, 2.1890060901641846, 2.18900465965271, 2.317426919937134, 5.217850685119629, 3.084047555923462, 3.1333365440368652, 6.130629539489746, 6.672987461090088, 42.290523529052734, 5.44349479675293, 19.452356338500977, 10.39606761932373, 1.3976821899414062, 1.4386461973190308, 1.4386463165283203, 1.4813231229782104, 1.4813292026519775, 1.4813308715820312, 1.4813319444656372, 1.4813321828842163, 1.4813321828842163, 1.4813323020935059, 1.4813321828842163, 1.4813323020935059, 12.540130615234375, 3.8431813716888428, 1.5894306898117065, 8.605117797851562, 3.145979881286621, 2.2804384231567383, 1.5449655055999756, 2.248814105987549, 2.3709380626678467, 2.370936155319214, 2.3709332942962646, 6.327156066894531, 1.5637041330337524, 1.563704252243042, 1.563704252243042, 1.563704252243042, 1.5637034177780151, 1.5637034177780151, 1.563704252243042, 1.5637034177780151, 1.5637034177780151, 1.5637034177780151, 1.5637034177780151, 1.5637041330337524, 1.5636996030807495, 3.8949034214019775, 2.376218557357788, 2.3966739177703857, 2.4036343097686768, 6.975683212280273, 3.7187435626983643, 7.671703815460205, 4.392213344573975, 5.155745029449463, 7.258528232574463, 7.675995349884033, 8.067057609558105, 10.011320114135742, 19.452356338500977, 42.290523529052734, 14.601673126220703, 3.8431813716888428, 1.5145390033721924, 1.5145390033721924, 1.5145387649536133, 1.5145387649536133, 1.5145384073257446, 1.5145384073257446, 1.5145384073257446, 1.5145353078842163, 1.5144456624984741, 3.112535238265991, 3.8494694232940674, 2.27170467376709, 7.671703815460205, 7.675995349884033, 2.8788702487945557, 3.772099256515503, 3.9520959854125977, 8.379892349243164, 4.436710834503174, 4.720553398132324, 5.217850685119629, 8.067057609558105, 6.130629539489746, 12.540130615234375, 7.258528232574463, 19.452356338500977, 14.128935813903809, 1.3976821899414062, 1.4386461973190308, 42.290523529052734, 10.172896385192871, 5.97967529296875, 2.248814105987549, 1.5026453733444214, 1.5026440620422363, 1.5026440620422363, 1.5026417970657349, 1.5026355981826782, 8.379892349243164, 2.3425755500793457, 3.084047555923462, 3.168592929840088, 12.540130615234375, 9.421167373657227, 10.172896385192871, 5.295178413391113, 5.4451680183410645, 6.327156066894531, 6.672987461090088, 6.921933174133301, 14.128935813903809, 8.067057609558105, 19.452356338500977, 1.3976821899414062, 1.4386461973190308, 1.4386463165283203, 1.4813231229782104, 1.4813292026519775, 1.4813308715820312, 1.4813319444656372, 1.4813321828842163, 1.4813323020935059, 1.4813321828842163, 1.4813321828842163, 1.4813323020935059, 14.601673126220703, 42.290523529052734, 12.770540237426758, 2.370936155319214, 1.596412181854248, 3.173170328140259, 2.4036343097686768, 3.1216256618499756, 1.4813323020935059, 1.4813321828842163, 1.4813323020935059, 1.4813321828842163, 1.4813321828842163, 1.4813319444656372, 1.4813308715820312, 1.4813292026519775, 1.4813231229782104, 10.011320114135742, 2.2697019577026367, 2.269822359085083, 4.436710834503174, 2.2938454151153564, 2.9522953033447266, 2.9537880420684814, 2.953911304473877, 6.921933174133301, 7.671703815460205, 3.9667470455169678, 8.379892349243164, 4.392213344573975, 8.605117797851562, 4.573108196258545, 5.44349479675293, 19.452356338500977, 10.39606761932373, 12.540130615234375, 17.006269454956055, 1.3976821899414062, 12.770540237426758, 9.765317916870117, 1.49195396900177, 1.4919519424438477, 2.9522953033447266, 5.217850685119629, 3.7187435626983643, 2.176044464111328, 2.2804384231567383, 2.33188533782959, 2.3318846225738525, 5.295178413391113, 2.9624874591827393, 3.6298952102661133, 3.772099256515503, 3.8949034214019775, 4.392213344573975, 5.44349479675293, 14.128935813903809, 12.770540237426758, 1.3976821899414062, 1.4386461973190308, 1.4386463165283203, 1.4813231229782104, 1.4813292026519775, 1.4813308715820312, 1.4813319444656372, 1.4813321828842163, 1.4813321828842163, 1.4813321828842163, 1.4813323020935059, 1.4813323020935059, 42.290523529052734, 4.647274494171143, 14.601673126220703, 3.9520959854125977, 5.7138590812683105, 3.1731560230255127, 1.5964001417160034, 8.067057609558105, 10.172896385192871, 7.675995349884033, 7.671703815460205, 2.120816946029663, 1.4386461973190308, 1.4386463165283203, 2.8788702487945557, 5.155745029449463, 2.9624874591827393, 3.0156447887420654, 6.672987461090088, 3.772099256515503, 4.573108196258545, 5.295178413391113, 17.006269454956055, 6.130629539489746, 6.975683212280273, 8.605117797851562, 10.011320114135742, 19.452356338500977, 1.3976821899414062, 1.4813231229782104, 1.4813292026519775, 1.4813308715820312, 1.4813319444656372, 1.4813321828842163, 1.4813321828842163, 1.4813321828842163, 1.4813323020935059, 1.4813323020935059, 1.4919519424438477, 1.49195396900177, 1.5026355981826782, 42.290523529052734, 3.1216256618499756, 2.333235740661621, 4.436710834503174, 1.504913330078125, 2.370936155319214, 1.5636996030807495, 1.596412181854248, 3.173170328140259, 12.770540237426758, 2.4036343097686768, 12.540130615234375, 1.5449750423431396, 2.270819664001465, 1.513649344444275, 1.513649344444275, 1.513649344444275, 3.0593152046203613, 2.27170467376709, 2.796060562133789, 6.975683212280273, 4.573108196258545, 5.155745029449463, 6.130629539489746, 17.006269454956055, 10.172896385192871, 12.770540237426758, 42.290523529052734, 1.3976821899414062, 1.4386461973190308, 1.4386463165283203, 1.4813231229782104, 1.4813292026519775, 1.4813308715820312, 1.4813319444656372, 1.4813321828842163, 1.4813321828842163, 1.4813321828842163, 1.4813323020935059, 1.4813323020935059, 1.4919519424438477, 1.49195396900177, 1.5026355981826782, 1.5026417970657349, 14.601673126220703, 10.011320114135742, 3.9104862213134766, 7.675995349884033, 1.596412181854248, 2.370936155319214, 1.5636996030807495, 3.173170328140259, 4.647274494171143, 2.4036343097686768, 12.540130615234375, 1.5449750423431396, 2.333235740661621, 1.504915714263916, 1.504915714263916, 2.176044464111328, 2.18900465965271, 2.1890060901641846, 4.392213344573975, 2.9537880420684814, 2.953911304473877, 3.7187435626983643, 4.436710834503174, 6.672987461090088, 7.675995349884033, 8.605117797851562, 9.421167373657227, 17.006269454956055, 1.3976821899414062, 1.4386461973190308, 1.4386463165283203, 1.4813231229782104, 1.4813292026519775, 1.4813308715820312, 1.4813319444656372, 1.4813321828842163, 1.4813321828842163, 1.4813321828842163, 1.4813323020935059, 1.4813323020935059, 1.4919519424438477, 1.49195396900177, 1.5026355981826782, 1.5026417970657349, 1.5026440620422363, 42.290523529052734, 1.5026440620422363, 2.333235740661621, 3.1216256618499756, 1.5636996030807495, 1.504913330078125, 2.370936155319214, 1.596412181854248, 12.770540237426758, 2.4036343097686768, 12.540130615234375, 6.975683212280273, 1.5449750423431396, 4.647274494171143, 1.504915714263916, 1.504915714263916, 6.130629539489746, 4.720553398132324, 1.3976821899414062, 2.796060562133789, 3.6298952102661133, 10.39606761932373, 12.770540237426758, 14.128935813903809, 1.4386461973190308, 1.4386463165283203, 1.4813231229782104, 1.4813292026519775, 1.4813308715820312, 1.4813319444656372, 1.4813321828842163, 1.4813321828842163, 1.4813321828842163, 1.4813323020935059, 1.4813323020935059, 1.4919519424438477, 1.49195396900177, 1.5026355981826782, 1.5026417970657349, 1.5026440620422363, 1.5026440620422363, 1.5026453733444214, 1.504911184310913, 1.504913330078125, 1.5049152374267578, 1.504915714263916, 1.504915714263916, 1.504915714263916, 1.5964053869247437, 3.772099256515503, 1.5964053869247437, 3.9520959854125977, 4.647274494171143, 2.333235740661621, 19.452356338500977, 14.601673126220703, 7.258528232574463, 12.540130615234375, 9.421167373657227, 3.173170328140259, 1.596412181854248, 2.4036343097686768, 6.975683212280273, 1.5449750423431396, 2.370936155319214, 1.5636996030807495, 3.1216256618499756, 6.130629539489746], \"loglift\": [30.0, 29.0, 28.0, 27.0, 26.0, 25.0, 24.0, 23.0, 22.0, 21.0, 20.0, 19.0, 18.0, 17.0, 16.0, 15.0, 14.0, 13.0, 12.0, 11.0, 10.0, 9.0, 8.0, 7.0, 6.0, 5.0, 4.0, 3.0, 2.0, 1.0, 1.8509000539779663, 1.4768999814987183, 1.4596999883651733, 1.4596999883651733, 1.4596999883651733, 1.4596999883651733, 1.4596999883651733, 1.4596999883651733, 1.4596999883651733, 1.4596999883651733, 1.4596999883651733, 1.4596999883651733, 1.4596999883651733, 1.4596999883651733, 1.410599946975708, 1.333299994468689, 1.3135000467300415, 1.2835999727249146, 1.2405999898910522, 1.0808000564575195, 1.0808000564575195, 1.076200008392334, 1.0505000352859497, 0.9384999871253967, 0.7921000123023987, 0.7853999733924866, 0.775600016117096, 0.7728000283241272, 0.7728000283241272, 0.7450000047683716, 0.7405999898910522, 0.7368999719619751, 0.6797999739646912, 0.30239999294281006, -0.07880000025033951, -0.3790000081062317, -0.37380000948905945, 0.35569998621940613, -0.19830000400543213, 0.5496000051498413, 2.049299955368042, 1.9457000494003296, 1.6965999603271484, 1.6965999603271484, 1.6965999603271484, 1.6965999603271484, 1.6965999603271484, 1.6965999603271484, 1.6965999603271484, 1.6965999603271484, 1.686400055885315, 1.6382999420166016, 1.638200044631958, 1.311900019645691, 1.2055000066757202, 1.2022000551223755, 1.0916999578475952, 1.0484999418258667, 1.0455000400543213, 0.9779000282287598, 0.8374999761581421, 0.7835999727249146, 0.641700029373169, 0.49149999022483826, 0.46480000019073486, 0.2867000102996826, 0.2639999985694885, 0.09399999678134918, -0.1720999926328659, -0.5496000051498413, -0.7020000219345093, 2.1124000549316406, 2.000499963760376, 1.912500023841858, 1.868299961090088, 1.868299961090088, 1.868299961090088, 1.868299961090088, 1.868299961090088, 1.868299961090088, 1.826300024986267, 1.6318000555038452, 1.4884999990463257, 1.4781999588012695, 1.4531999826431274, 1.1726000308990479, 1.1404000520706177, 1.0820000171661377, 0.9724000096321106, 0.9406999945640564, 0.8276000022888184, 0.7985000014305115, 0.7824000120162964, 0.6243000030517578, 0.5090000033378601, 0.37630000710487366, 0.16449999809265137, 0.10040000081062317, 0.07900000363588333, 0.039900001138448715, -0.022700000554323196, -0.06040000170469284, 2.259700059890747, 2.160599946975708, 1.9206000566482544, 1.9206000566482544, 1.9206000566482544, 1.9206000566482544, 1.9206000566482544, 1.9206000566482544, 1.9206000566482544, 1.9206000566482544, 1.9206000566482544, 1.9206000566482544, 1.9206000566482544, 1.9206000566482544, 1.9206000566482544, 1.9206000566482544, 1.9206000566482544, 1.8920999765396118, 1.8629000186920166, 1.5152000188827515, 1.5098999738693237, 1.3509999513626099, 1.257699966430664, 1.1086000204086304, 1.00600004196167, 0.8476999998092651, 0.498199999332428, 0.2962999939918518, 0.2581999897956848, 0.23160000145435333, 0.07739999890327454, -1.3187999725341797, 0.06440000236034393, 0.08030000329017639, -0.14489999413490295, 2.3613998889923096, 1.95169997215271, 1.95169997215271, 1.95169997215271, 1.95169997215271, 1.95169997215271, 1.9443000555038452, 1.9019999504089355, 1.686900019645691, 1.5671000480651855, 1.562399983406067, 1.444000005722046, 1.3035999536514282, 1.2685999870300293, 1.2446999549865723, 1.065999984741211, 1.0388000011444092, 1.0270999670028687, 0.7692999839782715, 0.6952999830245972, 0.5009999871253967, 0.45210000872612, 0.44429999589920044, 0.3492000102996826, -0.14219999313354492, -0.7206000089645386, -0.7494999766349792, -0.7494999766349792, -0.7788000106811523, -0.7788000106811523, -0.7788000106811523, -0.7788000106811523, -0.7788000106811523, -3.0622000694274902, -3.353600025177002, -1.9220000505447388, -1.2329000234603882, -2.6285998821258545, 2.1596999168395996, 1.9265999794006348, 1.9265999794006348, 1.9265999794006348, 1.9265999794006348, 1.9265999794006348, 1.9265999794006348, 1.8551000356674194, 1.7023999691009521, 1.5683000087738037, 1.551900029182434, 1.551900029182434, 1.4948999881744385, 1.3446999788284302, 1.2091000080108643, 1.1933000087738037, 1.183500051498413, 1.0987000465393066, 0.8062000274658203, 0.6259999871253967, 0.4803999960422516, -0.006099999882280827, -0.7720000147819519, -0.8008999824523926, -0.8008999824523926, -0.8300999999046326, -0.8300999999046326, -0.8300999999046326, -0.8300999999046326, -0.8300999999046326, -0.8300999999046326, -0.8300999999046326, -0.8300999999046326, -0.8300999999046326, -2.966099977493286, -1.7834999561309814, -0.900600016117096, -2.589600086212158, -1.583299994468689, -1.2616000175476074, -0.8722000122070312, -1.2475999593734741, 2.2219998836517334, 2.2219998836517334, 2.2219998836517334, 2.137200117111206, 1.9767999649047852, 1.9767999649047852, 1.9767999649047852, 1.9767999649047852, 1.9767999649047852, 1.9767999649047852, 1.9767999649047852, 1.9767999649047852, 1.9767999649047852, 1.9767999649047852, 1.9767999649047852, 1.9767999649047852, 1.9767999649047852, 1.725600004196167, 1.55840003490448, 1.5498000383377075, 1.5469000339508057, 1.537500023841858, 1.1104999780654907, 1.0477999448776245, 0.944100022315979, 0.7838000059127808, 0.4417000114917755, 0.38580000400543213, 0.3361000120639801, 0.12020000070333481, 0.11729999631643295, -0.6593000292778015, -0.2572000026702881, 2.2497000694274902, 2.124799966812134, 2.124799966812134, 2.124799966812134, 2.124799966812134, 2.124799966812134, 2.124799966812134, 2.124799966812134, 2.124799966812134, 2.124799966812134, 2.0659000873565674, 1.8533999919891357, 1.7194000482559204, 1.55840003490448, 1.557800054550171, 1.4824999570846558, 1.2122999429702759, 1.1656999588012695, 1.0755000114440918, 1.0499999523162842, 0.9879999756813049, 0.8877999782562256, 0.7771999835968018, 0.7265999913215637, 0.6723999977111816, 0.557699978351593, 0.2599000036716461, -0.08320000022649765, -0.5674999952316284, -0.5964000225067139, -1.1972999572753906, -2.550299882888794, 2.6712000370025635, 2.4196999073028564, 2.1614999771118164, 2.1614999771118164, 2.1614999771118164, 2.1614999771118164, 2.1614999771118164, 1.7812000513076782, 1.7174999713897705, 1.4424999952316284, 1.4154000282287598, 1.378100037574768, 0.9872000217437744, 0.9103999733924866, 0.9018999934196472, 0.8740000128746033, 0.7239000201225281, 0.6707000136375427, 0.6340000033378601, 0.5819000005722046, 0.48089998960494995, 0.2621999979019165, -0.5386999845504761, -0.5674999952316284, -0.5674999952316284, -0.5968000292778015, -0.5968000292778015, -0.5968000292778015, -0.5968000292778015, -0.5968000292778015, -0.5968000292778015, -0.5968000292778015, -0.5968000292778015, -0.5968000292778015, -2.884700059890747, -3.948199987411499, -2.750999927520752, -1.0671000480651855, -0.6715999841690063, -1.3586000204086304, -1.0808000564575195, -1.3422000408172607, 2.175800085067749, 2.175800085067749, 2.175800085067749, 2.175800085067749, 2.175800085067749, 2.175800085067749, 2.175800085067749, 2.175800085067749, 2.175800085067749, 1.823199987411499, 1.7490999698638916, 1.7489999532699585, 1.7402000427246094, 1.7384999990463257, 1.486199975013733, 1.4855999946594238, 1.4855999946594238, 1.2954000234603882, 1.1926000118255615, 1.1907999515533447, 1.1043000221252441, 1.0888999700546265, 1.0778000354766846, 1.0484999418258667, 0.8743000030517578, 0.2621999979019165, 0.2273000031709671, 0.039799999445676804, -0.26489999890327454, -0.5386999845504761, -2.7506000995635986, 2.543800115585327, 2.2825000286102295, 2.2825000286102295, 2.2613000869750977, 2.0864999294281006, 2.030600070953369, 1.9049999713897705, 1.858199954032898, 1.8358999490737915, 1.8358999490737915, 1.6243000030517578, 1.596500039100647, 1.4033000469207764, 1.3549000024795532, 1.3229000568389893, 1.2027000188827515, 1.0029000043869019, 0.45489999651908875, 0.13539999723434448, -0.42480000853538513, -0.4537000060081482, -0.4537000060081482, -0.4830000102519989, -0.4830000102519989, -0.4830000102519989, -0.4830000102519989, -0.4830000102519989, -0.4830000102519989, -0.4830000102519989, -0.4830000102519989, -0.4830000102519989, -1.062000036239624, -1.6262999773025513, -2.7711000442504883, -1.4642000198364258, -1.832900047302246, -1.2446999549865723, -0.5577999949455261, -2.177799940109253, -2.4096999168395996, -2.1280999183654785, -2.1275999546051025, 2.796799898147583, 2.5234999656677246, 2.5234999656677246, 2.4911999702453613, 2.303100109100342, 1.801200032234192, 1.783400058746338, 1.6505000591278076, 1.5595999956130981, 1.3669999837875366, 1.2203999757766724, 1.1096999645233154, 1.0738999843597412, 0.9448000192642212, 0.7347999811172485, 0.5835000276565552, -0.08079999685287476, -0.22020000219345093, -0.2782999873161316, -0.2782999873161316, -0.2782999873161316, -0.2782999873161316, -0.2782999873161316, -0.2782999873161316, -0.2782999873161316, -0.2782999873161316, -0.2782999873161316, -0.2854999899864197, -0.2854999899864197, -0.29260000586509705, -0.8574000000953674, -1.0236999988555908, -0.7325999736785889, -1.3753000497817993, -0.29409998655319214, -0.7487000226974487, -0.33239999413490295, -0.3531999886035919, -1.0400999784469604, -2.432499885559082, -0.7623999714851379, -2.414299964904785, -0.3203999996185303, 2.8722000122070312, 2.616499900817871, 2.616499900817871, 2.616499900817871, 2.574199914932251, 2.210400104522705, 2.0027999877929688, 1.749899983406067, 1.5108000040054321, 1.3909000158309937, 1.2177000045776367, 0.8587999939918518, 0.7111999988555908, 0.4837999939918518, -0.05220000073313713, -0.07639999687671661, -0.10530000180006027, -0.10530000180006027, -0.13449999690055847, -0.13449999690055847, -0.13449999690055847, -0.13449999690055847, -0.13449999690055847, -0.13449999690055847, -0.13449999690055847, -0.13449999690055847, -0.13449999690055847, -0.14169999957084656, -0.14169999957084656, -0.14880000054836273, -0.14880000054836273, -2.4223999977111816, -2.0452001094818115, -1.1052000522613525, -1.7797000408172607, -0.2093999981880188, -0.6049000024795532, -0.18870000541210175, -0.8963000178337097, -1.277899980545044, -0.6186000108718872, -2.2704999446868896, -0.17659999430179596, -0.5889000296592712, -0.15029999613761902, -0.15029999613761902, 2.4214999675750732, 2.4154999256134033, 2.4154999256134033, 2.380500078201294, 2.1159000396728516, 2.115799903869629, 1.885599970817566, 1.7091000080108643, 1.3008999824523926, 1.1608999967575073, 1.0465999841690063, 0.9559999704360962, 0.3653999865055084, 0.09160000085830688, 0.06270000338554382, 0.06270000338554382, 0.03350000083446503, 0.033399999141693115, 0.033399999141693115, 0.033399999141693115, 0.033399999141693115, 0.033399999141693115, 0.033399999141693115, 0.033399999141693115, 0.033399999141693115, 0.02630000002682209, 0.02630000002682209, 0.019200000911951065, 0.019200000911951065, 0.019200000911951065, -0.5455999970436096, 0.019200000911951065, -0.42089998722076416, -0.7120000123977661, -0.02070000022649765, 0.01769999973475933, -0.43689998984336853, -0.0414000004529953, -2.120800018310547, -0.4505999982357025, -2.1024999618530273, -1.5160000324249268, -0.00860000029206276, -1.1098999977111816, 0.01759999990463257, 0.01759999990463257, -1.3868999481201172, 3.3213999271392822, 2.9804000854492188, 2.9484000205993652, 2.0260000228881836, 0.973800003528595, 0.7681000232696533, 0.6669999957084656, 0.17890000343322754, 0.17890000343322754, 0.14970000088214874, 0.14970000088214874, 0.14970000088214874, 0.14970000088214874, 0.14970000088214874, 0.14970000088214874, 0.14970000088214874, 0.14970000088214874, 0.14970000088214874, 0.14259999990463257, 0.14259999990463257, 0.13539999723434448, 0.13539999723434448, 0.13539999723434448, 0.13539999723434448, 0.13539999723434448, 0.1339000016450882, 0.1339000016450882, 0.1339000016450882, 0.1339000016450882, 0.1339000016450882, 0.1339000016450882, 0.07490000128746033, -0.7850000262260437, 0.07490000128746033, -0.83160001039505, -0.9936000108718872, -0.3046000003814697, -2.425299882888794, -2.1384999752044678, -1.4394999742507935, -1.986299991607666, -1.7002999782562256, -0.6121000051498413, 0.07490000128746033, -0.3343000113964081, -1.3997999429702759, 0.10760000348091125, -0.3206000030040741, 0.09560000151395798, -0.5957000255584717, -1.2705999612808228], \"logprob\": [30.0, 29.0, 28.0, 27.0, 26.0, 25.0, 24.0, 23.0, 22.0, 21.0, 20.0, 19.0, 18.0, 17.0, 16.0, 15.0, 14.0, 13.0, 12.0, 11.0, 10.0, 9.0, 8.0, 7.0, 6.0, 5.0, 4.0, 3.0, 2.0, 1.0, -3.1767001152038574, -2.6242001056671143, -4.514999866485596, -4.514999866485596, -4.514999866485596, -4.514999866485596, -4.514999866485596, -4.514999866485596, -4.514999866485596, -4.514999866485596, -4.514999866485596, -4.514999866485596, -4.515100002288818, -4.515100002288818, -3.853600025177002, -2.956899881362915, -3.0411999225616455, -3.1767001152038574, -3.4590001106262207, -4.514999866485596, -4.514999866485596, -4.514999866485596, -4.514999866485596, -2.956899881362915, -4.514999866485596, -4.514999866485596, -3.853600025177002, -4.514999866485596, -4.515100002288818, -4.514999866485596, -3.4590001106262207, -3.1767001152038574, -3.4590001106262207, -3.4590001106262207, -2.7767999172210693, -3.853600025177002, -4.168099880218506, -4.420000076293945, -4.514999866485596, -4.514999866485596, -3.2548999786376953, -3.649600028991699, -4.310999870300293, -4.310999870300293, -4.310999870300293, -4.310999870300293, -4.310999870300293, -4.310999870300293, -4.310999870300293, -4.310999870300293, -2.4363999366760254, -3.649600028991699, -3.649600028991699, -4.310999870300293, -3.3024001121520996, -2.997299909591675, -1.6061999797821045, -4.310999870300293, -4.310999870300293, -4.310999870300293, -2.6370999813079834, -4.310999870300293, -4.310999870300293, -4.310999870300293, -4.310999870300293, -4.310999870300293, -3.649600028991699, -4.310999870300293, -4.310999870300293, -4.310999870300293, -4.310999870300293, -3.462399959564209, -3.0678000450134277, -1.8818000555038452, -4.123799800872803, -4.123799800872803, -4.123799800872803, -4.123799800872803, -4.123799800872803, -4.123799800872803, -3.4625000953674316, -3.0678000450134277, -4.123799800872803, -4.123899936676025, -4.123799800872803, -4.123799800872803, -4.123899936676025, -3.462399959564209, -4.123799800872803, -4.123799800872803, -3.0678000450134277, -4.123799800872803, -4.123899936676025, -4.123799800872803, -3.998800039291382, -4.123799800872803, -4.035099983215332, -4.02239990234375, -3.3954999446868896, -4.123799800872803, -4.123799800872803, -2.7583000659942627, -3.002500057220459, -3.3970999717712402, -4.058599948883057, -4.058599948883057, -4.058599948883057, -4.058599948883057, -4.058599948883057, -4.058599948883057, -4.058599948883057, -4.058599948883057, -4.058599948883057, -4.058599948883057, -4.058599948883057, -4.058599948883057, -4.058599948883057, -4.058599948883057, -4.058599948883057, -3.3970999717712402, -3.3970999717712402, -3.232599973678589, -4.058599948883057, -3.3970999717712402, -4.058599948883057, -2.5004000663757324, -4.058599948883057, -4.058599948883057, -3.397200107574463, -4.0584001541137695, -4.058599948883057, -4.058599948883057, -3.3970999717712402, -4.0167999267578125, -4.0584001541137695, -4.058599948883057, -4.058599948883057, -2.7174999713897705, -4.055799961090088, -4.055799961090088, -4.055799961090088, -4.055799961090088, -4.055799961090088, -3.394399881362915, -3.394399881362915, -2.7174999713897705, -4.055799961090088, -4.055799961090088, -2.164900064468384, -4.055799961090088, -4.055799961090088, -4.055799961090088, -3.394399881362915, -4.055799961090088, -4.055799961090088, -3.394399881362915, -2.0025999546051025, -3.394399881362915, -4.055799961090088, -4.055799961090088, -4.055799961090088, -4.055799961090088, -6.828400135040283, -6.828400135040283, -6.828400135040283, -6.828400135040283, -6.828400135040283, -6.828400135040283, -6.828400135040283, -6.828400135040283, -6.823599815368652, -6.828199863433838, -6.828199863433838, -6.828199863433838, -6.828199863433838, -1.601699948310852, -4.1072001457214355, -4.1072001457214355, -4.1072001457214355, -4.1072001457214355, -4.1072001457214355, -4.1072001457214355, -3.051100015640259, -3.450900077819824, -3.1796000003814697, -4.1072001457214355, -4.1072001457214355, -4.1072001457214355, -3.4458000659942627, -4.1072001457214355, -4.1072001457214355, -3.4458000659942627, -3.4458000659942627, -1.891800045967102, -4.122200012207031, -2.9941999912261963, -4.1072001457214355, -6.879700183868408, -6.879700183868408, -6.879700183868408, -6.879700183868408, -6.879700183868408, -6.879700183868408, -6.879700183868408, -6.879700183868408, -6.879700183868408, -6.879700183868408, -6.879700183868408, -6.879700183868408, -6.879700183868408, -6.879700183868408, -6.879700183868408, -6.879700183868408, -6.879700183868408, -6.879700183868408, -6.879700183868408, -6.879700183868408, -3.3571999073028564, -3.3571999073028564, -3.3571999073028564, -2.4605000019073486, -4.018599987030029, -4.018599987030029, -4.018599987030029, -4.018599987030029, -4.018599987030029, -4.018599987030029, -4.018599987030029, -4.018599987030029, -4.018599987030029, -4.018599987030029, -4.018599987030029, -4.018599987030029, -4.018599987030029, -3.3571999073028564, -4.018599987030029, -4.018599987030029, -4.018599987030029, -2.962599992752075, -4.018599987030029, -3.3571999073028564, -4.018599987030029, -4.018599987030029, -4.018599987030029, -4.018599987030029, -4.018599987030029, -4.018599987030029, -3.3571999073028564, -3.3571999073028564, -4.018599987030029, -2.84660005569458, -3.902600049972534, -3.902600049972534, -3.902600049972534, -3.902600049972534, -3.902600049972534, -3.902600049972534, -3.902600049972534, -3.902600049972534, -3.9026999473571777, -3.2411999702453613, -3.2411999702453613, -3.902600049972534, -2.84660005569458, -2.84660005569458, -3.902600049972534, -3.902600049972534, -3.902600049972534, -3.2411999702453613, -3.902600049972534, -3.902600049972534, -3.902600049972534, -3.577500104904175, -3.902600049972534, -3.2411999702453613, -3.902600049972534, -3.214600086212158, -3.877500057220459, -6.67519998550415, -6.67519998550415, -3.8952999114990234, -6.673099994659424, -1.9829000234603882, -3.212399959564209, -3.873800039291382, -3.873800039291382, -3.873800039291382, -3.873800039291382, -3.873800039291382, -2.5355000495910645, -3.873800039291382, -3.873800039291382, -3.873800039291382, -2.5355000495910645, -3.212399959564209, -3.212399959564209, -3.873800039291382, -3.873800039291382, -3.873800039291382, -3.873800039291382, -3.873800039291382, -3.212399959564209, -3.873800039291382, -3.212399959564209, -6.646399974822998, -6.646399974822998, -6.646399974822998, -6.646399974822998, -6.646399974822998, -6.646399974822998, -6.646399974822998, -6.646399974822998, -6.646399974822998, -6.646399974822998, -6.646399974822998, -6.646399974822998, -6.646100044250488, -6.646200180053711, -6.646399974822998, -6.646399974822998, -6.646399974822998, -6.646399974822998, -6.646399974822998, -6.646399974822998, -3.873800039291382, -3.873800039291382, -3.873800039291382, -3.873800039291382, -3.873800039291382, -3.873800039291382, -3.873800039291382, -3.873800039291382, -3.873800039291382, -2.315700054168701, -3.873800039291382, -3.873800039291382, -3.212399959564209, -3.873800039291382, -3.873800039291382, -3.873800039291382, -3.873800039291382, -3.212399959564209, -3.212399959564209, -3.873800039291382, -3.212399959564209, -3.873800039291382, -3.212399959564209, -3.873800039291382, -3.873800039291382, -3.212399959564209, -3.873800039291382, -3.873800039291382, -3.873800039291382, -6.646399974822998, -6.645999908447266, -1.6198999881744385, -3.759999990463257, -3.759999990463257, -3.0987000465393066, -2.703900098800659, -3.098599910736084, -3.759999990463257, -3.759999990463257, -3.759999990463257, -3.759999990463257, -3.1514999866485596, -3.759999990463257, -3.7500998973846436, -3.759999990463257, -3.759999990463257, -3.759999990463257, -3.7451999187469482, -3.339400053024292, -3.759999990463257, -6.532599925994873, -6.532599925994873, -6.532599925994873, -6.532599925994873, -6.532599925994873, -6.532599925994873, -6.532599925994873, -6.532599925994873, -6.532599925994873, -6.532599925994873, -6.532599925994873, -6.532599925994873, -3.759999990463257, -6.53249979019165, -6.53249979019165, -6.53249979019165, -6.532599925994873, -6.532599925994873, -6.532599925994873, -6.532599925994873, -6.532599925994873, -6.532599925994873, -6.532599925994873, -2.8940000534057617, -3.5553998947143555, -3.5553998947143555, -2.8940000534057617, -2.499300003051758, -3.5553998947143555, -3.5553998947143555, -2.893899917602539, -3.5553998947143555, -3.5553998947143555, -3.5553998947143555, -2.499300003051758, -3.5553998947143555, -3.5553998947143555, -3.5553998947143555, -3.5553998947143555, -3.5553998947143555, -6.327899932861328, -6.327899932861328, -6.327899932861328, -6.327899932861328, -6.327899932861328, -6.327899932861328, -6.327899932861328, -6.327899932861328, -6.327899932861328, -6.327899932861328, -6.327899932861328, -6.327899932861328, -6.327899932861328, -3.5553998947143555, -6.327899932861328, -6.327899932861328, -6.327899932861328, -6.327899932861328, -6.327899932861328, -6.327899932861328, -6.327899932861328, -6.327899932861328, -6.327899932861328, -6.327899932861328, -6.327899932861328, -6.327899932861328, -2.750200033187866, -3.411600112915039, -3.411600112915039, -3.411600112915039, -2.750200033187866, -3.411600112915039, -3.411600112915039, -2.750200033187866, -3.411600112915039, -3.411600112915039, -3.411600112915039, -2.750200033187866, -3.411600112915039, -3.411600112915039, -2.750200033187866, -6.184100151062012, -6.184100151062012, -6.184100151062012, -6.184100151062012, -6.184100151062012, -6.184100151062012, -6.184100151062012, -6.184100151062012, -6.184100151062012, -6.184100151062012, -6.184100151062012, -6.184100151062012, -6.184100151062012, -6.184100151062012, -6.184100151062012, -6.184100151062012, -6.183800220489502, -6.184000015258789, -6.184100151062012, -6.184100151062012, -6.184100151062012, -6.184100151062012, -6.184100151062012, -6.184100151062012, -6.184100151062012, -6.184100151062012, -6.184100151062012, -6.184100151062012, -6.184100151062012, -6.184100151062012, -6.184100151062012, -3.2435998916625977, -3.2435998916625977, -3.2435998916625977, -2.582200050354004, -3.2435998916625977, -3.2435998916625977, -3.2435998916625977, -3.2435998916625977, -3.2435998916625977, -3.2435998916625977, -3.2435998916625977, -3.2435998916625977, -3.2435998916625977, -6.016200065612793, -6.016200065612793, -6.016200065612793, -6.016200065612793, -6.016200065612793, -6.016200065612793, -6.016200065612793, -6.016200065612793, -6.016200065612793, -6.016200065612793, -6.016200065612793, -6.016200065612793, -6.016200065612793, -6.016200065612793, -6.016200065612793, -6.016200065612793, -6.016200065612793, -3.2435998916625977, -6.016200065612793, -6.016200065612793, -6.016200065612793, -6.016200065612793, -6.016200065612793, -6.016200065612793, -6.016200065612793, -6.016200065612793, -6.016200065612793, -6.016200065612793, -6.016200065612793, -6.016200065612793, -6.016200065612793, -6.016200065612793, -6.016200065612793, -6.016200065612793, -1.569200038909912, -3.1273000240325928, -2.46589994430542, -3.1273000240325928, -3.1273000240325928, -3.1273000240325928, -3.1273000240325928, -5.899899959564209, -5.899899959564209, -5.899899959564209, -5.899899959564209, -5.899899959564209, -5.899899959564209, -5.899899959564209, -5.899899959564209, -5.899899959564209, -5.899899959564209, -5.899899959564209, -5.899899959564209, -5.899899959564209, -5.899899959564209, -5.899899959564209, -5.899899959564209, -5.899899959564209, -5.899899959564209, -5.899899959564209, -5.899899959564209, -5.899899959564209, -5.899899959564209, -5.899899959564209, -5.899899959564209, -5.899899959564209, -5.899899959564209, -5.899899959564209, -5.899899959564209, -5.899899959564209, -5.899899959564209, -5.899899959564209, -5.899899959564209, -5.899899959564209, -5.899899959564209, -5.899899959564209, -5.899899959564209, -5.899899959564209, -5.899899959564209, -5.899899959564209, -5.899899959564209, -5.899899959564209, -5.899899959564209, -5.899899959564209, -5.899899959564209]}, \"token.table\": {\"Topic\": [2, 8, 10, 14, 2, 4, 7, 5, 10, 14, 4, 3, 10, 1, 7, 10, 4, 1, 8, 4, 1, 3, 8, 9, 11, 15, 1, 2, 4, 5, 8, 9, 10, 7, 11, 14, 1, 1, 3, 6, 8, 11, 1, 3, 3, 8, 4, 7, 4, 11, 8, 10, 11, 8, 15, 2, 7, 9, 4, 9, 8, 1, 2, 4, 7, 10, 12, 1, 7, 7, 7, 2, 11, 12, 5, 4, 10, 1, 9, 9, 3, 4, 1, 3, 4, 10, 1, 2, 9, 11, 12, 1, 10, 10, 8, 10, 1, 4, 10, 12, 14, 6, 1, 4, 4, 9, 1, 2, 3, 4, 6, 7, 8, 9, 10, 12, 1, 2, 6, 7, 4, 5, 7, 8, 14, 2, 10, 1, 11, 6, 6, 2, 3, 6, 9, 12, 14, 5, 1, 8, 2, 7, 2, 9, 12, 1, 6, 14, 6, 11, 15, 10, 11, 3, 1, 2, 3, 9, 14, 1, 1, 5, 7, 8, 13, 1, 3, 4, 6, 10, 15, 7, 1, 6, 8, 12, 13, 7, 3, 2, 3, 4, 9, 13, 4, 7, 4, 4, 3, 7, 7, 2, 5, 8, 2, 1, 3, 4, 5, 11, 13, 15, 4, 5, 4, 2, 10, 14, 1, 2, 3, 4, 5, 6, 7, 8, 11, 12, 13, 14, 2, 4, 5, 7, 10, 12, 13, 14, 2, 5, 7, 8, 10, 4, 6, 9, 5, 11, 1, 2, 8, 1, 8, 11, 12, 5, 13, 1, 2, 1, 4, 2, 2, 7, 12, 13, 8, 11, 14, 7, 12, 13, 10, 6, 2, 6, 1, 3, 4, 6, 10, 11, 3, 1, 2, 15, 4, 8, 13, 15, 7, 3, 13, 5, 2, 3, 5, 9, 10, 6, 7, 8, 3, 4, 6, 1, 3, 10, 12, 13, 3, 6, 2, 1, 3, 9, 9, 10, 13, 1, 11, 1, 5, 6, 7, 8, 13, 4, 8, 12, 1, 9, 3, 8, 2, 5, 12, 3, 5, 7, 5, 7, 5, 10, 5, 7, 11, 8, 10, 9, 5, 3, 4, 6, 9, 1, 12, 7, 1, 2, 3, 3, 5, 7, 12, 13, 7, 10, 11, 14, 6, 14, 3, 5, 11, 1, 4, 8, 9, 10, 1, 4, 7, 8, 9], \"Freq\": [0.2253921926021576, 0.2253921926021576, 0.2253921926021576, 0.2253921926021576, 0.647310733795166, 0.41724491119384766, 0.41724491119384766, 0.3385342061519623, 0.3385342061519623, 0.3385342061519623, 0.6291475892066956, 0.4359491765499115, 0.4359491765499115, 0.6264093518257141, 0.6395074725151062, 0.6750681400299072, 0.6291475892066956, 0.6264044046401978, 0.6603075861930847, 0.6291475296020508, 0.07077673822641373, 0.5662139058113098, 0.07077673822641373, 0.14155347645282745, 0.07077673822641373, 0.07077673822641373, 0.23923195898532867, 0.15948797762393951, 0.07974398881196976, 0.07974398881196976, 0.15948797762393951, 0.23923195898532867, 0.07974398881196976, 0.2689080238342285, 0.537816047668457, 0.2689080238342285, 0.6264045238494873, 0.5250391960144043, 0.35002613067626953, 0.3832995891571045, 0.19164979457855225, 0.3832995891571045, 0.6264062523841858, 0.6373500823974609, 0.5060606002807617, 0.25303030014038086, 0.6291475892066956, 0.8435486555099487, 0.6291475892066956, 0.6702619791030884, 0.6602669954299927, 0.33871951699256897, 0.6774390339851379, 0.21183957159519196, 0.6355187296867371, 0.15804889798164368, 0.6321955919265747, 0.15804889798164368, 0.6291475296020508, 0.8893576264381409, 0.660267174243927, 0.2996607720851898, 0.0998869240283966, 0.0998869240283966, 0.0998869240283966, 0.3995476961135864, 0.0998869240283966, 0.4160366654396057, 0.4160366654396057, 0.6395071148872375, 0.6395071148872375, 0.3375541567802429, 0.3375541567802429, 0.3375541567802429, 0.6472636461257935, 0.6291475892066956, 0.6750693917274475, 0.6264045238494873, 0.6654946208000183, 0.6654936075210571, 0.6373500823974609, 0.6291475892066956, 0.2520957291126251, 0.2520957291126251, 0.2520957291126251, 0.2520957291126251, 0.18885104358196259, 0.18885104358196259, 0.18885104358196259, 0.18885104358196259, 0.18885104358196259, 0.6264073252677917, 0.6750680208206177, 0.6750721335411072, 0.660267174243927, 0.6750680208206177, 0.4648396670818329, 0.11620991677045822, 0.11620991677045822, 0.11620991677045822, 0.11620991677045822, 0.6644910573959351, 0.7288171648979187, 0.6291475892066956, 0.6311950087547302, 0.3155975043773651, 0.10281530767679214, 0.2056306153535843, 0.10281530767679214, 0.10281530767679214, 0.10281530767679214, 0.10281530767679214, 0.10281530767679214, 0.10281530767679214, 0.05140765383839607, 0.05140765383839607, 0.20545591413974762, 0.0684853047132492, 0.6848530173301697, 0.0684853047132492, 0.6291475296020508, 0.39082878828048706, 0.13027626276016235, 0.2605525255203247, 0.13027626276016235, 0.44058647751808167, 0.44058647751808167, 0.42883768677711487, 0.42883768677711487, 0.6644890308380127, 0.6644901037216187, 0.6473106145858765, 0.2997158467769623, 0.2997158467769623, 0.14985792338848114, 0.14985792338848114, 0.14985792338848114, 0.6472606658935547, 0.3212814927101135, 0.642562985420227, 0.6473106145858765, 0.6395071148872375, 0.6406918168067932, 0.6654936075210571, 0.6950979232788086, 0.6264044046401978, 0.4568283259868622, 0.4568283259868622, 0.5509800910949707, 0.27549004554748535, 0.27549004554748535, 0.6750679612159729, 0.67026287317276, 0.6373500823974609, 0.31843188405036926, 0.31843188405036926, 0.10614395886659622, 0.21228791773319244, 0.10614395886659622, 0.6264129281044006, 0.41330692172050476, 0.2755379378795624, 0.1377689689397812, 0.1377689689397812, 0.6606550216674805, 0.577141284942627, 0.09619021415710449, 0.09619021415710449, 0.09619021415710449, 0.09619021415710449, 0.09619021415710449, 0.8435479998588562, 0.3262307643890381, 0.3262307643890381, 0.16311538219451904, 0.16311538219451904, 0.16311538219451904, 0.6395074725151062, 0.8397984504699707, 0.4915021061897278, 0.09830041974782944, 0.09830041974782944, 0.19660083949565887, 0.09830041974782944, 0.6291529536247253, 0.6395071744918823, 0.6291561126708984, 0.6291495561599731, 0.4208367168903351, 0.4208367168903351, 0.6395074725151062, 0.2597760558128357, 0.2597760558128357, 0.5195521116256714, 0.6473106145858765, 0.31322088837623596, 0.15661044418811798, 0.15661044418811798, 0.15661044418811798, 0.07830522209405899, 0.07830522209405899, 0.07830522209405899, 0.6291475296020508, 0.6472596526145935, 0.6291475892066956, 0.33854833245277405, 0.33854833245277405, 0.33854833245277405, 0.11822979897260666, 0.3073974847793579, 0.070937879383564, 0.023645959794521332, 0.16552171111106873, 0.16552171111106873, 0.047291919589042664, 0.023645959794521332, 0.023645959794521332, 0.023645959794521332, 0.047291919589042664, 0.023645959794521332, 0.05880184471607208, 0.23520737886428833, 0.3528110682964325, 0.05880184471607208, 0.05880184471607208, 0.11760368943214417, 0.11760368943214417, 0.05880184471607208, 0.13034914433956146, 0.13034914433956146, 0.2606982886791229, 0.2606982886791229, 0.13034914433956146, 0.3672981262207031, 0.3672981262207031, 0.18364906311035156, 0.4385121762752533, 0.4385121762752533, 0.3151422441005707, 0.6302844882011414, 0.6602669954299927, 0.26510438323020935, 0.26510438323020935, 0.26510438323020935, 0.26510438323020935, 0.32687053084373474, 0.6537410616874695, 0.3151436448097229, 0.6302872896194458, 0.3065260648727417, 0.6130521297454834, 0.6473106145858765, 0.19395838677883148, 0.19395838677883148, 0.38791677355766296, 0.19395838677883148, 0.6602669358253479, 0.4595494270324707, 0.4595494270324707, 0.6395074725151062, 0.6950978636741638, 0.8807392716407776, 0.6750679612159729, 0.6644890308380127, 0.8571786880493164, 0.6644892692565918, 0.6264076232910156, 0.18370550870895386, 0.3674110174179077, 0.18370550870895386, 0.18370550870895386, 0.18370550870895386, 0.6373500227928162, 0.6264045238494873, 0.6473110318183899, 0.7154702544212341, 0.8256155848503113, 0.660267174243927, 0.35764604806900024, 0.35764604806900024, 0.6395090222358704, 0.6373500227928162, 0.6606550216674805, 0.7671680450439453, 0.2889366149902344, 0.1444683074951172, 0.1444683074951172, 0.1444683074951172, 0.1444683074951172, 0.6644890308380127, 0.6395074725151062, 0.6602669358253479, 0.21517989039421082, 0.21517989039421082, 0.43035978078842163, 0.21866965293884277, 0.21866965293884277, 0.21866965293884277, 0.21866965293884277, 0.21866965293884277, 0.43151307106018066, 0.43151307106018066, 0.6473108530044556, 0.6155979037284851, 0.30779895186424255, 0.6654930114746094, 0.665497362613678, 0.6750686168670654, 0.6606550216674805, 0.42883753776550293, 0.42883753776550293, 0.31914860010147095, 0.31914860010147095, 0.31914860010147095, 0.8435496687889099, 0.44019806385040283, 0.44019806385040283, 0.921542763710022, 0.34735849499702454, 0.34735849499702454, 0.4268805682659149, 0.4268805682659149, 0.260201096534729, 0.520402193069458, 0.6473110318183899, 0.6632080674171448, 0.3316040337085724, 0.3178659975528717, 0.6357319951057434, 0.6395071148872375, 0.6472600698471069, 0.6395074725151062, 0.4405631124973297, 0.4405631124973297, 0.2567457854747772, 0.5134915709495544, 0.2567457854747772, 0.6602685451507568, 0.6750680208206177, 0.8361657857894897, 0.6472595930099487, 0.6373500227928162, 0.3242492079734802, 0.3242492079734802, 0.3242492079734802, 0.6264046430587769, 0.4715164005756378, 0.6395071744918823, 0.6264073252677917, 0.3154676854610443, 0.6309353709220886, 0.143355131149292, 0.143355131149292, 0.286710262298584, 0.143355131149292, 0.286710262298584, 0.2276756465435028, 0.2276756465435028, 0.2276756465435028, 0.2276756465435028, 0.45682862401008606, 0.45682862401008606, 0.10240322351455688, 0.20480644702911377, 0.7168225646018982, 0.11933327466249466, 0.11933327466249466, 0.23866654932498932, 0.3579998314380646, 0.11933327466249466, 0.4958437383174896, 0.1239609345793724, 0.1239609345793724, 0.1239609345793724, 0.1239609345793724], \"Term\": [\"able\", \"able\", \"able\", \"able\", \"acceptable\", \"actual\", \"actual\", \"additional\", \"additional\", \"additional\", \"affordable\", \"angry\", \"angry\", \"apologetic\", \"apprehensive\", \"arrive\", \"asian\", \"attentive\", \"attractive\", \"available\", \"bad\", \"bad\", \"bad\", \"bad\", \"bad\", \"bad\", \"best\", \"best\", \"best\", \"best\", \"best\", \"best\", \"best\", \"big\", \"big\", \"big\", \"bigger\", \"black\", \"black\", \"busy\", \"busy\", \"busy\", \"cellular\", \"cerebral\", \"certain\", \"certain\", \"chinese\", \"clear\", \"competitive\", \"complete\", \"continued\", \"corporate\", \"corporate\", \"courteous\", \"courteous\", \"current\", \"current\", \"current\", \"dead\", \"deductible\", \"defective\", \"different\", \"different\", \"different\", \"different\", \"different\", \"different\", \"disappointed\", \"disappointed\", \"displeased\", \"dissatisfied\", \"due\", \"due\", \"due\", \"earliest\", \"easiest\", \"easy\", \"economical\", \"enthusiastic\", \"entire\", \"envious\", \"essential\", \"expensive\", \"expensive\", \"expensive\", \"expensive\", \"experienced\", \"experienced\", \"experienced\", \"experienced\", \"experienced\", \"extra\", \"false\", \"fantastic\", \"fixable\", \"former\", \"free\", \"free\", \"free\", \"free\", \"free\", \"fresh\", \"full\", \"functional\", \"general\", \"general\", \"good\", \"good\", \"good\", \"good\", \"good\", \"good\", \"good\", \"good\", \"good\", \"good\", \"great\", \"great\", \"great\", \"great\", \"greater\", \"happy\", \"happy\", \"happy\", \"happy\", \"hard\", \"hard\", \"high\", \"high\", \"higher\", \"hilarious\", \"horrendous\", \"horrible\", \"horrible\", \"horrible\", \"horrible\", \"horrible\", \"hospitable\", \"hot\", \"hot\", \"huge\", \"important\", \"impressed\", \"inattentive\", \"incapable\", \"incredible\", \"individual\", \"individual\", \"interested\", \"interested\", \"interested\", \"international\", \"irresponsible\", \"ish\", \"ive\", \"ive\", \"ive\", \"ive\", \"ive\", \"knowledgable\", \"knowledgeable\", \"knowledgeable\", \"knowledgeable\", \"knowledgeable\", \"large\", \"last\", \"last\", \"last\", \"last\", \"last\", \"last\", \"latest\", \"least\", \"least\", \"least\", \"least\", \"least\", \"likely\", \"limited\", \"little\", \"little\", \"little\", \"little\", \"little\", \"low\", \"lower\", \"lowest\", \"lucky\", \"main\", \"main\", \"major\", \"many\", \"many\", \"many\", \"moppy\", \"much\", \"much\", \"much\", \"much\", \"much\", \"much\", \"much\", \"mytouch\", \"nasty\", \"nearest\", \"negative\", \"negative\", \"negative\", \"new\", \"new\", \"new\", \"new\", \"new\", \"new\", \"new\", \"new\", \"new\", \"new\", \"new\", \"new\", \"next\", \"next\", \"next\", \"next\", \"next\", \"next\", \"next\", \"next\", \"nice\", \"nice\", \"nice\", \"nice\", \"nice\", \"old\", \"old\", \"old\", \"open\", \"open\", \"original\", \"original\", \"outstanding\", \"overall\", \"overall\", \"overall\", \"overall\", \"particular\", \"particular\", \"pathetic\", \"pathetic\", \"personal\", \"personal\", \"pleased\", \"poor\", \"poor\", \"poor\", \"poor\", \"positive\", \"possible\", \"possible\", \"preferable\", \"prepared\", \"previous\", \"private\", \"productive\", \"professional\", \"quickest\", \"quiet\", \"ready\", \"ready\", \"ready\", \"ready\", \"ready\", \"real\", \"recent\", \"rediculous\", \"related\", \"reliable\", \"replaceable\", \"retail\", \"retail\", \"ridiculous\", \"robotic\", \"rural\", \"satisfied\", \"second\", \"second\", \"second\", \"second\", \"second\", \"sensitive\", \"separate\", \"serial\", \"several\", \"several\", \"several\", \"short\", \"short\", \"short\", \"short\", \"short\", \"single\", \"single\", \"skeptical\", \"small\", \"small\", \"smaller\", \"sociable\", \"social\", \"solid\", \"specific\", \"specific\", \"surprised\", \"surprised\", \"surprised\", \"technical\", \"technician\", \"technician\", \"temporary\", \"terrible\", \"terrible\", \"third\", \"third\", \"total\", \"total\", \"tremendous\", \"true\", \"true\", \"unable\", \"unable\", \"uncomfortable\", \"understandable\", \"uneducated\", \"unhappy\", \"unhappy\", \"unhelpful\", \"unhelpful\", \"unhelpful\", \"unknowledgeable\", \"unlimited\", \"unlocked\", \"unmotivated\", \"unpleasant\", \"unprofessional\", \"unprofessional\", \"unprofessional\", \"unrealistic\", \"unsatisfied\", \"unsuccessful\", \"upper\", \"white\", \"white\", \"whole\", \"whole\", \"whole\", \"whole\", \"whole\", \"willing\", \"willing\", \"willing\", \"willing\", \"worse\", \"worse\", \"worst\", \"worst\", \"worst\", \"wrong\", \"wrong\", \"wrong\", \"wrong\", \"wrong\", \"young\", \"young\", \"young\", \"young\", \"young\"]}, \"R\": 30, \"lambda.step\": 0.01, \"plot.opts\": {\"xlab\": \"PC1\", \"ylab\": \"PC2\"}, \"topic.order\": [10, 4, 14, 13, 15, 9, 6, 5, 8, 1, 3, 12, 7, 2, 11]};\n",
       "\n",
       "function LDAvis_load_lib(url, callback){\n",
       "  var s = document.createElement('script');\n",
       "  s.src = url;\n",
       "  s.async = true;\n",
       "  s.onreadystatechange = s.onload = callback;\n",
       "  s.onerror = function(){console.warn(\"failed to load library \" + url);};\n",
       "  document.getElementsByTagName(\"head\")[0].appendChild(s);\n",
       "}\n",
       "\n",
       "if(typeof(LDAvis) !== \"undefined\"){\n",
       "   // already loaded: just create the visualization\n",
       "   !function(LDAvis){\n",
       "       new LDAvis(\"#\" + \"ldavis_el1720149047440641379778570\", ldavis_el1720149047440641379778570_data);\n",
       "   }(LDAvis);\n",
       "}else if(typeof define === \"function\" && define.amd){\n",
       "   // require.js is available: use it to load d3/LDAvis\n",
       "   require.config({paths: {d3: \"https://cdnjs.cloudflare.com/ajax/libs/d3/3.5.5/d3.min\"}});\n",
       "   require([\"d3\"], function(d3){\n",
       "      window.d3 = d3;\n",
       "      LDAvis_load_lib(\"https://cdn.rawgit.com/bmabey/pyLDAvis/files/ldavis.v1.0.0.js\", function(){\n",
       "        new LDAvis(\"#\" + \"ldavis_el1720149047440641379778570\", ldavis_el1720149047440641379778570_data);\n",
       "      });\n",
       "    });\n",
       "}else{\n",
       "    // require.js not available: dynamically load d3 & LDAvis\n",
       "    LDAvis_load_lib(\"https://cdnjs.cloudflare.com/ajax/libs/d3/3.5.5/d3.min.js\", function(){\n",
       "         LDAvis_load_lib(\"https://cdn.rawgit.com/bmabey/pyLDAvis/files/ldavis.v1.0.0.js\", function(){\n",
       "                 new LDAvis(\"#\" + \"ldavis_el1720149047440641379778570\", ldavis_el1720149047440641379778570_data);\n",
       "            })\n",
       "         });\n",
       "}\n",
       "</script>"
      ],
      "text/plain": [
       "PreparedData(topic_coordinates=              x         y  topics  cluster       Freq\n",
       "topic                                                \n",
       "9      0.101022  0.015666       1        1  13.036777\n",
       "3      0.028659 -0.146035       2        1   9.977703\n",
       "13     0.052778  0.109271       3        1   8.528358\n",
       "12     0.058741 -0.034573       4        1   8.190413\n",
       "14    -0.165246 -0.033042       5        1   7.731670\n",
       "8     -0.004467  0.016480       6        1   7.725821\n",
       "5     -0.102736 -0.083867       7        1   7.626657\n",
       "4      0.047654 -0.001142       8        1   6.377567\n",
       "7      0.204558 -0.023053       9        1   6.099244\n",
       "0      0.067242 -0.078950      10        1   5.925030\n",
       "2     -0.074228  0.193239      11        1   5.365081\n",
       "11    -0.073158 -0.052682      12        1   4.055345\n",
       "6     -0.106421 -0.015401      13        1   3.898385\n",
       "1     -0.055932 -0.011695      14        1   2.977473\n",
       "10     0.021534  0.145785      15        1   2.484478, topic_info=    Category       Freq           Term      Total  loglift  logprob\n",
       "1    Default  14.000000          great  14.000000  30.0000  30.0000\n",
       "32   Default   9.000000          worst   9.000000  29.0000  29.0000\n",
       "4    Default  42.000000            new  42.000000  28.0000  28.0000\n",
       "18   Default  17.000000           next  17.000000  27.0000  27.0000\n",
       "25   Default  14.000000            bad  14.000000  26.0000  26.0000\n",
       "11   Default   4.000000      courteous   4.000000  25.0000  25.0000\n",
       "183  Default   5.000000       unlocked   5.000000  24.0000  24.0000\n",
       "12   Default  10.000000      different  10.000000  23.0000  23.0000\n",
       "46   Default   7.000000          happy   7.000000  22.0000  22.0000\n",
       "77   Default  10.000000         little  10.000000  21.0000  21.0000\n",
       "92   Default   8.000000          wrong   8.000000  20.0000  20.0000\n",
       "59   Default  12.000000           much  12.000000  19.0000  19.0000\n",
       "50   Default  10.000000           last  10.000000  18.0000  18.0000\n",
       "17   Default   8.000000           free   8.000000  17.0000  17.0000\n",
       "20   Default   6.000000        current   6.000000  16.0000  16.0000\n",
       "56   Default   6.000000          whole   6.000000  15.0000  15.0000\n",
       "35   Default   5.000000           poor   5.000000  14.0000  14.0000\n",
       "28   Default   9.000000            ive   9.000000  13.0000  13.0000\n",
       "26   Default   6.000000       horrible   6.000000  12.0000  12.0000\n",
       "57   Default  12.000000           best  12.000000  11.0000  11.0000\n",
       "159  Default   4.000000        willing   4.000000  10.0000  10.0000\n",
       "33   Default   5.000000           busy   5.000000   9.0000   9.0000\n",
       "47   Default   7.000000           nice   7.000000   8.0000   8.0000\n",
       "87   Default   2.000000         retail   2.000000   7.0000   7.0000\n",
       "126  Default   3.000000      satisfied   3.000000   6.0000   6.0000\n",
       "38   Default   3.000000            big   3.000000   5.0000   5.0000\n",
       "67   Default   4.000000           able   4.000000   4.0000   4.0000\n",
       "43   Default   5.000000            old   5.000000   3.0000   3.0000\n",
       "51   Default   6.000000          least   6.000000   2.0000   2.0000\n",
       "110  Default   3.000000     interested   3.000000   1.0000   1.0000\n",
       "..       ...        ...            ...        ...      ...      ...\n",
       "125  Topic15   0.042747   enthusiastic   1.502642   0.1354  -5.8999\n",
       "78   Topic15   0.042747         entire   1.502644   0.1354  -5.8999\n",
       "76   Topic15   0.042747    inattentive   1.502644   0.1354  -5.8999\n",
       "182  Topic15   0.042747        smaller   1.502645   0.1354  -5.8999\n",
       "131  Topic15   0.042747          fresh   1.504911   0.1339  -5.8999\n",
       "184  Topic15   0.042747      hilarious   1.504913   0.1339  -5.8999\n",
       "180  Topic15   0.042747       quickest   1.504915   0.1339  -5.8999\n",
       "53   Topic15   0.042747      sensitive   1.504916   0.1339  -5.8999\n",
       "48   Topic15   0.042747         higher   1.504916   0.1339  -5.8999\n",
       "52   Topic15   0.042747     productive   1.504916   0.1339  -5.8999\n",
       "147  Topic15   0.042747          upper   1.596405   0.0749  -5.8999\n",
       "146  Topic15   0.042747        overall   3.772099  -0.7850  -5.8999\n",
       "145  Topic15   0.042747          extra   1.596405   0.0749  -5.8999\n",
       "10   Topic15   0.042747        certain   3.952096  -0.8316  -5.8999\n",
       "54   Topic15   0.042747        several   4.647274  -0.9936  -5.8999\n",
       "65   Topic15   0.042747   professional   2.333236  -0.3046  -5.8999\n",
       "21   Topic15   0.042747           good  19.452356  -2.4253  -5.8999\n",
       "1    Topic15   0.042747          great  14.601673  -2.1385  -5.8999\n",
       "2    Topic15   0.042747  knowledgeable   7.258528  -1.4395  -5.8999\n",
       "57   Topic15   0.042747           best  12.540131  -1.9863  -5.8999\n",
       "28   Topic15   0.042747            ive   9.421167  -1.7003  -5.8999\n",
       "60   Topic15   0.042747       original   3.173170  -0.6121  -5.8999\n",
       "61   Topic15   0.042747    unrealistic   1.596412   0.0749  -5.8999\n",
       "58   Topic15   0.042747   disappointed   2.403634  -0.3343  -5.8999\n",
       "56   Topic15   0.042747          whole   6.975683  -1.3998  -5.8999\n",
       "55   Topic15   0.042747          nasty   1.544975   0.1076  -5.8999\n",
       "62   Topic15   0.042747          clear   2.370936  -0.3206  -5.8999\n",
       "63   Topic15   0.042747     ridiculous   1.563700   0.0956  -5.8999\n",
       "64   Topic15   0.042747      impressed   3.121626  -0.5957  -5.8999\n",
       "51   Topic15   0.042747          least   6.130630  -1.2706  -5.8999\n",
       "\n",
       "[614 rows x 6 columns], token_table=      Topic      Freq          Term\n",
       "term                               \n",
       "67        2  0.225392          able\n",
       "67        8  0.225392          able\n",
       "67       10  0.225392          able\n",
       "67       14  0.225392          able\n",
       "79        2  0.647311    acceptable\n",
       "36        4  0.417245        actual\n",
       "36        7  0.417245        actual\n",
       "111       5  0.338534    additional\n",
       "111      10  0.338534    additional\n",
       "111      14  0.338534    additional\n",
       "148       4  0.629148    affordable\n",
       "24        3  0.435949         angry\n",
       "24       10  0.435949         angry\n",
       "108       1  0.626409    apologetic\n",
       "37        7  0.639507  apprehensive\n",
       "158      10  0.675068        arrive\n",
       "149       4  0.629148         asian\n",
       "133       1  0.626404     attentive\n",
       "132       8  0.660308    attractive\n",
       "135       4  0.629148     available\n",
       "25        1  0.070777           bad\n",
       "25        3  0.566214           bad\n",
       "25        8  0.070777           bad\n",
       "25        9  0.141553           bad\n",
       "25       11  0.070777           bad\n",
       "25       15  0.070777           bad\n",
       "57        1  0.239232          best\n",
       "57        2  0.159488          best\n",
       "57        4  0.079744          best\n",
       "57        5  0.079744          best\n",
       "...     ...       ...           ...\n",
       "61        1  0.626405   unrealistic\n",
       "7        12  0.471516   unsatisfied\n",
       "163       7  0.639507  unsuccessful\n",
       "147       1  0.626407         upper\n",
       "100       2  0.315468         white\n",
       "100       3  0.630935         white\n",
       "56        3  0.143355         whole\n",
       "56        5  0.143355         whole\n",
       "56        7  0.286710         whole\n",
       "56       12  0.143355         whole\n",
       "56       13  0.286710         whole\n",
       "159       7  0.227676       willing\n",
       "159      10  0.227676       willing\n",
       "159      11  0.227676       willing\n",
       "159      14  0.227676       willing\n",
       "164       6  0.456829         worse\n",
       "164      14  0.456829         worse\n",
       "32        3  0.102403         worst\n",
       "32        5  0.204806         worst\n",
       "32       11  0.716823         worst\n",
       "92        1  0.119333         wrong\n",
       "92        4  0.119333         wrong\n",
       "92        8  0.238667         wrong\n",
       "92        9  0.358000         wrong\n",
       "92       10  0.119333         wrong\n",
       "9         1  0.495844         young\n",
       "9         4  0.123961         young\n",
       "9         7  0.123961         young\n",
       "9         8  0.123961         young\n",
       "9         9  0.123961         young\n",
       "\n",
       "[375 rows x 3 columns], R=30, lambda_step=0.01, plot_opts={'xlab': 'PC1', 'ylab': 'PC2'}, topic_order=[10, 4, 14, 13, 15, 9, 6, 5, 8, 1, 3, 12, 7, 2, 11])"
      ]
     },
     "execution_count": 177,
     "metadata": {},
     "output_type": "execute_result"
    }
   ],
   "source": [
    "# Visualize the topics\n",
    "pyLDAvis.enable_notebook()\n",
    "vis = pyLDAvis.gensim.prepare(lda_model, doc_term_matrix, dictionary)\n",
    "vis"
   ]
  },
  {
   "cell_type": "code",
   "execution_count": 0,
   "metadata": {
    "colab": {},
    "colab_type": "code",
    "id": "2Krd9ndB1S-0"
   },
   "outputs": [],
   "source": [
    "# Print the Keyword in the 10 topics\n",
    "lda_model.print_topics()"
   ]
  },
  {
   "cell_type": "code",
   "execution_count": 144,
   "metadata": {
    "colab": {},
    "colab_type": "code",
    "id": "QQk4i7FQC6V_"
   },
   "outputs": [
    {
     "data": {
      "text/plain": [
       "['worst tmobile store ever horrible service bad attitudes whether you call or go in these people just ca not seem to get it right i do not know why the guys here seem to be so bitter and angry but ive always had bad experiences here each year i try to give them a second chance and each year they #fail tmobile prides themselves in having awesome service thats why my family has stuck with them for well over a decade so to go into a store or call into a store and get \\xa0bad attitudes just leaves a bad taste in my mouth and they just never seem to have enough employees to handle the amount of customers there will literally be one associate juggling or not juggling  people if the person is unable to multitask you could literally be standing in queue for + minutes there is a caveat though if one of their friends or if certain customers come in theyll drop everything in attend to them unless its president obama or first lady michelle or maybe oprah then attend to customers in the order they appear before you \\xa0like literally if its not one of those three people barack michelle oprah then attend to customers in the order of arrival not to mention they are almost always out of phones they hardly have the newer phones in stock youre in the city center literally off peachtree street and yet you ca not keep the main new phones in stock that ish cray lol oh and the cherry on top parking is limited very limited *sigh* please do better this store makes tmobile look bad',\n",
       " 'worst experience ever i went in the store to start a new service the employee was nasty not pleasant at all and did not describe anything she said my service would be the same as at&t i brought the phone home and it did not work in my house at all i called the store and spoke with the associate who sold me the phone she said i could bring it back and pay the restocking fee i did not think that was fair as she had lied to me she said only the manager could wave the fee and she had left for the day and would be back the next day i visited the store the next day and the manager was not in there was not even an assistant manager there two days in a row i called customer service and they said that only the store could issue my refund of the restocking fee the manager finally called me the next day and said that she was unable to issue the refund either i went into the store the next day and explained the situation although there were notes in the computer all about my situation she refused to issue the refund again i called customer device again and they too said no one in their whole chant could help me literally the worst cell phone provider ever stay away from t mobile and from the manager of this store',\n",
       " 'worst tmobile store ever there is always a long wait time the employees are just loafing around acting like they are doing something try to get a new phone service but i did not complete the transaction two months later i was charged $ phone bill went there to sort it out they have no clue what they are doing bunch of high school dropouts trying to be sales reps',\n",
       " 'abel has the worst customer service skills ever my husband and i were pulling teeth to even get oneworded answers out of him we will not be back to this store']"
      ]
     },
     "execution_count": 144,
     "metadata": {},
     "output_type": "execute_result"
    }
   ],
   "source": [
    "[rev for rev in all_reviews if \"new\" in rev and \"worst\" in rev]"
   ]
  },
  {
   "cell_type": "code",
   "execution_count": null,
   "metadata": {},
   "outputs": [],
   "source": []
  }
 ],
 "metadata": {
  "colab": {
   "collapsed_sections": [],
   "name": "Mining Online Reviews using Topic Modeling (LDA)",
   "provenance": [],
   "version": "0.3.2"
  },
  "kernelspec": {
   "display_name": "Python 3",
   "language": "python",
   "name": "python3"
  },
  "language_info": {
   "codemirror_mode": {
    "name": "ipython",
    "version": 3
   },
   "file_extension": ".py",
   "mimetype": "text/x-python",
   "name": "python",
   "nbconvert_exporter": "python",
   "pygments_lexer": "ipython3",
   "version": "3.7.0"
  }
 },
 "nbformat": 4,
 "nbformat_minor": 1
}
