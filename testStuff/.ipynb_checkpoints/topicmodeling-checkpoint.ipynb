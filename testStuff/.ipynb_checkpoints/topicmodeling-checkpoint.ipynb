{
 "cells": [
  {
   "cell_type": "code",
   "execution_count": 5,
   "metadata": {
    "colab": {
     "base_uri": "https://localhost:8080/",
     "height": 1063
    },
    "colab_type": "code",
    "id": "U32BHTBUq7D6",
    "outputId": "6f2ba14c-1484-4a32-e02e-0cc4106fed82"
   },
   "outputs": [
    {
     "name": "stdout",
     "output_type": "stream",
     "text": [
      "Requirement already satisfied: PyDrive in /usr/local/lib/python2.7/site-packages (1.3.1)\n",
      "Requirement already satisfied: PyYAML>=3.0 in /usr/local/lib/python2.7/site-packages (from PyDrive) (5.1)\n",
      "Requirement already satisfied: oauth2client>=4.0.0 in /usr/local/lib/python2.7/site-packages (from PyDrive) (4.1.3)\n",
      "Requirement already satisfied: google-api-python-client>=1.2 in /usr/local/lib/python2.7/site-packages (from PyDrive) (1.7.8)\n",
      "Requirement already satisfied: httplib2>=0.9.1 in /usr/local/lib/python2.7/site-packages (from oauth2client>=4.0.0->PyDrive) (0.10.3)\n",
      "Requirement already satisfied: six>=1.6.1 in /usr/local/Cellar/matplotlib/2.0.0_1/libexec/lib/python2.7/site-packages (from oauth2client>=4.0.0->PyDrive) (1.10.0)\n",
      "Requirement already satisfied: rsa>=3.1.4 in /usr/local/lib/python2.7/site-packages (from oauth2client>=4.0.0->PyDrive) (3.4.2)\n",
      "Requirement already satisfied: pyasn1-modules>=0.0.5 in /usr/local/lib/python2.7/site-packages (from oauth2client>=4.0.0->PyDrive) (0.2.1)\n",
      "Requirement already satisfied: pyasn1>=0.1.7 in /usr/local/lib/python2.7/site-packages (from oauth2client>=4.0.0->PyDrive) (0.4.2)\n",
      "Requirement already satisfied: google-auth>=1.4.1 in /usr/local/lib/python2.7/site-packages (from google-api-python-client>=1.2->PyDrive) (1.6.3)\n",
      "Requirement already satisfied: uritemplate<4dev,>=3.0.0 in /usr/local/lib/python2.7/site-packages (from google-api-python-client>=1.2->PyDrive) (3.0.0)\n",
      "Requirement already satisfied: google-auth-httplib2>=0.0.3 in /usr/local/lib/python2.7/site-packages (from google-api-python-client>=1.2->PyDrive) (0.0.3)\n",
      "Requirement already satisfied: cachetools>=2.0.0 in /usr/local/lib/python2.7/site-packages (from google-auth>=1.4.1->google-api-python-client>=1.2->PyDrive) (2.0.1)\n",
      "\u001b[31mgax-google-logging-v2 0.8.3 has requirement google-gax<0.13.0,>=0.12.5, but you'll have google-gax 0.15.16 which is incompatible.\u001b[0m\n",
      "\u001b[31mpyrebase 3.0.27 has requirement oauth2client==3.0.0, but you'll have oauth2client 4.1.3 which is incompatible.\u001b[0m\n",
      "\u001b[31mpyrebase 3.0.27 has requirement requests==2.11.1, but you'll have requests 2.21.0 which is incompatible.\u001b[0m\n",
      "\u001b[31mgax-google-pubsub-v1 0.8.3 has requirement google-gax<0.13.0,>=0.12.5, but you'll have google-gax 0.15.16 which is incompatible.\u001b[0m\n",
      "\u001b[33mYou are using pip version 10.0.1, however version 19.0.3 is available.\n",
      "You should consider upgrading via the 'pip install --upgrade pip' command.\u001b[0m\n",
      "Requirement already satisfied: gensim in /usr/local/lib/python2.7/site-packages (3.7.1)\n",
      "Requirement already satisfied: six>=1.5.0 in /usr/local/Cellar/matplotlib/2.0.0_1/libexec/lib/python2.7/site-packages (from gensim) (1.10.0)\n",
      "Requirement already satisfied: smart-open>=1.7.0 in /usr/local/lib/python2.7/site-packages (from gensim) (1.8.0)\n",
      "Requirement already satisfied: numpy>=1.11.3 in /usr/local/lib/python2.7/site-packages (from gensim) (1.16.2)\n",
      "Requirement already satisfied: scipy>=0.18.1 in /usr/local/lib/python2.7/site-packages (from gensim) (1.0.0)\n",
      "Requirement already satisfied: bz2file in /usr/local/lib/python2.7/site-packages (from smart-open>=1.7.0->gensim) (0.98)\n",
      "Requirement already satisfied: requests in /usr/local/lib/python2.7/site-packages (from smart-open>=1.7.0->gensim) (2.21.0)\n",
      "Requirement already satisfied: boto>=2.32 in /usr/local/lib/python2.7/site-packages (from smart-open>=1.7.0->gensim) (2.49.0)\n",
      "Requirement already satisfied: boto3 in /usr/local/lib/python2.7/site-packages (from smart-open>=1.7.0->gensim) (1.9.125)\n",
      "Requirement already satisfied: urllib3<1.25,>=1.21.1 in /usr/local/lib/python2.7/site-packages (from requests->smart-open>=1.7.0->gensim) (1.22)\n",
      "Requirement already satisfied: certifi>=2017.4.17 in /usr/local/lib/python2.7/site-packages (from requests->smart-open>=1.7.0->gensim) (2018.4.16)\n",
      "Requirement already satisfied: idna<2.9,>=2.5 in /usr/local/lib/python2.7/site-packages (from requests->smart-open>=1.7.0->gensim) (2.8)\n",
      "Requirement already satisfied: chardet<3.1.0,>=3.0.2 in /usr/local/lib/python2.7/site-packages (from requests->smart-open>=1.7.0->gensim) (3.0.4)\n",
      "Requirement already satisfied: botocore<1.13.0,>=1.12.125 in /usr/local/lib/python2.7/site-packages (from boto3->smart-open>=1.7.0->gensim) (1.12.125)\n",
      "Requirement already satisfied: jmespath<1.0.0,>=0.7.1 in /usr/local/lib/python2.7/site-packages (from boto3->smart-open>=1.7.0->gensim) (0.9.4)\n",
      "Requirement already satisfied: s3transfer<0.3.0,>=0.2.0 in /usr/local/lib/python2.7/site-packages (from boto3->smart-open>=1.7.0->gensim) (0.2.0)\n",
      "Requirement already satisfied: docutils>=0.10 in /usr/local/lib/python2.7/site-packages (from botocore<1.13.0,>=1.12.125->boto3->smart-open>=1.7.0->gensim) (0.14)\n",
      "Requirement already satisfied: python-dateutil<3.0.0,>=2.1; python_version >= \"2.7\" in /usr/local/Cellar/matplotlib/2.0.0_1/libexec/lib/python2.7/site-packages (from botocore<1.13.0,>=1.12.125->boto3->smart-open>=1.7.0->gensim) (2.6.0)\n",
      "Requirement already satisfied: futures<4.0.0,>=2.2.0; python_version == \"2.6\" or python_version == \"2.7\" in /usr/local/lib/python2.7/site-packages (from s3transfer<0.3.0,>=0.2.0->boto3->smart-open>=1.7.0->gensim) (3.2.0)\n",
      "\u001b[31mgax-google-logging-v2 0.8.3 has requirement google-gax<0.13.0,>=0.12.5, but you'll have google-gax 0.15.16 which is incompatible.\u001b[0m\n",
      "\u001b[31mpyrebase 3.0.27 has requirement oauth2client==3.0.0, but you'll have oauth2client 4.1.3 which is incompatible.\u001b[0m\n",
      "\u001b[31mpyrebase 3.0.27 has requirement requests==2.11.1, but you'll have requests 2.21.0 which is incompatible.\u001b[0m\n",
      "\u001b[31mgax-google-pubsub-v1 0.8.3 has requirement google-gax<0.13.0,>=0.12.5, but you'll have google-gax 0.15.16 which is incompatible.\u001b[0m\n",
      "\u001b[33mYou are using pip version 10.0.1, however version 19.0.3 is available.\n",
      "You should consider upgrading via the 'pip install --upgrade pip' command.\u001b[0m\n",
      "Requirement already satisfied: pyldavis in /usr/local/lib/python2.7/site-packages (2.1.2)\n",
      "Requirement already satisfied: funcy in /usr/local/lib/python2.7/site-packages (from pyldavis) (1.11)\n",
      "Requirement already satisfied: scipy>=0.18.0 in /usr/local/lib/python2.7/site-packages (from pyldavis) (1.0.0)\n",
      "Requirement already satisfied: numpy>=1.9.2 in /usr/local/lib/python2.7/site-packages (from pyldavis) (1.16.2)\n",
      "Requirement already satisfied: jinja2>=2.7.2 in /usr/local/lib/python2.7/site-packages (from pyldavis) (2.10)\n",
      "Requirement already satisfied: pandas>=0.17.0 in /usr/local/lib/python2.7/site-packages (from pyldavis) (0.21.1)\n",
      "Requirement already satisfied: numexpr in /usr/local/lib/python2.7/site-packages (from pyldavis) (2.6.9)\n",
      "Requirement already satisfied: future in /usr/local/lib/python2.7/site-packages (from pyldavis) (0.16.0)\n",
      "Requirement already satisfied: pytest in /usr/local/lib/python2.7/site-packages (from pyldavis) (4.3.1)\n",
      "Requirement already satisfied: joblib>=0.8.4 in /usr/local/lib/python2.7/site-packages (from pyldavis) (0.13.2)\n",
      "Requirement already satisfied: wheel>=0.23.0 in /usr/local/lib/python2.7/site-packages (from pyldavis) (0.31.0)\n",
      "Requirement already satisfied: MarkupSafe>=0.23 in /usr/local/lib/python2.7/site-packages (from jinja2>=2.7.2->pyldavis) (1.0)\n",
      "Requirement already satisfied: pytz>=2011k in /usr/local/Cellar/matplotlib/2.0.0_1/libexec/lib/python2.7/site-packages (from pandas>=0.17.0->pyldavis) (2016.10)\n",
      "Requirement already satisfied: python-dateutil in /usr/local/Cellar/matplotlib/2.0.0_1/libexec/lib/python2.7/site-packages (from pandas>=0.17.0->pyldavis) (2.6.0)\n",
      "Requirement already satisfied: six>=1.10.0 in /usr/local/Cellar/matplotlib/2.0.0_1/libexec/lib/python2.7/site-packages (from pytest->pyldavis) (1.10.0)\n",
      "Requirement already satisfied: setuptools in /usr/local/lib/python2.7/site-packages (from pytest->pyldavis) (39.1.0)\n",
      "Requirement already satisfied: py>=1.5.0 in /usr/local/lib/python2.7/site-packages (from pytest->pyldavis) (1.8.0)\n",
      "Requirement already satisfied: atomicwrites>=1.0 in /usr/local/lib/python2.7/site-packages (from pytest->pyldavis) (1.3.0)\n",
      "Requirement already satisfied: pathlib2>=2.2.0; python_version < \"3.6\" in /usr/local/lib/python2.7/site-packages (from pytest->pyldavis) (2.3.2)\n",
      "Requirement already satisfied: funcsigs; python_version < \"3.0\" in /usr/local/lib/python2.7/site-packages (from pytest->pyldavis) (1.0.2)\n",
      "Requirement already satisfied: attrs>=17.4.0 in /usr/local/lib/python2.7/site-packages (from pytest->pyldavis) (19.1.0)\n"
     ]
    },
    {
     "name": "stdout",
     "output_type": "stream",
     "text": [
      "Requirement already satisfied: more-itertools<6.0.0,>=4.0.0; python_version <= \"2.7\" in /usr/local/lib/python2.7/site-packages (from pytest->pyldavis) (5.0.0)\n",
      "Requirement already satisfied: pluggy>=0.7 in /usr/local/lib/python2.7/site-packages (from pytest->pyldavis) (0.9.0)\n",
      "Requirement already satisfied: scandir; python_version < \"3.5\" in /usr/local/lib/python2.7/site-packages (from pathlib2>=2.2.0; python_version < \"3.6\"->pytest->pyldavis) (1.7)\n",
      "\u001b[31mgax-google-logging-v2 0.8.3 has requirement google-gax<0.13.0,>=0.12.5, but you'll have google-gax 0.15.16 which is incompatible.\u001b[0m\n",
      "\u001b[31mpyrebase 3.0.27 has requirement oauth2client==3.0.0, but you'll have oauth2client 4.1.3 which is incompatible.\u001b[0m\n",
      "\u001b[31mpyrebase 3.0.27 has requirement requests==2.11.1, but you'll have requests 2.21.0 which is incompatible.\u001b[0m\n",
      "\u001b[31mgax-google-pubsub-v1 0.8.3 has requirement google-gax<0.13.0,>=0.12.5, but you'll have google-gax 0.15.16 which is incompatible.\u001b[0m\n",
      "\u001b[33mYou are using pip version 10.0.1, however version 19.0.3 is available.\n",
      "You should consider upgrading via the 'pip install --upgrade pip' command.\u001b[0m\n",
      "Traceback (most recent call last):\n",
      "  File \"/usr/local/Cellar/python/2.7.13/Frameworks/Python.framework/Versions/2.7/lib/python2.7/runpy.py\", line 163, in _run_module_as_main\n",
      "    mod_name, _Error)\n",
      "  File \"/usr/local/Cellar/python/2.7.13/Frameworks/Python.framework/Versions/2.7/lib/python2.7/runpy.py\", line 111, in _get_module_details\n",
      "    __import__(mod_name)  # Do not catch exceptions initializing package\n",
      "  File \"/usr/local/Cellar/python/2.7.13/Frameworks/Python.framework/Versions/2.7/lib/python2.7/site-packages/spacy/__init__.py\", line 20, in <module>\n",
      "    raise SystemError(Errors.E130)\n",
      "SystemError: [E130] You are running a narrow unicode build, which is incompatible with spacy >= 2.1.0. To fix this, reinstall Python and use a wide unicode build instead. You can also rebuild Python and set the --enable-unicode=ucs4 flag.\n"
     ]
    }
   ],
   "source": [
    "!pip install PyDrive\n",
    "!pip install gensim\n",
    "!pip install pyldavis\n",
    "!python -m spacy download en"
   ]
  },
  {
   "cell_type": "code",
   "execution_count": 90,
   "metadata": {
    "colab": {
     "base_uri": "https://localhost:8080/",
     "height": 71
    },
    "colab_type": "code",
    "id": "z3LQhDUitB_I",
    "outputId": "be88b89d-e4fe-4371-fb8b-c9c030169fe9"
   },
   "outputs": [],
   "source": [
    "import os\n",
    "from pydrive.auth import GoogleAuth\n",
    "from pydrive.drive import GoogleDrive\n",
    "from google import auth\n",
    "from oauth2client.client import GoogleCredentials\n",
    "import nltk\n",
    "from nltk import FreqDist\n",
    "import pandas as pd\n",
    "import matplotlib.pyplot as plt\n",
    "import re\n",
    "# nltk.download('stopwords')"
   ]
  },
  {
   "cell_type": "code",
   "execution_count": 16,
   "metadata": {
    "colab": {},
    "colab_type": "code",
    "id": "UVOx_UHJtHlf"
   },
   "outputs": [
    {
     "ename": "AttributeError",
     "evalue": "module 'google.auth' has no attribute 'authenticate_user'",
     "output_type": "error",
     "traceback": [
      "\u001b[0;31m---------------------------------------------------------------------------\u001b[0m",
      "\u001b[0;31mAttributeError\u001b[0m                            Traceback (most recent call last)",
      "\u001b[0;32m<ipython-input-16-3254a9bed9fd>\u001b[0m in \u001b[0;36m<module>\u001b[0;34m\u001b[0m\n\u001b[0;32m----> 1\u001b[0;31m \u001b[0mauth\u001b[0m\u001b[0;34m.\u001b[0m\u001b[0mauthenticate_user\u001b[0m\u001b[0;34m(\u001b[0m\u001b[0;34m)\u001b[0m\u001b[0;34m\u001b[0m\u001b[0m\n\u001b[0m\u001b[1;32m      2\u001b[0m \u001b[0mgauth\u001b[0m \u001b[0;34m=\u001b[0m \u001b[0mGoogleAuth\u001b[0m\u001b[0;34m(\u001b[0m\u001b[0;34m)\u001b[0m\u001b[0;34m\u001b[0m\u001b[0m\n\u001b[1;32m      3\u001b[0m \u001b[0mgauth\u001b[0m\u001b[0;34m.\u001b[0m\u001b[0mcredentials\u001b[0m \u001b[0;34m=\u001b[0m \u001b[0mGoogleCredentials\u001b[0m\u001b[0;34m.\u001b[0m\u001b[0mget_application_default\u001b[0m\u001b[0;34m(\u001b[0m\u001b[0;34m)\u001b[0m\u001b[0;34m\u001b[0m\u001b[0m\n\u001b[1;32m      4\u001b[0m \u001b[0mdrive\u001b[0m \u001b[0;34m=\u001b[0m \u001b[0mGoogleDrive\u001b[0m\u001b[0;34m(\u001b[0m\u001b[0mgauth\u001b[0m\u001b[0;34m)\u001b[0m\u001b[0;34m\u001b[0m\u001b[0m\n",
      "\u001b[0;31mAttributeError\u001b[0m: module 'google.auth' has no attribute 'authenticate_user'"
     ]
    }
   ],
   "source": [
    "# auth.authenticate_user()\n",
    "# gauth = GoogleAuth()\n",
    "# gauth.credentials = GoogleCredentials.get_application_default()\n",
    "# drive = GoogleDrive(gauth)"
   ]
  },
  {
   "cell_type": "code",
   "execution_count": 0,
   "metadata": {
    "colab": {},
    "colab_type": "code",
    "id": "OKXm0rrnt1j4"
   },
   "outputs": [],
   "source": [
    "# download = drive.CreateFile({'id': '1-a2dbUDDHsmkWOXoDYvgvCa8WBkEMzbr'})"
   ]
  },
  {
   "cell_type": "code",
   "execution_count": 18,
   "metadata": {
    "colab": {
     "base_uri": "https://localhost:8080/",
     "height": 35
    },
    "colab_type": "code",
    "id": "TeAxx6Btuf-m",
    "outputId": "dbcf73e3-661b-40fd-a475-d57b4bd36df4"
   },
   "outputs": [
    {
     "name": "stdout",
     "output_type": "stream",
     "text": [
      "MoreCheckTM.ipynb    data.json\r\n",
      "auto_review.dict     topicmodeling.ipynb\r\n"
     ]
    }
   ],
   "source": [
    "ls"
   ]
  },
  {
   "cell_type": "code",
   "execution_count": 0,
   "metadata": {
    "colab": {},
    "colab_type": "code",
    "id": "1mR48mvAuYqP"
   },
   "outputs": [],
   "source": [
    "# download.GetContentFile('automotive_rev_json.gz')"
   ]
  },
  {
   "cell_type": "code",
   "execution_count": 37,
   "metadata": {
    "colab": {},
    "colab_type": "code",
    "id": "v7ftghxl_SzE"
   },
   "outputs": [],
   "source": [
    "import pandas as pd\n",
    "pd.set_option(\"display.max_colwidth\", 200)\n",
    "import numpy as np\n",
    "import json\n",
    "import re\n",
    "import gzip\n",
    "# import spacy\n",
    "\n",
    "import gensim\n",
    "from gensim import corpora\n",
    "\n",
    "import pyLDAvis\n",
    "import pyLDAvis.gensim\n",
    "import matplotlib.pyplot as plt\n",
    "import seaborn as sns\n",
    "%matplotlib inline"
   ]
  },
  {
   "cell_type": "code",
   "execution_count": 38,
   "metadata": {
    "colab": {},
    "colab_type": "code",
    "id": "k-_gLizownvx"
   },
   "outputs": [],
   "source": [
    "def parse(path):\n",
    "  g = gzip.open(path, 'rb')\n",
    "  for l in g:\n",
    "    yield eval(l)\n",
    "    \n",
    "def getDF(path):\n",
    "  i = 0\n",
    "  df = {}\n",
    "  for d in parse(path):\n",
    "    df[i] = d\n",
    "    i += 1\n",
    "  return pd.DataFrame.from_dict(df, orient='index')"
   ]
  },
  {
   "cell_type": "code",
   "execution_count": 39,
   "metadata": {
    "colab": {
     "base_uri": "https://localhost:8080/",
     "height": 35
    },
    "colab_type": "code",
    "id": "FPle7KMpCVuc",
    "outputId": "0e836477-df77-4f96-8df5-3319afddfb50"
   },
   "outputs": [
    {
     "data": {
      "text/plain": [
       "(15, 4)"
      ]
     },
     "execution_count": 39,
     "metadata": {},
     "output_type": "execute_result"
    }
   ],
   "source": [
    "# df = getDF('automotive_rev_json.gz')\n",
    "df = pd.read_json('data.json')\n",
    "df.shape"
   ]
  },
  {
   "cell_type": "code",
   "execution_count": 40,
   "metadata": {
    "colab": {
     "base_uri": "https://localhost:8080/",
     "height": 459
    },
    "colab_type": "code",
    "id": "17zMP_rlEnCo",
    "outputId": "7f4dcd45-133b-49a5-b5fe-7f85e8d741b6"
   },
   "outputs": [
    {
     "data": {
      "text/html": [
       "<div>\n",
       "<style scoped>\n",
       "    .dataframe tbody tr th:only-of-type {\n",
       "        vertical-align: middle;\n",
       "    }\n",
       "\n",
       "    .dataframe tbody tr th {\n",
       "        vertical-align: top;\n",
       "    }\n",
       "\n",
       "    .dataframe thead th {\n",
       "        text-align: right;\n",
       "    }\n",
       "</style>\n",
       "<table border=\"1\" class=\"dataframe\">\n",
       "  <thead>\n",
       "    <tr style=\"text-align: right;\">\n",
       "      <th></th>\n",
       "      <th>id</th>\n",
       "      <th>location</th>\n",
       "      <th>name</th>\n",
       "      <th>reviews</th>\n",
       "    </tr>\n",
       "  </thead>\n",
       "  <tbody>\n",
       "    <tr>\n",
       "      <th>0</th>\n",
       "      <td>wKKRoSg1pZQtQRYPoD7TXg</td>\n",
       "      <td>{'address2': 'Ste 500', 'address3': '', 'zip_code': '30309', 'state': 'GA', 'city': 'Atlanta', 'address1': '903 Peachtree St', 'display_address': ['903 Peachtree St', 'Ste 500', 'Atlanta, GA 30309...</td>\n",
       "      <td>t-mobile-atlanta-13</td>\n",
       "      <td>[[Was in town for work and had issues with my phone and service. This T-mobile is one of the earliest one to open; and they're right at midtown, so I went in right at 9am. The customer service rep...</td>\n",
       "    </tr>\n",
       "    <tr>\n",
       "      <th>1</th>\n",
       "      <td>8hXzJzOb3K1eFor0oNrPWA</td>\n",
       "      <td>{'address2': 'Ste 105', 'address3': '', 'zip_code': '30305', 'state': 'GA', 'city': 'Atlanta', 'address1': '2900 Peachtree Rd NW', 'display_address': ['2900 Peachtree Rd NW', 'Ste 105', 'Atlanta, ...</td>\n",
       "      <td>t-mobile-atlanta-3</td>\n",
       "      <td>[[The customer service is off the charts!!! The staff went above and beyond to help!!! I had a great experience!!!, 5.0, \\n        3/2/2019\\n    ], [Where are the workers? Why am I having to wait ...</td>\n",
       "    </tr>\n",
       "    <tr>\n",
       "      <th>2</th>\n",
       "      <td>z-ldpf_9VxZjITfBb7Lnkg</td>\n",
       "      <td>{'address2': 'Ste 100', 'address3': None, 'zip_code': '30346', 'state': 'GA', 'city': 'Atlanta', 'address1': '1161 Hammond Dr', 'display_address': ['1161 Hammond Dr', 'Ste 100', 'Atlanta, GA 30346...</td>\n",
       "      <td>t-mobile-atlanta-39</td>\n",
       "      <td>[[If you haven't been to see us in over a year then come and check out our newly remodeled store and wonderful new staff., 5.0, \\n        11/24/2018\\n    ], [\"We can't help you because it gives us...</td>\n",
       "    </tr>\n",
       "    <tr>\n",
       "      <th>3</th>\n",
       "      <td>qiAckHMVZQScy2U9nvSCmQ</td>\n",
       "      <td>{'address2': 'Ste 480', 'address3': '', 'zip_code': '30106', 'state': 'GA', 'city': 'Austell', 'address1': '1757 E West Connector', 'display_address': ['1757 E West Connector', 'Ste 480', 'Austell...</td>\n",
       "      <td>t-mobile-austell</td>\n",
       "      <td>[[Kudos to Tatiana! My daughter need a screen cover for her IPhone and we were treated as if we were buying a new $1,000 phone. Super nice and very hospitable.  Thanks!, 5.0, \\n        10/18/2018\\...</td>\n",
       "    </tr>\n",
       "    <tr>\n",
       "      <th>4</th>\n",
       "      <td>9oHGS1knSS3uAHsf2sqxRg</td>\n",
       "      <td>{'address2': 'Ste 13', 'address3': None, 'zip_code': '30047', 'state': 'GA', 'city': 'Lilburn', 'address1': '4145 Lawrenceville Hwy NW', 'display_address': ['4145 Lawrenceville Hwy NW', 'Ste 13', ...</td>\n",
       "      <td>t-mobile-lilburn-2</td>\n",
       "      <td>[[I would like to start by saying I was pleasantly surprised and extremely satisfied with the level of customer service I received along with the  professionalism displayed at this location. Let's...</td>\n",
       "    </tr>\n",
       "  </tbody>\n",
       "</table>\n",
       "</div>"
      ],
      "text/plain": [
       "                       id  \\\n",
       "0  wKKRoSg1pZQtQRYPoD7TXg   \n",
       "1  8hXzJzOb3K1eFor0oNrPWA   \n",
       "2  z-ldpf_9VxZjITfBb7Lnkg   \n",
       "3  qiAckHMVZQScy2U9nvSCmQ   \n",
       "4  9oHGS1knSS3uAHsf2sqxRg   \n",
       "\n",
       "                                                                                                                                                                                                  location  \\\n",
       "0  {'address2': 'Ste 500', 'address3': '', 'zip_code': '30309', 'state': 'GA', 'city': 'Atlanta', 'address1': '903 Peachtree St', 'display_address': ['903 Peachtree St', 'Ste 500', 'Atlanta, GA 30309...   \n",
       "1  {'address2': 'Ste 105', 'address3': '', 'zip_code': '30305', 'state': 'GA', 'city': 'Atlanta', 'address1': '2900 Peachtree Rd NW', 'display_address': ['2900 Peachtree Rd NW', 'Ste 105', 'Atlanta, ...   \n",
       "2  {'address2': 'Ste 100', 'address3': None, 'zip_code': '30346', 'state': 'GA', 'city': 'Atlanta', 'address1': '1161 Hammond Dr', 'display_address': ['1161 Hammond Dr', 'Ste 100', 'Atlanta, GA 30346...   \n",
       "3  {'address2': 'Ste 480', 'address3': '', 'zip_code': '30106', 'state': 'GA', 'city': 'Austell', 'address1': '1757 E West Connector', 'display_address': ['1757 E West Connector', 'Ste 480', 'Austell...   \n",
       "4  {'address2': 'Ste 13', 'address3': None, 'zip_code': '30047', 'state': 'GA', 'city': 'Lilburn', 'address1': '4145 Lawrenceville Hwy NW', 'display_address': ['4145 Lawrenceville Hwy NW', 'Ste 13', ...   \n",
       "\n",
       "                  name  \\\n",
       "0  t-mobile-atlanta-13   \n",
       "1   t-mobile-atlanta-3   \n",
       "2  t-mobile-atlanta-39   \n",
       "3     t-mobile-austell   \n",
       "4   t-mobile-lilburn-2   \n",
       "\n",
       "                                                                                                                                                                                                   reviews  \n",
       "0  [[Was in town for work and had issues with my phone and service. This T-mobile is one of the earliest one to open; and they're right at midtown, so I went in right at 9am. The customer service rep...  \n",
       "1  [[The customer service is off the charts!!! The staff went above and beyond to help!!! I had a great experience!!!, 5.0, \\n        3/2/2019\\n    ], [Where are the workers? Why am I having to wait ...  \n",
       "2  [[If you haven't been to see us in over a year then come and check out our newly remodeled store and wonderful new staff., 5.0, \\n        11/24/2018\\n    ], [\"We can't help you because it gives us...  \n",
       "3  [[Kudos to Tatiana! My daughter need a screen cover for her IPhone and we were treated as if we were buying a new $1,000 phone. Super nice and very hospitable.  Thanks!, 5.0, \\n        10/18/2018\\...  \n",
       "4  [[I would like to start by saying I was pleasantly surprised and extremely satisfied with the level of customer service I received along with the  professionalism displayed at this location. Let's...  "
      ]
     },
     "execution_count": 40,
     "metadata": {},
     "output_type": "execute_result"
    }
   ],
   "source": [
    "df.head()"
   ]
  },
  {
   "cell_type": "code",
   "execution_count": 41,
   "metadata": {},
   "outputs": [],
   "source": [
    "all_reviews = []\n",
    "for i in range(len(df)):\n",
    "    for j in range(len(df.loc[i]['reviews'])):\n",
    "        all_reviews.append(df.loc[i]['reviews'][j][0])"
   ]
  },
  {
   "cell_type": "code",
   "execution_count": 42,
   "metadata": {
    "colab": {},
    "colab_type": "code",
    "id": "jjLyeSxg41OQ"
   },
   "outputs": [],
   "source": [
    "def freq_words(x, terms = 30):\n",
    "  all_words = ' '.join([text for text in x])\n",
    "  all_words = all_words.split()\n",
    "  \n",
    "  fdist = FreqDist(all_words)\n",
    "  words_df = pd.DataFrame({'word':list(fdist.keys()), 'count':list(fdist.values())})\n",
    "  \n",
    "  # selecting top 20 most frequent words\n",
    "  d = words_df.nlargest(columns=\"count\", n = terms) \n",
    "  plt.figure(figsize=(20,5))\n",
    "  ax = sns.barplot(data=d, x= \"word\", y = \"count\")\n",
    "  ax.set(ylabel = 'Count')\n",
    "  plt.show()"
   ]
  },
  {
   "cell_type": "code",
   "execution_count": 43,
   "metadata": {
    "colab": {
     "base_uri": "https://localhost:8080/",
     "height": 426
    },
    "colab_type": "code",
    "id": "pennLlyl5Whp",
    "outputId": "057ab4de-0c87-4d9a-edf8-7a4bbc7e8949"
   },
   "outputs": [
    {
     "name": "stderr",
     "output_type": "stream",
     "text": [
      "/Library/Frameworks/Python.framework/Versions/3.7/lib/python3.7/site-packages/matplotlib/cbook/__init__.py:2349: DeprecationWarning: Using or importing the ABCs from 'collections' instead of from 'collections.abc' is deprecated, and in 3.8 it will stop working\n",
      "  if isinstance(obj, collections.Iterator):\n",
      "/Library/Frameworks/Python.framework/Versions/3.7/lib/python3.7/site-packages/matplotlib/cbook/__init__.py:2366: DeprecationWarning: Using or importing the ABCs from 'collections' instead of from 'collections.abc' is deprecated, and in 3.8 it will stop working\n",
      "  return list(data) if isinstance(data, collections.MappingView) else data\n"
     ]
    },
    {
     "data": {
      "image/png": "[encoded data removed]",
      "text/plain": [
       "<Figure size 1440x360 with 1 Axes>"
      ]
     },
     "metadata": {
      "needs_background": "light"
     },
     "output_type": "display_data"
    }
   ],
   "source": [
    "# freq_words(df['reviewText'])\n",
    "freq_words(all_reviews)"
   ]
  },
  {
   "cell_type": "code",
   "execution_count": 96,
   "metadata": {
    "colab": {},
    "colab_type": "code",
    "id": "jUc1_gTcLfYt"
   },
   "outputs": [],
   "source": [
    "# replace \"n't\" with \" not\"\n",
    "all_reviews = [rev.replace(\"n\\'t\", \" not\") for rev in all_reviews]\n",
    "\n",
    "punctuation = re.compile(r'[-.?!,\":;()\\'|0-9]')\n",
    "# remove unwanted characters, numbers and symbols\n",
    "all_reviews = [rev.replace(\"[^a-zA-Z#]\", \" \") for rev in all_reviews ]\n",
    "\n",
    "all_reviews = [punctuation.sub(\"\", rev) for rev in all_reviews ]"
   ]
  },
  {
   "cell_type": "code",
   "execution_count": 97,
   "metadata": {
    "colab": {
     "base_uri": "https://localhost:8080/",
     "height": 426
    },
    "colab_type": "code",
    "id": "wUUY2XIj6dF_",
    "outputId": "1af3a5d2-8890-4de1-fc54-9a67f5581a40"
   },
   "outputs": [
    {
     "data": {
      "image/png": "[encoded data removed]",
      "text/plain": [
       "<Figure size 1440x360 with 1 Axes>"
      ]
     },
     "metadata": {
      "needs_background": "light"
     },
     "output_type": "display_data"
    }
   ],
   "source": [
    "freq_words(all_reviews)"
   ]
  },
  {
   "cell_type": "code",
   "execution_count": 98,
   "metadata": {
    "colab": {},
    "colab_type": "code",
    "id": "nshGCS0WGLlQ"
   },
   "outputs": [],
   "source": [
    "from nltk.corpus import stopwords\n",
    "stop_words = stopwords.words('english')"
   ]
  },
  {
   "cell_type": "code",
   "execution_count": 99,
   "metadata": {
    "colab": {},
    "colab_type": "code",
    "id": "B8MogVp8vC6l"
   },
   "outputs": [],
   "source": [
    "# function to remove stopwords\n",
    "def remove_stopwords(rev):\n",
    "    rev_new = \" \".join([i for i in rev if i not in stop_words and len(i) > 2])\n",
    "    return rev_new"
   ]
  },
  {
   "cell_type": "code",
   "execution_count": 100,
   "metadata": {},
   "outputs": [
    {
     "data": {
      "text/plain": [
       "'This cat'"
      ]
     },
     "execution_count": 100,
     "metadata": {},
     "output_type": "execute_result"
    }
   ],
   "source": [
    "remove_stopwords(\"This cat\".split())"
   ]
  },
  {
   "cell_type": "code",
   "execution_count": 101,
   "metadata": {
    "colab": {},
    "colab_type": "code",
    "id": "KYxtiTbOwULK"
   },
   "outputs": [],
   "source": [
    "# make entire text lowercase\n",
    "all_reviews = [r.lower() for r in all_reviews]\n",
    "\n",
    "# remove short words (length < 3)\n",
    "all_reviews = [rev for rev in all_reviews if len(rev) > 2]\n",
    "\n",
    "# remove stopwords from the text\n",
    "reviews = [remove_stopwords(r.split()) for r in all_reviews]\n"
   ]
  },
  {
   "cell_type": "code",
   "execution_count": 102,
   "metadata": {
    "colab": {
     "base_uri": "https://localhost:8080/",
     "height": 426
    },
    "colab_type": "code",
    "id": "9eSP1Ruj9fdT",
    "outputId": "1bfc8f92-c390-4d1c-cfa3-ed6b9982271f"
   },
   "outputs": [
    {
     "data": {
      "image/png": "[encoded data removed]",
      "text/plain": [
       "<Figure size 1440x360 with 1 Axes>"
      ]
     },
     "metadata": {
      "needs_background": "light"
     },
     "output_type": "display_data"
    }
   ],
   "source": [
    "freq_words(reviews, 35)"
   ]
  },
  {
   "cell_type": "code",
   "execution_count": 119,
   "metadata": {
    "colab": {},
    "colab_type": "code",
    "id": "jZ6TkR4w_kwq"
   },
   "outputs": [],
   "source": [
    "from nltk.stem import WordNetLemmatizer \n",
    "  \n",
    "lemmatizer = WordNetLemmatizer()\n",
    "\n",
    "def lemmatization(texts, tags=['JJ', 'JJR', 'JJS']):\n",
    "    output = []\n",
    "    for sent in texts:\n",
    "        spec_sent = []\n",
    "        for word in sent:\n",
    "            print (nltk.pos_tag([word]))\n",
    "            pos = nltk.pos_tag([word])\n",
    "            if pos in tags:\n",
    "                spec_sent.append(punctuation.sub(\"\",lemmatizer.lemmatize(word)))\n",
    "        output.append(spec_sent)\n",
    "#         print(lemmatizer.lemmatize(sent))\n",
    "#         output.append(lemmatizer.lemmatize(sent))\n",
    "#         doc = nlp(\" \".join(sent)) \n",
    "#         output.append([token.lemma_ for token in doc if token.pos_ in tags])\n",
    "    return output"
   ]
  },
  {
   "cell_type": "code",
   "execution_count": 120,
   "metadata": {
    "colab": {},
    "colab_type": "code",
    "id": "A_r_uxa3Icq0"
   },
   "outputs": [
    {
     "name": "stdout",
     "output_type": "stream",
     "text": [
      "['came', 'upgrade', 'two', 'months', 'ago', 'really', 'anyone', 'quiet', 'place', 'well', 'organized', 'associates', 'helpful', 'upgrade', 'process', 'although', 'bit', 'trouble', 'trying', 'get', 'new', 'device', '#teammagenta', 'answer', 'questions', 'may', 'ill', 'going', 'upgrades']\n"
     ]
    }
   ],
   "source": [
    "tokenized_reviews = pd.Series(reviews).apply(lambda x: x.split())\n",
    "print(tokenized_reviews[1])"
   ]
  },
  {
   "cell_type": "code",
   "execution_count": 121,
   "metadata": {
    "colab": {
     "base_uri": "https://localhost:8080/",
     "height": 73
    },
    "colab_type": "code",
    "id": "OKGHMX01NlBa",
    "outputId": "74723838-835d-4ecc-dc02-6aa7d3b11811"
   },
   "outputs": [
    {
     "name": "stdout",
     "output_type": "stream",
     "text": [
      "['came', 'upgrade', 'two', 'months', 'ago', 'really', 'anyone', 'quiet', 'place', 'well', 'organized', 'associates', 'helpful', 'upgrade', 'process', 'although', 'bit', 'trouble', 'trying', 'get', 'new', 'device', '#teammagenta', 'answer', 'questions', 'may', 'ill', 'going', 'upgrades']\n"
     ]
    },
    {
     "data": {
      "text/plain": [
       "29"
      ]
     },
     "execution_count": 121,
     "metadata": {},
     "output_type": "execute_result"
    }
   ],
   "source": [
    "print(tokenized_reviews[1])\n",
    "len(tokenized_reviews[1])"
   ]
  },
  {
   "cell_type": "code",
   "execution_count": 122,
   "metadata": {
    "colab": {},
    "colab_type": "code",
    "id": "tRUfUgkD_k24"
   },
   "outputs": [
    {
     "ename": "IndexError",
     "evalue": "list index out of range",
     "output_type": "error",
     "traceback": [
      "\u001b[0;31m---------------------------------------------------------------------------\u001b[0m",
      "\u001b[0;31mIndexError\u001b[0m                                Traceback (most recent call last)",
      "\u001b[0;32m<ipython-input-122-b336fae41e56>\u001b[0m in \u001b[0;36m<module>\u001b[0;34m\u001b[0m\n\u001b[0;32m----> 1\u001b[0;31m \u001b[0mreviews_2\u001b[0m \u001b[0;34m=\u001b[0m \u001b[0mlemmatization\u001b[0m\u001b[0;34m(\u001b[0m\u001b[0mtokenized_reviews\u001b[0m\u001b[0;34m)\u001b[0m\u001b[0;34m\u001b[0m\u001b[0m\n\u001b[0m\u001b[1;32m      2\u001b[0m \u001b[0mprint\u001b[0m\u001b[0;34m(\u001b[0m\u001b[0mreviews_2\u001b[0m\u001b[0;34m[\u001b[0m\u001b[0;36m1\u001b[0m\u001b[0;34m]\u001b[0m\u001b[0;34m)\u001b[0m\u001b[0;34m\u001b[0m\u001b[0m\n",
      "\u001b[0;32m<ipython-input-119-5ad35129223e>\u001b[0m in \u001b[0;36mlemmatization\u001b[0;34m(texts, tags)\u001b[0m\n\u001b[1;32m      8\u001b[0m         \u001b[0mspec_sent\u001b[0m \u001b[0;34m=\u001b[0m \u001b[0;34m[\u001b[0m\u001b[0;34m]\u001b[0m\u001b[0;34m\u001b[0m\u001b[0m\n\u001b[1;32m      9\u001b[0m         \u001b[0;32mfor\u001b[0m \u001b[0mword\u001b[0m \u001b[0;32min\u001b[0m \u001b[0msent\u001b[0m\u001b[0;34m:\u001b[0m\u001b[0;34m\u001b[0m\u001b[0m\n\u001b[0;32m---> 10\u001b[0;31m             \u001b[0mpos\u001b[0m \u001b[0;34m=\u001b[0m \u001b[0mnltk\u001b[0m\u001b[0;34m.\u001b[0m\u001b[0mpos_tag\u001b[0m\u001b[0;34m(\u001b[0m\u001b[0;34m[\u001b[0m\u001b[0mword\u001b[0m\u001b[0;34m]\u001b[0m\u001b[0;34m)\u001b[0m\u001b[0;34m[\u001b[0m\u001b[0;36m1\u001b[0m\u001b[0;34m]\u001b[0m\u001b[0;34m\u001b[0m\u001b[0m\n\u001b[0m\u001b[1;32m     11\u001b[0m             \u001b[0;32mif\u001b[0m \u001b[0mpos\u001b[0m \u001b[0;32min\u001b[0m \u001b[0mtags\u001b[0m\u001b[0;34m:\u001b[0m\u001b[0;34m\u001b[0m\u001b[0m\n\u001b[1;32m     12\u001b[0m                 \u001b[0mspec_sent\u001b[0m\u001b[0;34m.\u001b[0m\u001b[0mappend\u001b[0m\u001b[0;34m(\u001b[0m\u001b[0mpunctuation\u001b[0m\u001b[0;34m.\u001b[0m\u001b[0msub\u001b[0m\u001b[0;34m(\u001b[0m\u001b[0;34m\"\"\u001b[0m\u001b[0;34m,\u001b[0m\u001b[0mlemmatizer\u001b[0m\u001b[0;34m.\u001b[0m\u001b[0mlemmatize\u001b[0m\u001b[0;34m(\u001b[0m\u001b[0mword\u001b[0m\u001b[0;34m)\u001b[0m\u001b[0;34m)\u001b[0m\u001b[0;34m)\u001b[0m\u001b[0;34m\u001b[0m\u001b[0m\n",
      "\u001b[0;31mIndexError\u001b[0m: list index out of range"
     ]
    }
   ],
   "source": [
    "reviews_2 = lemmatization(tokenized_reviews)\n",
    "print(reviews_2[1])"
   ]
  },
  {
   "cell_type": "code",
   "execution_count": 108,
   "metadata": {
    "colab": {
     "base_uri": "https://localhost:8080/",
     "height": 73
    },
    "colab_type": "code",
    "id": "3Iw8zFgu_lC3",
    "outputId": "a04236f4-0f32-4551-9621-9f69fa439b85"
   },
   "outputs": [
    {
     "name": "stdout",
     "output_type": "stream",
     "text": [
      "['came', 'upgrade', 'two', 'month', 'ago', 'really', 'anyone', 'quiet', 'place', 'well', 'organized', 'associate', 'helpful', 'upgrade', 'process', 'although', 'bit', 'trouble', 'trying', 'get', 'new', 'device', '#teammagenta', 'answer', 'question', 'may', 'ill', 'going', 'upgrade']\n"
     ]
    },
    {
     "data": {
      "text/plain": [
       "29"
      ]
     },
     "execution_count": 108,
     "metadata": {},
     "output_type": "execute_result"
    }
   ],
   "source": [
    "print(reviews_2[1])\n",
    "len(reviews_2[1])"
   ]
  },
  {
   "cell_type": "code",
   "execution_count": 109,
   "metadata": {
    "colab": {
     "base_uri": "https://localhost:8080/",
     "height": 251
    },
    "colab_type": "code",
    "id": "4xggnZ-u_lHd",
    "outputId": "0bd6f14e-acbe-4fe6-969c-4480a90640c6"
   },
   "outputs": [
    {
     "data": {
      "text/plain": [
       "{'associates', 'months', 'questions', 'upgrades'}"
      ]
     },
     "execution_count": 109,
     "metadata": {},
     "output_type": "execute_result"
    }
   ],
   "source": [
    "set(tokenized_reviews[1]) - set(reviews_2[1])"
   ]
  },
  {
   "cell_type": "code",
   "execution_count": 111,
   "metadata": {
    "colab": {},
    "colab_type": "code",
    "id": "aZ9ZPfO-CEmD"
   },
   "outputs": [],
   "source": [
    "reviews_3 = []\n",
    "for i in range(len(reviews_2)):\n",
    "    reviews_3.append(' '.join(reviews_2[i]))\n",
    "    \n",
    "new_reviews = reviews_3"
   ]
  },
  {
   "cell_type": "code",
   "execution_count": 112,
   "metadata": {
    "colab": {
     "base_uri": "https://localhost:8080/",
     "height": 426
    },
    "colab_type": "code",
    "id": "Zyj9zVQqCY6R",
    "outputId": "a71332fc-e6bf-4581-e3f8-4fb081bbb8f1"
   },
   "outputs": [
    {
     "data": {
      "image/png": "[encoded data removed]",
      "text/plain": [
       "<Figure size 1440x360 with 1 Axes>"
      ]
     },
     "metadata": {
      "needs_background": "light"
     },
     "output_type": "display_data"
    }
   ],
   "source": [
    "freq_words(new_reviews, 35)"
   ]
  },
  {
   "cell_type": "code",
   "execution_count": 113,
   "metadata": {
    "colab": {},
    "colab_type": "code",
    "id": "FBtKwstViu_h"
   },
   "outputs": [],
   "source": [
    "# Create the term dictionary of our corpus, where every unique term is assigned an index\n",
    "dictionary = corpora.Dictionary(reviews_2)"
   ]
  },
  {
   "cell_type": "code",
   "execution_count": 114,
   "metadata": {
    "colab": {},
    "colab_type": "code",
    "id": "rDoMrZfkiu-c"
   },
   "outputs": [],
   "source": [
    "# Convert list of reviews (reviews_2) into a Document Term Matrix using the dictionary prepared above.\n",
    "doc_term_matrix = [dictionary.doc2bow(rev) for rev in reviews_2]"
   ]
  },
  {
   "cell_type": "code",
   "execution_count": 115,
   "metadata": {
    "colab": {},
    "colab_type": "code",
    "id": "X6JSF612qkm1"
   },
   "outputs": [],
   "source": [
    "# Creating the object for LDA model using gensim library\n",
    "LDA = gensim.models.ldamodel.LdaModel"
   ]
  },
  {
   "cell_type": "code",
   "execution_count": 116,
   "metadata": {
    "colab": {},
    "colab_type": "code",
    "id": "U8MLxPhRiuh6"
   },
   "outputs": [],
   "source": [
    "# Build LDA model\n",
    "lda_model = LDA(corpus=doc_term_matrix,\n",
    "                id2word=dictionary,\n",
    "                num_topics=7, \n",
    "                random_state=100,\n",
    "                chunksize=1000,\n",
    "                passes=50)"
   ]
  },
  {
   "cell_type": "code",
   "execution_count": 117,
   "metadata": {
    "colab": {
     "base_uri": "https://localhost:8080/",
     "height": 289
    },
    "colab_type": "code",
    "id": "TB5lGOR3iucK",
    "outputId": "a6c66aa2-34c9-4b80-bc56-601eed395193"
   },
   "outputs": [
    {
     "data": {
      "text/plain": [
       "[(0,\n",
       "  '0.019*\"customer\" + 0.018*\"service\" + 0.017*\"phone\" + 0.015*\"tmobile\" + 0.013*\"time\" + 0.013*\"store\" + 0.010*\"location\" + 0.009*\"new\" + 0.008*\"one\" + 0.008*\"told\"'),\n",
       " (1,\n",
       "  '0.015*\"phone\" + 0.014*\"store\" + 0.013*\"service\" + 0.012*\"help\" + 0.012*\"tmobile\" + 0.011*\"customer\" + 0.009*\"call\" + 0.009*\"lee\" + 0.008*\"new\" + 0.008*\"get\"'),\n",
       " (2,\n",
       "  '0.026*\"store\" + 0.022*\"tmobile\" + 0.021*\"phone\" + 0.014*\"one\" + 0.014*\"customer\" + 0.009*\"service\" + 0.009*\"could\" + 0.009*\"would\" + 0.008*\"time\" + 0.008*\"get\"'),\n",
       " (3,\n",
       "  '0.009*\"store\" + 0.008*\"plan\" + 0.008*\"get\" + 0.008*\"see\" + 0.008*\"location\" + 0.007*\"thing\" + 0.006*\"wanted\" + 0.006*\"phone\" + 0.006*\"wait\" + 0.006*\"maybe\"'),\n",
       " (4,\n",
       "  '0.033*\"phone\" + 0.014*\"store\" + 0.011*\"customer\" + 0.010*\"would\" + 0.009*\"day\" + 0.009*\"tmobile\" + 0.007*\"said\" + 0.007*\"service\" + 0.007*\"one\" + 0.007*\"even\"'),\n",
       " (5,\n",
       "  '0.014*\"service\" + 0.012*\"customer\" + 0.011*\"get\" + 0.011*\"new\" + 0.009*\"told\" + 0.009*\"would\" + 0.008*\"phone\" + 0.008*\"location\" + 0.007*\"store\" + 0.007*\"come\"'),\n",
       " (6,\n",
       "  '0.021*\"phone\" + 0.016*\"service\" + 0.010*\"one\" + 0.010*\"store\" + 0.009*\"case\" + 0.009*\"tmobile\" + 0.008*\"get\" + 0.008*\"customer\" + 0.007*\"buy\" + 0.006*\"need\"')]"
      ]
     },
     "execution_count": 117,
     "metadata": {},
     "output_type": "execute_result"
    }
   ],
   "source": [
    "lda_model.print_topics()"
   ]
  },
  {
   "cell_type": "code",
   "execution_count": 118,
   "metadata": {
    "colab": {
     "base_uri": "https://localhost:8080/",
     "height": 860
    },
    "colab_type": "code",
    "id": "4nRZyKPDCauL",
    "outputId": "b0ef59ff-5204-4ea1-80c9-f100cc9bf1cb"
   },
   "outputs": [
    {
     "name": "stderr",
     "output_type": "stream",
     "text": [
      "/Library/Frameworks/Python.framework/Versions/3.7/lib/python3.7/site-packages/pyLDAvis/_prepare.py:257: FutureWarning: Sorting because non-concatenation axis is not aligned. A future version\n",
      "of pandas will change to not sort by default.\n",
      "\n",
      "To accept the future behavior, pass 'sort=False'.\n",
      "\n",
      "To retain the current behavior and silence the warning, pass 'sort=True'.\n",
      "\n",
      "  return pd.concat([default_term_info] + list(topic_dfs))\n"
     ]
    },
    {
     "data": {
      "text/html": [
       "\n",
       "<link rel=\"stylesheet\" type=\"text/css\" href=\"https://cdn.rawgit.com/bmabey/pyLDAvis/files/ldavis.v1.0.0.css\">\n",
       "\n",
       "\n",
       "<div id=\"ldavis_el1720147673162729883871214\"></div>\n",
       "<script type=\"text/javascript\">\n",
       "\n",
       "var ldavis_el1720147673162729883871214_data = {\"mdsDat\": {\"x\": [-0.0787302539326803, -0.06214005481332494, -0.07176218893944292, 0.01108388928539449, 0.0018527386774114226, 0.11007472445177008, 0.08962114527087245], \"y\": [-0.04595098853081038, -0.04104790283132695, 0.02158797708887315, -0.009802707300104711, 0.12271390686599369, -0.023513055732238164, -0.023987229560386656], \"topics\": [1, 2, 3, 4, 5, 6, 7], \"cluster\": [1, 1, 1, 1, 1, 1, 1], \"Freq\": [33.989200592041016, 22.101709365844727, 20.079561233520508, 7.141605854034424, 6.950468063354492, 5.446516990661621, 4.290942192077637]}, \"tinfo\": {\"Category\": [\"Default\", \"Default\", \"Default\", \"Default\", \"Default\", \"Default\", \"Default\", \"Default\", \"Default\", \"Default\", \"Default\", \"Default\", \"Default\", \"Default\", \"Default\", \"Default\", \"Default\", \"Default\", \"Default\", \"Default\", \"Default\", \"Default\", \"Default\", \"Default\", \"Default\", \"Default\", \"Default\", \"Default\", \"Default\", \"Default\", \"Topic1\", \"Topic1\", \"Topic1\", \"Topic1\", \"Topic1\", \"Topic1\", \"Topic1\", \"Topic1\", \"Topic1\", \"Topic1\", \"Topic1\", \"Topic1\", \"Topic1\", \"Topic1\", \"Topic1\", \"Topic1\", \"Topic1\", \"Topic1\", \"Topic1\", \"Topic1\", \"Topic1\", \"Topic1\", \"Topic1\", \"Topic1\", \"Topic1\", \"Topic1\", \"Topic1\", \"Topic1\", \"Topic1\", \"Topic1\", \"Topic1\", \"Topic1\", \"Topic1\", \"Topic1\", \"Topic1\", \"Topic1\", \"Topic1\", \"Topic1\", \"Topic1\", \"Topic1\", \"Topic1\", \"Topic1\", \"Topic1\", \"Topic1\", \"Topic1\", \"Topic1\", \"Topic1\", \"Topic1\", \"Topic1\", \"Topic1\", \"Topic1\", \"Topic1\", \"Topic1\", \"Topic1\", \"Topic1\", \"Topic1\", \"Topic1\", \"Topic1\", \"Topic1\", \"Topic1\", \"Topic1\", \"Topic1\", \"Topic1\", \"Topic1\", \"Topic1\", \"Topic1\", \"Topic1\", \"Topic1\", \"Topic1\", \"Topic1\", \"Topic1\", \"Topic1\", \"Topic1\", \"Topic2\", \"Topic2\", \"Topic2\", \"Topic2\", \"Topic2\", \"Topic2\", \"Topic2\", \"Topic2\", \"Topic2\", \"Topic2\", \"Topic2\", \"Topic2\", \"Topic2\", \"Topic2\", \"Topic2\", \"Topic2\", \"Topic2\", \"Topic2\", \"Topic2\", \"Topic2\", \"Topic2\", \"Topic2\", \"Topic2\", \"Topic2\", \"Topic2\", \"Topic2\", \"Topic2\", \"Topic2\", \"Topic2\", \"Topic2\", \"Topic2\", \"Topic2\", \"Topic2\", \"Topic2\", \"Topic2\", \"Topic2\", \"Topic2\", \"Topic2\", \"Topic2\", \"Topic2\", \"Topic2\", \"Topic2\", \"Topic2\", \"Topic2\", \"Topic2\", \"Topic2\", \"Topic2\", \"Topic2\", \"Topic2\", \"Topic2\", \"Topic2\", \"Topic2\", \"Topic2\", \"Topic2\", \"Topic2\", \"Topic2\", \"Topic2\", \"Topic2\", \"Topic2\", \"Topic2\", \"Topic2\", \"Topic2\", \"Topic2\", \"Topic2\", \"Topic2\", \"Topic2\", \"Topic2\", \"Topic2\", \"Topic2\", \"Topic2\", \"Topic2\", \"Topic2\", \"Topic3\", \"Topic3\", \"Topic3\", \"Topic3\", \"Topic3\", \"Topic3\", \"Topic3\", \"Topic3\", \"Topic3\", \"Topic3\", \"Topic3\", \"Topic3\", \"Topic3\", \"Topic3\", \"Topic3\", \"Topic3\", \"Topic3\", \"Topic3\", \"Topic3\", \"Topic3\", \"Topic3\", \"Topic3\", \"Topic3\", \"Topic3\", \"Topic3\", \"Topic3\", \"Topic3\", \"Topic3\", \"Topic3\", \"Topic3\", \"Topic3\", \"Topic3\", \"Topic3\", \"Topic3\", \"Topic3\", \"Topic3\", \"Topic3\", \"Topic3\", \"Topic3\", \"Topic3\", \"Topic3\", \"Topic3\", \"Topic3\", \"Topic3\", \"Topic3\", \"Topic3\", \"Topic3\", \"Topic3\", \"Topic3\", \"Topic3\", \"Topic3\", \"Topic3\", \"Topic3\", \"Topic3\", \"Topic3\", \"Topic3\", \"Topic3\", \"Topic3\", \"Topic3\", \"Topic3\", \"Topic3\", \"Topic3\", \"Topic3\", \"Topic3\", \"Topic3\", \"Topic3\", \"Topic3\", \"Topic3\", \"Topic3\", \"Topic3\", \"Topic3\", \"Topic3\", \"Topic3\", \"Topic4\", \"Topic4\", \"Topic4\", \"Topic4\", \"Topic4\", \"Topic4\", \"Topic4\", \"Topic4\", \"Topic4\", \"Topic4\", \"Topic4\", \"Topic4\", \"Topic4\", \"Topic4\", \"Topic4\", \"Topic4\", \"Topic4\", \"Topic4\", \"Topic4\", \"Topic4\", \"Topic4\", \"Topic4\", \"Topic4\", \"Topic4\", \"Topic4\", \"Topic4\", \"Topic4\", \"Topic4\", \"Topic4\", \"Topic4\", \"Topic4\", \"Topic4\", \"Topic4\", \"Topic4\", \"Topic4\", \"Topic4\", \"Topic4\", \"Topic4\", \"Topic4\", \"Topic4\", \"Topic4\", \"Topic4\", \"Topic4\", \"Topic4\", \"Topic4\", \"Topic4\", \"Topic4\", \"Topic4\", \"Topic4\", \"Topic4\", \"Topic4\", \"Topic4\", \"Topic4\", \"Topic4\", \"Topic4\", \"Topic4\", \"Topic4\", \"Topic4\", \"Topic4\", \"Topic4\", \"Topic4\", \"Topic4\", \"Topic4\", \"Topic4\", \"Topic4\", \"Topic4\", \"Topic4\", \"Topic4\", \"Topic4\", \"Topic4\", \"Topic4\", \"Topic4\", \"Topic4\", \"Topic4\", \"Topic4\", \"Topic5\", \"Topic5\", \"Topic5\", \"Topic5\", \"Topic5\", \"Topic5\", \"Topic5\", \"Topic5\", \"Topic5\", \"Topic5\", \"Topic5\", \"Topic5\", \"Topic5\", \"Topic5\", \"Topic5\", \"Topic5\", \"Topic5\", \"Topic5\", \"Topic5\", \"Topic5\", \"Topic5\", \"Topic5\", \"Topic5\", \"Topic5\", \"Topic5\", \"Topic5\", \"Topic5\", \"Topic5\", \"Topic5\", \"Topic5\", \"Topic5\", \"Topic5\", \"Topic5\", \"Topic5\", \"Topic5\", \"Topic5\", \"Topic5\", \"Topic5\", \"Topic5\", \"Topic5\", \"Topic5\", \"Topic5\", \"Topic5\", \"Topic5\", \"Topic5\", \"Topic5\", \"Topic5\", \"Topic5\", \"Topic5\", \"Topic5\", \"Topic5\", \"Topic5\", \"Topic5\", \"Topic5\", \"Topic5\", \"Topic5\", \"Topic5\", \"Topic5\", \"Topic5\", \"Topic5\", \"Topic5\", \"Topic5\", \"Topic5\", \"Topic5\", \"Topic5\", \"Topic5\", \"Topic5\", \"Topic5\", \"Topic5\", \"Topic5\", \"Topic5\", \"Topic5\", \"Topic5\", \"Topic5\", \"Topic5\", \"Topic6\", \"Topic6\", \"Topic6\", \"Topic6\", \"Topic6\", \"Topic6\", \"Topic6\", \"Topic6\", \"Topic6\", \"Topic6\", \"Topic6\", \"Topic6\", \"Topic6\", \"Topic6\", \"Topic6\", \"Topic6\", \"Topic6\", \"Topic6\", \"Topic6\", \"Topic6\", \"Topic6\", \"Topic6\", \"Topic6\", \"Topic6\", \"Topic6\", \"Topic6\", \"Topic6\", \"Topic6\", \"Topic6\", \"Topic6\", \"Topic6\", \"Topic6\", \"Topic6\", \"Topic6\", \"Topic6\", \"Topic6\", \"Topic6\", \"Topic6\", \"Topic6\", \"Topic6\", \"Topic6\", \"Topic6\", \"Topic6\", \"Topic6\", \"Topic6\", \"Topic6\", \"Topic6\", \"Topic6\", \"Topic6\", \"Topic6\", \"Topic6\", \"Topic6\", \"Topic6\", \"Topic6\", \"Topic6\", \"Topic6\", \"Topic6\", \"Topic6\", \"Topic6\", \"Topic6\", \"Topic6\", \"Topic6\", \"Topic6\", \"Topic6\", \"Topic6\", \"Topic6\", \"Topic6\", \"Topic6\", \"Topic6\", \"Topic6\", \"Topic6\", \"Topic7\", \"Topic7\", \"Topic7\", \"Topic7\", \"Topic7\", \"Topic7\", \"Topic7\", \"Topic7\", \"Topic7\", \"Topic7\", \"Topic7\", \"Topic7\", \"Topic7\", \"Topic7\", \"Topic7\", \"Topic7\", \"Topic7\", \"Topic7\", \"Topic7\", \"Topic7\", \"Topic7\", \"Topic7\", \"Topic7\", \"Topic7\", \"Topic7\", \"Topic7\", \"Topic7\", \"Topic7\", \"Topic7\", \"Topic7\", \"Topic7\", \"Topic7\", \"Topic7\", \"Topic7\", \"Topic7\", \"Topic7\", \"Topic7\", \"Topic7\", \"Topic7\", \"Topic7\", \"Topic7\", \"Topic7\", \"Topic7\", \"Topic7\", \"Topic7\", \"Topic7\", \"Topic7\", \"Topic7\", \"Topic7\", \"Topic7\", \"Topic7\", \"Topic7\", \"Topic7\", \"Topic7\", \"Topic7\", \"Topic7\", \"Topic7\", \"Topic7\", \"Topic7\", \"Topic7\", \"Topic7\", \"Topic7\", \"Topic7\", \"Topic7\", \"Topic7\", \"Topic7\", \"Topic7\", \"Topic7\", \"Topic7\"], \"Freq\": [81.0, 151.0, 51.0, 64.0, 43.0, 13.0, 45.0, 95.0, 34.0, 99.0, 28.0, 15.0, 123.0, 36.0, 13.0, 15.0, 12.0, 5.0, 19.0, 13.0, 10.0, 16.0, 52.0, 13.0, 15.0, 16.0, 18.0, 16.0, 10.0, 10.0, 7.265969276428223, 6.373599052429199, 6.3733954429626465, 4.588852405548096, 3.696580410003662, 3.696582555770874, 3.695789098739624, 3.6957907676696777, 2.804215908050537, 2.804213762283325, 2.8042120933532715, 2.804210901260376, 2.8042142391204834, 2.804213285446167, 2.804046392440796, 2.8031117916107178, 2.8029427528381348, 2.8026044368743896, 2.7983450889587402, 2.7900807857513428, 8.157794952392578, 7.26617431640625, 1.911836862564087, 1.911836862564087, 1.911836862564087, 1.91183602809906, 1.911836862564087, 1.91183602809906, 1.9118365049362183, 1.9118365049362183, 8.158366203308105, 4.589001178741455, 4.588578224182129, 11.669837951660156, 4.559970855712891, 3.6965858936309814, 3.696596145629883, 7.266141891479492, 9.050017356872559, 53.58183288574219, 63.56458282470703, 35.133583068847656, 19.950834274291992, 12.395333290100098, 6.486979961395264, 10.59233570098877, 6.373273849487305, 5.475542068481445, 8.589015007019043, 22.454421997070312, 10.515466690063477, 5.481351852416992, 52.39890670776367, 21.858976364135742, 11.78332805633545, 33.60227584838867, 11.619447708129883, 20.3212833404541, 13.119230270385742, 20.617387771606445, 15.372697830200195, 15.34389591217041, 11.495331764221191, 12.619662284851074, 23.097288131713867, 14.895512580871582, 13.564839363098145, 13.51216983795166, 10.603981971740723, 9.942792892456055, 10.68412971496582, 10.237586975097656, 10.58656120300293, 4.3795952796936035, 7.786518573760986, 2.676457405090332, 2.676457405090332, 2.676456928253174, 2.676456928253174, 2.676456928253174, 2.6764464378356934, 2.6764333248138428, 1.8247746229171753, 1.8247746229171753, 1.8247735500335693, 1.8247735500335693, 1.8247714042663574, 1.8247736692428589, 1.8247735500335693, 1.8247736692428589, 1.8247745037078857, 1.8247745037078857, 1.8247733116149902, 1.8247745037078857, 1.8247733116149902, 1.8247733116149902, 1.824774146080017, 1.824773907661438, 1.824756383895874, 1.8247548341751099, 1.8247543573379517, 1.8247560262680054, 1.8247556686401367, 3.5281994342803955, 3.528144121170044, 3.5281825065612793, 14.27174186706543, 6.061819076538086, 8.637795448303223, 5.231188774108887, 8.02148723602295, 52.97725296020508, 4.977838039398193, 9.472352027893066, 6.522992134094238, 3.527820110321045, 3.527578115463257, 9.258695602416992, 3.5281622409820557, 2.6764910221099854, 2.6764748096466064, 15.671042442321777, 7.779387474060059, 2.676482915878296, 12.011943817138672, 6.377419471740723, 10.831928253173828, 22.456132888793945, 10.301156997680664, 6.934901237487793, 17.339988708496094, 6.934934139251709, 10.707564353942871, 6.082787990570068, 4.3713459968566895, 7.724801540374756, 13.848166465759277, 11.11401081085205, 11.397552490234375, 8.040523529052734, 6.885333061218262, 8.163267135620117, 6.93488073348999, 7.47318696975708, 6.086137294769287, 5.954352378845215, 2.6197972297668457, 2.619795322418213, 2.6197969913482666, 2.6196906566619873, 2.6192433834075928, 2.61924147605896, 2.6188416481018066, 2.618839979171753, 1.7861493825912476, 1.7861480712890625, 1.786149263381958, 1.786149263381958, 1.7861496210098267, 1.7861461639404297, 1.7861469984054565, 1.786149263381958, 1.7861477136611938, 1.7861461639404297, 1.7861465215682983, 1.7861484289169312, 1.7861437797546387, 1.7861417531967163, 1.7859916687011719, 1.7859907150268555, 1.7859697341918945, 1.7858308553695679, 1.7858304977416992, 1.7858308553695679, 1.7852448225021362, 3.452831745147705, 9.289241790771484, 3.4516000747680664, 5.82447624206543, 2.6198012828826904, 2.619776487350464, 19.527851104736328, 25.847089767456055, 28.28923988342285, 8.766487121582031, 5.12062931060791, 15.3275146484375, 3.375656843185425, 3.453425884246826, 9.28930950164795, 6.64538049697876, 2.61984920501709, 2.6198458671569824, 8.46135139465332, 7.4860076904296875, 12.621865272521973, 11.175553321838379, 21.512784957885742, 8.689488410949707, 8.67387866973877, 7.645571708679199, 25.20934295654297, 19.337661743164062, 5.01055908203125, 5.9545745849609375, 5.954438209533691, 11.705373764038086, 5.813335418701172, 7.6216959953308105, 7.621823310852051, 7.878215312957764, 8.32075309753418, 5.954521179199219, 6.4809794425964355, 7.289064407348633, 7.142885208129883, 6.914329528808594, 6.595063209533691, 4.680263519287109, 2.059274911880493, 1.4040244817733765, 1.4040241241455078, 1.4040240049362183, 1.4040236473083496, 1.4040226936340332, 2.0593016147613525, 1.404064416885376, 0.7487629055976868, 0.7487629652023315, 0.7487629652023315, 0.7487630844116211, 0.7487630844116211, 0.7487629652023315, 0.7487629652023315, 0.7487629652023315, 0.7487629652023315, 0.7487629652023315, 0.7487630844116211, 0.7487629055976868, 0.7487630844116211, 0.7487629652023315, 0.7487629652023315, 0.7487630844116211, 0.7487629652023315, 0.7487630844116211, 0.7487630844116211, 0.748762845993042, 0.7487629055976868, 0.748762845993042, 0.7487629055976868, 1.4040299654006958, 0.748762845993042, 0.748762845993042, 1.4040749073028564, 2.7148680686950684, 2.0593669414520264, 1.40404212474823, 2.0594210624694824, 1.4040340185165405, 6.2286152839660645, 3.3700242042541504, 4.680383682250977, 2.0597188472747803, 1.4040722846984863, 1.4040722846984863, 6.8191022872924805, 1.4040428400039673, 1.4040344953536987, 1.4040770530700684, 7.421058177947998, 8.059035301208496, 2.0594396591186523, 2.0593581199645996, 2.714607000350952, 5.991125106811523, 6.0825300216674805, 4.025303363800049, 3.035426616668701, 4.025118350982666, 2.714851140975952, 3.3698933124542236, 3.4874260425567627, 2.059438467025757, 2.8340392112731934, 2.7147738933563232, 2.059373617172241, 2.1704962253570557, 2.059415817260742, 2.2002835273742676, 2.2128593921661377, 2.1369354724884033, 2.059560775756836, 2.059440851211548, 2.0293633937835693, 2.0291974544525146, 1.3836299180984497, 1.3836300373077393, 1.3835012912750244, 2.0296554565429688, 0.737886905670166, 0.737886905670166, 0.737886905670166, 0.737886905670166, 0.737886905670166, 0.7378868460655212, 0.7378868460655212, 0.737886905670166, 0.7378868460655212, 0.737886905670166, 0.7378868460655212, 0.737886905670166, 0.7378861308097839, 0.7378870248794556, 0.7378870248794556, 0.7378861308097839, 0.7378861308097839, 0.737886905670166, 0.737886369228363, 0.7378864288330078, 0.7378867268562317, 0.7378866672515869, 0.7378866672515869, 0.7378864288330078, 0.7378866672515869, 0.737886369228363, 0.737886369228363, 0.737886369228363, 2.029444932937622, 1.3836746215820312, 2.675323009490967, 1.383722186088562, 1.335060715675354, 1.3072293996810913, 2.0295541286468506, 3.3210127353668213, 3.1716384887695312, 1.3836792707443237, 1.3071792125701904, 1.3836997747421265, 1.3836880922317505, 2.570183515548706, 1.383644700050354, 2.6752498149871826, 1.3358479738235474, 5.495733737945557, 2.5172157287597656, 5.658717632293701, 4.612396717071533, 7.125284194946289, 1.3836474418640137, 2.0294439792633057, 2.6754000186920166, 6.011998653411865, 4.336836338043213, 3.9821324348449707, 2.3667423725128174, 3.320915699005127, 2.029541492462158, 3.09490704536438, 2.029376983642578, 1.886237382888794, 4.079345226287842, 3.7591662406921387, 2.0293970108032227, 2.029653310775757, 1.9270312786102295, 2.0293922424316406, 2.095008134841919, 1.8640244007110596, 1.2710157632827759, 1.27101469039917, 1.27101469039917, 1.2709360122680664, 1.2709360122680664, 1.2708525657653809, 1.2708518505096436, 1.2707500457763672, 0.6778366565704346, 0.6778366565704346, 0.6778366565704346, 0.6778366565704346, 0.6778366565704346, 0.6778366565704346, 0.6778366565704346, 0.677836537361145, 0.677836537361145, 0.6778366565704346, 0.6778366565704346, 0.677836537361145, 0.6778366565704346, 0.677836537361145, 0.6778366565704346, 0.677836537361145, 0.6778366565704346, 0.6778366565704346, 0.6778366565704346, 0.6778362393379211, 0.6778362393379211, 0.6778362393379211, 0.6778362393379211, 0.6778363585472107, 1.8273284435272217, 1.2708978652954102, 1.2708693742752075, 3.3597183227539062, 1.2709460258483887, 2.4649040699005127, 1.2094565629959106, 1.2093827724456787, 3.0508155822753906, 1.803944706916809, 2.2366273403167725, 2.827941656112671, 1.6742464303970337, 1.7699459791183472, 1.9099383354187012, 1.1337296962738037, 1.2094746828079224, 1.2711471319198608, 1.2712938785552979, 2.2552216053009033, 3.2738020420074463, 3.0507469177246094, 1.6806074380874634, 1.8644126653671265, 3.5071005821228027, 2.1771433353424072, 2.4639320373535156, 1.6647361516952515, 1.864005446434021, 1.778948187828064, 1.5437476634979248, 1.8639131784439087, 1.8639872074127197, 1.6438491344451904, 1.5426263809204102, 1.462341070175171, 1.3895739316940308, 1.44553804397583, 1.1491066217422485, 1.1491060256958008, 0.6128267645835876, 0.6128267645835876, 0.6128267645835876, 0.6128267645835876, 0.6128267645835876, 0.6128267049789429, 0.6128260493278503, 0.6128267049789429, 0.6128267049789429, 0.6128267049789429, 0.6128267049789429, 0.6128267049789429, 0.6128267049789429, 0.6128267049789429, 0.6128267049789429, 0.6128267049789429, 0.6128267049789429, 0.6128267049789429, 0.6128260493278503, 0.6128260493278503, 0.6128267049789429, 0.6128267049789429, 0.6128267049789429, 0.6128267049789429, 0.6128267049789429, 0.6128260493278503, 0.6128267049789429, 0.6128257513046265, 0.6128257513046265, 0.6128257513046265, 1.1490490436553955, 1.1490434408187866, 1.6855255365371704, 1.149200677871704, 2.75773286819458, 1.1491363048553467, 1.6855945587158203, 2.085174798965454, 4.903598785400391, 1.1490124464035034, 6.469888210296631, 1.9638891220092773, 3.2944045066833496, 1.68553626537323, 1.1492425203323364, 1.318586826324463, 1.6854456663131714, 1.1491708755493164, 1.1492350101470947, 3.2943572998046875, 2.3982956409454346, 1.149172306060791, 1.1490963697433472, 1.149191975593567, 1.149156928062439, 2.6747305393218994, 1.1494462490081787, 0.9867069721221924, 1.149079442024231, 2.3876705169677734, 1.1492488384246826, 1.1492412090301514, 1.149232268333435, 1.1492012739181519, 1.1492007970809937, 1.1491739749908447, 1.1491671800613403], \"Term\": [\"service\", \"phone\", \"get\", \"one\", \"new\", \"case\", \"location\", \"customer\", \"help\", \"tmobile\", \"call\", \"plan\", \"store\", \"told\", \"staff\", \"see\", \"buy\", \"lee\", \"thing\", \"right\", \"wanted\", \"hour\", \"time\", \"number\", \"issue\", \"need\", \"wait\", \"always\", \"charger\", \"maybe\", \"tablet\", \"current\", \"looked\", \"stock\", \"order\", \"quinton\", \"cost\", \"near\", \"shipped\", \"suggested\", \"amount\", \"charged\", \"attend\", \"code\", \"run\", \"hot\", \"ship\", \"representative\", \"consistent\", \"family\", \"process\", \"answer\", \"supervisor\", \"velma\", \"edward\", \"pricing\", \"send\", \"$/mo\", \"instore\", \"angry\", \"charger\", \"talked\", \"center\", \"carrier\", \"pretty\", \"seem\", \"offered\", \"bill\", \"best\", \"tmobile\", \"store\", \"one\", \"employee\", \"people\", \"problem\", \"called\", \"without\", \"say\", \"tried\", \"could\", \"question\", \"nice\", \"phone\", \"would\", \"pay\", \"customer\", \"another\", \"get\", \"asked\", \"time\", \"said\", \"told\", \"year\", \"call\", \"service\", \"location\", \"went\", \"new\", \"got\", \"came\", \"back\", \"make\", \"even\", \"refund\", \"since\", \"robbed\", \"antonio\", \"addressed\", \"august\", \"nope\", \"activated\", \"spring\", \"restocking\", \"floor\", \"along\", \"bag\", \"bring\", \"forward\", \"gunpoint\", \"button\", \"retried\", \"replacement\", \"reliable\", \"besides\", \"ups\", \"turn\", \"benefit\", \"sandwich\", \"understood\", \"program\", \"assume\", \"pulled\", \"thinking\", \"given\", \"giving\", \"hand\", \"day\", \"explained\", \"iphone\", \"start\", \"mobile\", \"phone\", \"money\", \"next\", \"upgrade\", \"figure\", \"away\", \"manager\", \"okay\", \"drove\", \"information\", \"would\", \"thing\", \"stood\", \"said\", \"account\", \"even\", \"store\", \"help\", \"place\", \"customer\", \"want\", \"could\", \"helped\", \"put\", \"like\", \"tmobile\", \"one\", \"service\", \"went\", \"asked\", \"get\", \"back\", \"new\", \"well\", \"unlocked\", \"motox\", \"wifi\", \"cancellation\", \"acknowledge\", \"fun\", \"member\", \"ghetto\", \"buying\", \"double\", \"previous\", \"apologize\", \"friday\", \"engineer\", \"understands\", \"learn\", \"part\", \"connection\", \"hiram\", \"value\", \"prove\", \"mile\", \"efficient\", \"based\", \"read\", \"unsatisfied\", \"dre\", \"deposit\", \"pearl\", \"providing\", \"perfectly\", \"sim\", \"guess\", \"around\", \"greg\", \"youll\", \"time\", \"service\", \"customer\", \"guy\", \"better\", \"location\", \"verizon\", \"girl\", \"card\", \"first\", \"clerk\", \"purchased\", \"minute\", \"sure\", \"new\", \"told\", \"tmobile\", \"know\", \"make\", \"experience\", \"phone\", \"store\", \"different\", \"line\", \"two\", \"one\", \"hour\", \"call\", \"back\", \"even\", \"went\", \"really\", \"like\", \"get\", \"would\", \"could\", \"help\", \"lee\", \"jamie\", \"tmo\", \"yay\", \"provide\", \"wound\", \"rating\", \"definitely\", \"type\", \"sun\", \"split\", \"recent\", \"payment\", \"figured\", \"opted\", \"notthe\", \"adam\", \"motomo\", \"againin\", \"iti\", \"superhelpful\", \"formerly\", \"adept\", \"bigger\", \"bright\", \"crackberry\", \"enlist\", \"create\", \"remembered\", \"guru\", \"update\", \"discover\", \"making\", \"toyretail\", \"economical\", \"yelp\", \"received\", \"assist\", \"full\", \"three\", \"might\", \"help\", \"number\", \"call\", \"friendly\", \"assisted\", \"reason\", \"service\", \"simply\", \"feel\", \"top\", \"store\", \"phone\", \"associate\", \"last\", \"going\", \"customer\", \"tmobile\", \"new\", \"know\", \"get\", \"well\", \"could\", \"time\", \"getting\", \"location\", \"went\", \"week\", \"hour\", \"give\", \"manager\", \"got\", \"minute\", \"good\", \"back\", \"negative\", \"jasmine\", \"appointment\", \"saturday\", \"titanium\", \"rondell\", \"basis\", \"prior\", \"running\", \"tire\", \"apologized\", \"rudei\", \"jerome\", \"laying\", \"owe\", \"scam\", \"fucking\", \"promised\", \"#teammagenta\", \"glenn\", \"expert\", \"organized\", \"quiet\", \"irresponsible\", \"turning\", \"rediculous\", \"reasonsi\", \"includes\", \"strongly\", \"acknowledged\", \"liar\", \"shed\", \"presence\", \"eat\", \"protector\", \"dollar\", \"beyond\", \"scheduled\", \"weekend\", \"car\", \"excellent\", \"come\", \"staff\", \"zero\", \"advice\", \"waste\", \"port\", \"finally\", \"mention\", \"greeted\", \"fast\", \"new\", \"work\", \"get\", \"told\", \"service\", \"fixed\", \"person\", \"hour\", \"customer\", \"would\", \"location\", \"great\", \"said\", \"someone\", \"went\", \"charger\", \"though\", \"phone\", \"store\", \"upgrade\", \"screen\", \"trying\", \"people\", \"time\", \"gentleman\", \"exodo\", \"hooked\", \"sometimes\", \"hear\", \"sentence\", \"load\", \"eff\", \"speaking\", \"curly\", \"filed\", \"condiscending\", \"servicegtfoh\", \"stage\", \"terminal\", \"happensyes\", \"heated\", \"degree\", \"lens\", \"goodbye\", \"manner\", \"breast\", \"cancer\", \"control\", \"college\", \"hazel\", \"folk\", \"contacted\", \"enthusiastic\", \"exodus\", \"wonder\", \"rate\", \"upper\", \"walk\", \"confused\", \"speak\", \"plan\", \"longer\", \"wanted\", \"worth\", \"mean\", \"see\", \"contact\", \"maybe\", \"thing\", \"actually\", \"think\", \"contract\", \"anyway\", \"using\", \"experienced\", \"courteous\", \"wait\", \"get\", \"location\", \"awesome\", \"always\", \"store\", \"one\", \"phone\", \"sure\", \"time\", \"went\", \"much\", \"service\", \"customer\", \"employee\", \"make\", \"got\", \"thats\", \"like\", \"twice\", \"paperwork\", \"b/c\", \"darn\", \"serial\", \"late\", \"outside\", \"nearly\", \"topic\", \"dotting\", \"geez\", \"mellow\", \"oriented\", \"positive\", \"ring\", \"rung\", \"sears\", \"spending\", \"subpar\", \"crossing\", \"restaurant\", \"earliest\", \"kinda\", \"depending\", \"stressed\", \"rebatescalled\", \"magnificent\", \"church\", \"toned\", \"reading\", \"trusted\", \"toand\", \"shame\", \"amazon\", \"theyre\", \"shes\", \"case\", \"rebate\", \"wrong\", \"buy\", \"service\", \"supposed\", \"phone\", \"need\", \"one\", \"right\", \"complaint\", \"looking\", \"issue\", \"ill\", \"knowledgeable\", \"store\", \"get\", \"gave\", \"happy\", \"waiting\", \"sell\", \"tmobile\", \"friendly\", \"note\", \"something\", \"customer\", \"great\", \"also\", \"staff\", \"sure\", \"better\", \"helped\", \"getting\"], \"Total\": [81.0, 151.0, 51.0, 64.0, 43.0, 13.0, 45.0, 95.0, 34.0, 99.0, 28.0, 15.0, 123.0, 36.0, 13.0, 15.0, 12.0, 5.0, 19.0, 13.0, 10.0, 16.0, 52.0, 13.0, 15.0, 16.0, 18.0, 16.0, 10.0, 10.0, 7.85397481918335, 6.96160888671875, 6.9615478515625, 5.176880359649658, 4.284542560577393, 4.2845458984375, 4.284219741821289, 4.284222602844238, 3.392177104949951, 3.3921749591827393, 3.3921735286712646, 3.3921725749969482, 3.392177104949951, 3.3921761512756348, 3.3921213150024414, 3.391726493835449, 3.391676425933838, 3.3916218280792236, 3.390416145324707, 3.3893439769744873, 10.225115776062012, 9.333016395568848, 2.4997971057891846, 2.4997975826263428, 2.4997975826263428, 2.499796152114868, 2.4997975826263428, 2.4997963905334473, 2.4997975826263428, 2.4997975826263428, 10.683462142944336, 6.010286331176758, 6.028138160705566, 15.69968032836914, 6.018464088439941, 4.877645015716553, 4.930187702178955, 10.122395515441895, 13.183001518249512, 99.32056427001953, 123.34005737304688, 64.53829956054688, 33.517494201660156, 19.352073669433594, 9.315451622009277, 17.337276458740234, 9.30138111114502, 7.734801769256592, 13.588255882263184, 45.784366607666016, 18.202957153320312, 8.031845092773438, 151.65771484375, 51.28582763671875, 22.207796096801758, 95.48629760742188, 22.6796875, 51.12955093383789, 27.05870246887207, 52.94879913330078, 35.813106536865234, 36.14780807495117, 23.865001678466797, 28.70364761352539, 81.0538330078125, 45.397701263427734, 38.287208557128906, 43.290428161621094, 23.7172794342041, 21.099929809570312, 30.074825286865234, 25.82774543762207, 33.03711700439453, 4.973513603210449, 9.025907516479492, 3.2702319622039795, 3.2702322006225586, 3.2702319622039795, 3.2702322006225586, 3.2702322006225586, 3.270228862762451, 3.2702255249023438, 2.4185478687286377, 2.418548583984375, 2.4185469150543213, 2.4185476303100586, 2.4185447692871094, 2.4185478687286377, 2.4185476303100586, 2.4185476303100586, 2.418548822402954, 2.418548822402954, 2.4185473918914795, 2.418548822402954, 2.4185473918914795, 2.4185478687286377, 2.418548822402954, 2.418548822402954, 2.4185421466827393, 2.4185402393341064, 2.4185397624969482, 2.4185428619384766, 2.4185428619384766, 4.955286026000977, 4.9552903175354, 5.013832092285156, 24.14335060119629, 9.29568862915039, 14.358749389648438, 8.205560684204102, 14.257010459899902, 151.65771484375, 8.267378807067871, 18.831260681152344, 11.957658767700195, 5.788787841796875, 5.788478851318359, 21.49917984008789, 5.896872520446777, 4.103607654571533, 4.103609561920166, 51.28582763671875, 19.111019134521484, 4.162159442901611, 35.813106536865234, 14.69377613067627, 33.03711700439453, 123.34005737304688, 34.419010162353516, 17.983579635620117, 95.48629760742188, 18.755552291870117, 45.784366607666016, 16.359153747558594, 8.583760261535645, 27.060197830200195, 99.32056427001953, 64.53829956054688, 81.0538330078125, 38.287208557128906, 27.05870246887207, 51.12955093383789, 30.074825286865234, 43.290428161621094, 22.184816360473633, 6.550704479217529, 3.2161476612091064, 3.216146469116211, 3.2161483764648438, 3.2161099910736084, 3.215980052947998, 3.215980052947998, 3.215745449066162, 3.2157437801361084, 2.3824996948242188, 2.382498025894165, 2.3824996948242188, 2.382499933242798, 2.382500171661377, 2.382495880126953, 2.3824970722198486, 2.382500171661377, 2.382498264312744, 2.3824963569641113, 2.3824968338012695, 2.3824992179870605, 2.382493734359741, 2.3824915885925293, 2.3824524879455566, 2.3824515342712402, 2.3824403285980225, 2.3824050426483154, 2.3824050426483154, 2.3824052810668945, 2.3822391033172607, 4.941421031951904, 16.94216537475586, 5.287785530090332, 10.087973594665527, 3.8617875576019287, 3.8617680072784424, 52.94879913330078, 81.0538330078125, 95.48629760742188, 20.803491592407227, 10.058493614196777, 45.397701263427734, 5.79479455947876, 6.070926666259766, 24.97257423400879, 15.515055656433105, 4.108064651489258, 4.10806941986084, 22.377384185791016, 19.70311164855957, 43.290428161621094, 36.14780807495117, 99.32056427001953, 25.824514389038086, 25.82774543762207, 21.647525787353516, 151.65771484375, 123.34005737304688, 10.9909029006958, 16.151065826416016, 16.32448387145996, 64.53829956054688, 16.197839736938477, 28.70364761352539, 30.074825286865234, 33.03711700439453, 38.287208557128906, 17.91274642944336, 27.060197830200195, 51.12955093383789, 51.28582763671875, 45.784366607666016, 34.419010162353516, 5.302103519439697, 2.681110382080078, 2.0258586406707764, 2.0258586406707764, 2.0258591175079346, 2.0258591175079346, 2.02585768699646, 3.573028564453125, 2.5620810985565186, 1.3705966472625732, 1.3705966472625732, 1.3705967664718628, 1.3705967664718628, 1.3705967664718628, 1.3705967664718628, 1.3705967664718628, 1.3705966472625732, 1.3705966472625732, 1.3705967664718628, 1.3705967664718628, 1.3705966472625732, 1.3705967664718628, 1.3705966472625732, 1.3705966472625732, 1.3705967664718628, 1.3705966472625732, 1.3705967664718628, 1.3705967664718628, 1.3705966472625732, 1.3705967664718628, 1.3705967664718628, 1.3705967664718628, 2.618957281112671, 1.3705967664718628, 1.3705967664718628, 2.859222650527954, 7.657083988189697, 5.3575239181518555, 3.264585256576538, 6.1094818115234375, 3.4703423976898193, 34.419010162353516, 13.709420204162598, 28.70364761352539, 8.161847114562988, 4.286008358001709, 4.337901592254639, 81.0538330078125, 4.580141544342041, 4.6616034507751465, 4.699511528015137, 123.34005737304688, 151.65771484375, 10.037347793579102, 10.114668846130371, 18.180057525634766, 95.48629760742188, 99.32056427001953, 43.290428161621094, 25.824514389038086, 51.12955093383789, 22.184816360473633, 45.784366607666016, 52.94879913330078, 11.365035057067871, 45.397701263427734, 38.287208557128906, 12.225123405456543, 16.197839736938477, 13.583511352539062, 21.49917984008789, 23.7172794342041, 22.377384185791016, 19.93899917602539, 30.074825286865234, 2.6525580883026123, 2.6525533199310303, 2.006824254989624, 2.006824016571045, 2.006812810897827, 3.5443594455718994, 1.3610800504684448, 1.3610800504684448, 1.3610800504684448, 1.3610800504684448, 1.3610800504684448, 1.3610800504684448, 1.3610800504684448, 1.3610801696777344, 1.3610801696777344, 1.3610801696777344, 1.361080527305603, 1.3610807657241821, 1.3610790967941284, 1.3610808849334717, 1.3610807657241821, 1.3610790967941284, 1.3610790967941284, 1.361080527305603, 1.3610795736312866, 1.3610796928405762, 1.361080527305603, 1.361080527305603, 1.361080527305603, 1.3610799312591553, 1.361080527305603, 1.3610799312591553, 1.3610799312591553, 1.3610800504684448, 4.395849704742432, 2.8384273052215576, 6.213284492492676, 2.8987104892730713, 2.917268991470337, 2.8825907707214355, 5.207122802734375, 11.157666206359863, 13.045171737670898, 3.673740863800049, 3.418818235397339, 3.7501139640808105, 3.7501204013824463, 10.196249961853027, 3.79117488861084, 12.12744426727295, 3.75032901763916, 43.290428161621094, 11.4818754196167, 51.12955093383789, 36.14780807495117, 81.0538330078125, 4.327387809753418, 8.896440505981445, 16.197839736938477, 95.48629760742188, 51.28582763671875, 45.397701263427734, 14.51658821105957, 35.813106536865234, 10.329889297485352, 38.287208557128906, 10.683462142944336, 8.625216484069824, 151.65771484375, 123.34005737304688, 11.957658767700195, 12.859977722167969, 10.634161949157715, 19.352073669433594, 52.94879913330078, 2.494886875152588, 1.9017175436019897, 1.901716947555542, 1.9017175436019897, 1.9017176628112793, 1.9017175436019897, 1.9017188549041748, 1.9017194509506226, 2.43796443939209, 1.308538794517517, 1.308538794517517, 1.308538794517517, 1.308538794517517, 1.308538794517517, 1.308538794517517, 1.308538794517517, 1.308538794517517, 1.308538794517517, 1.3085389137268066, 1.308538794517517, 1.308538794517517, 1.3085389137268066, 1.308538794517517, 1.308538794517517, 1.308538794517517, 1.3085389137268066, 1.308538794517517, 1.308538794517517, 1.3085379600524902, 1.3085379600524902, 1.3085379600524902, 1.3085379600524902, 1.308538556098938, 4.060574531555176, 2.735093355178833, 2.753074884414673, 15.36241626739502, 3.60481858253479, 10.75551986694336, 3.360952615737915, 3.3609580993652344, 15.419047355651855, 6.787388324737549, 10.515006065368652, 19.111019134521484, 7.267645835876465, 8.79226303100586, 10.70343017578125, 3.7553255558013916, 4.331234455108643, 5.0391130447387695, 5.174424171447754, 18.73063850402832, 51.12955093383789, 45.397701263427734, 11.054656982421875, 16.64338493347168, 123.34005737304688, 64.53829956054688, 151.65771484375, 19.70311164855957, 52.94879913330078, 38.287208557128906, 12.939635276794434, 81.0538330078125, 95.48629760742188, 33.517494201660156, 25.82774543762207, 23.7172794342041, 9.04236125946045, 27.060197830200195, 1.787937879562378, 1.7879372835159302, 1.251657247543335, 1.251657247543335, 1.251657247543335, 1.251657247543335, 1.251657247543335, 1.251657247543335, 1.2516560554504395, 1.2516573667526245, 1.2516573667526245, 1.2516573667526245, 1.251657247543335, 1.251657247543335, 1.251657247543335, 1.2516573667526245, 1.2516573667526245, 1.2516573667526245, 1.251657247543335, 1.251657247543335, 1.2516560554504395, 1.2516560554504395, 1.251657485961914, 1.251657485961914, 1.251657485961914, 1.251657485961914, 1.251657485961914, 1.2516562938690186, 1.251657485961914, 1.2516560554504395, 1.2516560554504395, 1.2516560554504395, 2.433587074279785, 2.6798367500305176, 5.6555914878845215, 3.2143476009368896, 13.622848510742188, 3.572275400161743, 8.065498352050781, 12.333122253417969, 81.0538330078125, 4.423680305480957, 151.65771484375, 16.691753387451172, 64.53829956054688, 13.256173133850098, 5.425004959106445, 8.078754425048828, 15.347856521606445, 6.8129496574401855, 6.842005729675293, 123.34005737304688, 51.12955093383789, 6.941662311553955, 7.118155002593994, 7.47672176361084, 7.745967388153076, 99.32056427001953, 8.161847114562988, 5.266182899475098, 8.551813125610352, 95.48629760742188, 14.51658821105957, 17.267250061035156, 13.045171737670898, 19.70311164855957, 10.058493614196777, 16.359153747558594, 11.365035057067871], \"loglift\": [30.0, 29.0, 28.0, 27.0, 26.0, 25.0, 24.0, 23.0, 22.0, 21.0, 20.0, 19.0, 18.0, 17.0, 16.0, 15.0, 14.0, 13.0, 12.0, 11.0, 10.0, 9.0, 8.0, 7.0, 6.0, 5.0, 4.0, 3.0, 2.0, 1.0, 1.0012999773025513, 0.9908999800682068, 0.9908999800682068, 0.9585999846458435, 0.9315000176429749, 0.9315000176429749, 0.9314000010490417, 0.9314000010490417, 0.8888000249862671, 0.8888000249862671, 0.8888000249862671, 0.8888000249862671, 0.8888000249862671, 0.8888000249862671, 0.888700008392334, 0.8884999752044678, 0.8884999752044678, 0.8884000182151794, 0.8871999979019165, 0.8845999836921692, 0.8532999753952026, 0.8288000226020813, 0.8109999895095825, 0.8109999895095825, 0.8109999895095825, 0.8109999895095825, 0.8109999895095825, 0.8109999895095825, 0.8109999895095825, 0.8109999895095825, 0.809499979019165, 0.8093000054359436, 0.8062999844551086, 0.7825000286102295, 0.8015999794006348, 0.8019000291824341, 0.7911999821662903, 0.7476000189781189, 0.703000009059906, 0.4620000123977661, 0.41620001196861267, 0.47099998593330383, 0.5602999925613403, 0.6335999965667725, 0.7172999978065491, 0.5863999724388123, 0.7010999917984009, 0.7336999773979187, 0.6204000115394592, 0.3666999936103821, 0.5303999781608582, 0.6970999836921692, 0.01640000008046627, 0.22630000114440918, 0.4453999996185303, 0.034699998795986176, 0.41029998660087585, 0.15639999508857727, 0.35519999265670776, 0.13590000569820404, 0.23340000212192535, 0.22220000624656677, 0.34869998693466187, 0.2574000060558319, -0.17630000412464142, -0.03530000150203705, 0.04149999842047691, -0.0851999968290329, 0.2741999924182892, 0.32670000195503235, 0.044199999421834946, 0.15369999408721924, -0.05889999866485596, 1.3823000192642212, 1.361799955368042, 1.3091000318527222, 1.3091000318527222, 1.3091000318527222, 1.3091000318527222, 1.3091000318527222, 1.3091000318527222, 1.3091000318527222, 1.2278000116348267, 1.2278000116348267, 1.2278000116348267, 1.2278000116348267, 1.2278000116348267, 1.2278000116348267, 1.2278000116348267, 1.2278000116348267, 1.2278000116348267, 1.2278000116348267, 1.2278000116348267, 1.2278000116348267, 1.2278000116348267, 1.2278000116348267, 1.2278000116348267, 1.2278000116348267, 1.2278000116348267, 1.2278000116348267, 1.2278000116348267, 1.2278000116348267, 1.2278000116348267, 1.169800043106079, 1.169800043106079, 1.1581000089645386, 0.9837999939918518, 1.0820000171661377, 1.0012999773025513, 1.0592999458312988, 0.9344000220298767, 0.4578000009059906, 1.0022000074386597, 0.8223999738693237, 0.9035000205039978, 1.014299988746643, 1.014299988746643, 0.6671000123023987, 0.9958999752998352, 1.082200050354004, 1.0821000337600708, 0.3239000141620636, 0.6107000112533569, 1.0679999589920044, 0.4171000123023987, 0.6748999953269958, 0.3944000005722046, -0.193900004029274, 0.30320000648498535, 0.5565999746322632, -0.1965000033378601, 0.5145999789237976, 0.05649999901652336, 0.5202000141143799, 0.8346999883651733, 0.25589999556541443, -0.46070000529289246, -0.24950000643730164, -0.4521999955177307, -0.051100000739097595, 0.14090000092983246, -0.32519999146461487, 0.042399998754262924, -0.24709999561309814, 0.21610000729560852, 1.5099999904632568, 1.4004000425338745, 1.4004000425338745, 1.4004000425338745, 1.4004000425338745, 1.4002000093460083, 1.4002000093460083, 1.4000999927520752, 1.4000999927520752, 1.3173999786376953, 1.3173999786376953, 1.3173999786376953, 1.3173999786376953, 1.3173999786376953, 1.3173999786376953, 1.3173999786376953, 1.3173999786376953, 1.3173999786376953, 1.3173999786376953, 1.3173999786376953, 1.3173999786376953, 1.3173999786376953, 1.3173999786376953, 1.3172999620437622, 1.3172999620437622, 1.3172999620437622, 1.317199945449829, 1.317199945449829, 1.317199945449829, 1.3170000314712524, 1.246999979019165, 1.0045000314712524, 1.1789000034332275, 1.0562000274658203, 1.2173999547958374, 1.2173999547958374, 0.6079999804496765, 0.4625999927520752, 0.3889999985694885, 0.7412999868392944, 0.9302999973297119, 0.5196999907493591, 1.0650999546051025, 1.0413000583648682, 0.616599977016449, 0.7576000094413757, 1.1555999517440796, 1.1555999517440796, 0.6328999996185303, 0.6377000212669373, 0.37299999594688416, 0.43160000443458557, 0.07580000162124634, 0.5163000226020813, 0.5142999887466431, 0.5647000074386597, -0.18889999389648438, -0.24740000069141388, 0.8198999762535095, 0.6075999736785889, 0.5968999862670898, -0.10170000046491623, 0.5806999802589417, 0.2793999910354614, 0.23280000686645508, 0.17190000414848328, 0.07909999787807465, 0.5041000247001648, 0.17630000412464142, -0.3425000011920929, -0.36579999327659607, -0.2849000096321106, -0.046799998730421066, 2.5144999027252197, 2.3754000663757324, 2.272599935531616, 2.272599935531616, 2.272599935531616, 2.272599935531616, 2.272599935531616, 2.088200092315674, 2.0378000736236572, 2.0346999168395996, 2.0346999168395996, 2.0346999168395996, 2.0346999168395996, 2.0346999168395996, 2.0346999168395996, 2.0346999168395996, 2.0346999168395996, 2.0346999168395996, 2.0346999168395996, 2.0346999168395996, 2.0346999168395996, 2.0346999168395996, 2.0346999168395996, 2.0346999168395996, 2.0346999168395996, 2.0346999168395996, 2.0346999168395996, 2.0346999168395996, 2.0346999168395996, 2.0346999168395996, 2.0346999168395996, 2.0346999168395996, 2.0157999992370605, 2.0346999168395996, 2.0346999168395996, 1.9280999898910522, 1.6023000478744507, 1.6830999851226807, 1.7955000400543213, 1.551800012588501, 1.7343000173568726, 0.9297999739646912, 1.2360999584197998, 0.8256000280380249, 1.2623000144958496, 1.523300051689148, 1.511199951171875, 0.16380000114440918, 1.4569000005722046, 1.4392000436782837, 1.4312000274658203, -0.17139999568462372, -0.2955999970436096, 1.055400013923645, 1.0476000308990479, 0.7376000285148621, -0.12950000166893005, -0.15369999408721924, 0.2639000117778778, 0.4982999861240387, 0.09740000218153, 0.5386000275611877, 0.03020000085234642, -0.08089999854564667, 0.9311000108718872, -0.13449999690055847, -0.007199999876320362, 0.8580999970436096, 0.6292999982833862, 0.7527999877929688, 0.3598000109195709, 0.267300009727478, 0.2906000018119812, 0.36899998784065247, -0.041999999433755875, 2.3986001014709473, 2.3984999656677246, 2.2945001125335693, 2.2945001125335693, 2.2943999767303467, 2.1089000701904297, 2.0541000366210938, 2.0541000366210938, 2.0541000366210938, 2.0541000366210938, 2.0541000366210938, 2.0541000366210938, 2.0541000366210938, 2.0541000366210938, 2.0541000366210938, 2.0541000366210938, 2.0541000366210938, 2.0541000366210938, 2.0541000366210938, 2.0541000366210938, 2.0541000366210938, 2.0541000366210938, 2.0541000366210938, 2.0541000366210938, 2.0541000366210938, 2.0541000366210938, 2.0541000366210938, 2.0541000366210938, 2.0541000366210938, 2.0541000366210938, 2.0541000366210938, 2.0541000366210938, 2.0541000366210938, 2.0541000366210938, 1.8934999704360962, 1.9479000568389893, 1.823699951171875, 1.926900029182434, 1.8846999406814575, 1.875599980354309, 1.7242000102996826, 1.4544999599456787, 1.2522000074386597, 1.6899000406265259, 1.7049000263214111, 1.6692999601364136, 1.6692999601364136, 1.2883000373840332, 1.658400058746338, 1.1548999547958374, 1.6340999603271484, 0.602400004863739, 1.1486999988555908, 0.4652000069618225, 0.6075000166893005, 0.23489999771118164, 1.5261000394821167, 1.1885000467300415, 0.8655999898910522, -0.09889999777078629, 0.19609999656677246, 0.23270000517368317, 0.8525999784469604, 0.2883000075817108, 1.0391000509262085, 0.1509999930858612, 1.0053999423980713, 1.146299958229065, -0.9492999911308289, -0.824400007724762, 0.8927000164985657, 0.8201000094413757, 0.958299994468689, 0.41130000352859497, -0.5633999705314636, 2.6187000274658203, 2.5072999000549316, 2.5072999000549316, 2.5072999000549316, 2.507200002670288, 2.507200002670288, 2.5071001052856445, 2.5071001052856445, 2.2585999965667725, 2.2523999214172363, 2.2523999214172363, 2.2523999214172363, 2.2523999214172363, 2.2523999214172363, 2.2523999214172363, 2.2523999214172363, 2.2523999214172363, 2.2523999214172363, 2.2523999214172363, 2.2523999214172363, 2.2523999214172363, 2.2523999214172363, 2.2523999214172363, 2.2523999214172363, 2.2523999214172363, 2.2523999214172363, 2.2523999214172363, 2.2523999214172363, 2.2523999214172363, 2.2523999214172363, 2.2523999214172363, 2.2523999214172363, 2.2523999214172363, 2.1117000579833984, 2.1438000202178955, 2.137200117111206, 1.3901000022888184, 1.8676999807357788, 1.436900019645691, 1.888100028038025, 1.888100028038025, 1.2899999618530273, 1.5851000547409058, 1.3624000549316406, 0.9994999766349792, 1.4421000480651855, 1.3072999715805054, 1.1866999864578247, 1.712499976158142, 1.6345000267028809, 1.5328999757766724, 1.506500005722046, 0.7932999730110168, 0.16179999709129333, 0.210099995136261, 1.0264999866485596, 0.7210999727249146, -0.6499999761581421, -0.47909998893737793, -1.2096999883651733, 0.4390999972820282, -0.43639999628067017, -0.15889999270439148, 0.7840999960899353, -0.8622000217437744, -1.0261000394821167, -0.10480000078678131, 0.09220000356435776, 0.12399999797344208, 1.0372999906539917, -0.01940000057220459, 2.7065999507904053, 2.7065999507904053, 2.434499979019165, 2.434499979019165, 2.434499979019165, 2.434499979019165, 2.434499979019165, 2.434499979019165, 2.434499979019165, 2.434499979019165, 2.434499979019165, 2.434499979019165, 2.434499979019165, 2.434499979019165, 2.434499979019165, 2.434499979019165, 2.434499979019165, 2.434499979019165, 2.434499979019165, 2.434499979019165, 2.434499979019165, 2.434499979019165, 2.434499979019165, 2.434499979019165, 2.434499979019165, 2.434499979019165, 2.434499979019165, 2.434499979019165, 2.434499979019165, 2.434499979019165, 2.434499979019165, 2.434499979019165, 2.398200035095215, 2.301800012588501, 1.938099980354309, 2.1201000213623047, 1.551300048828125, 2.0144999027252197, 1.5831999778747559, 1.3711999654769897, 0.3434999883174896, 1.8006000518798828, -0.005799999926239252, 1.0087000131607056, 0.1736000031232834, 1.086300015449524, 1.5966999530792236, 1.3359999656677246, 0.9397000074386597, 1.368899941444397, 1.3646999597549438, -0.4740999937057495, 0.08910000324249268, 1.3502000570297241, 1.3250000476837158, 1.2759000062942505, 1.2404999732971191, -0.4657999873161316, 1.1885000467300415, 1.4739999771118164, 1.1414999961853027, -0.5400000214576721, 0.612500011920929, 0.4390000104904175, 0.7192999720573425, 0.3070000112056732, 0.9793000221252441, 0.492900013923645, 0.857200026512146], \"logprob\": [30.0, 29.0, 28.0, 27.0, 26.0, 25.0, 24.0, 23.0, 22.0, 21.0, 20.0, 19.0, 18.0, 17.0, 16.0, 15.0, 14.0, 13.0, 12.0, 11.0, 10.0, 9.0, 8.0, 7.0, 6.0, 5.0, 4.0, 3.0, 2.0, 1.0, -5.836299896240234, -5.967299938201904, -5.967400074005127, -6.295899868011475, -6.5121002197265625, -6.5121002197265625, -6.51230001449585, -6.51230001449585, -6.788400173187256, -6.788400173187256, -6.788400173187256, -6.788400173187256, -6.788400173187256, -6.788400173187256, -6.788400173187256, -6.78879976272583, -6.78879976272583, -6.789000034332275, -6.790500164031982, -6.793399810791016, -5.7204999923706055, -5.836299896240234, -7.17140007019043, -7.17140007019043, -7.17140007019043, -7.17140007019043, -7.17140007019043, -7.17140007019043, -7.17140007019043, -7.17140007019043, -5.7204999923706055, -6.29580020904541, -6.295899868011475, -5.362500190734863, -6.302199840545654, -6.5121002197265625, -6.5121002197265625, -5.836299896240234, -5.616700172424316, -3.8382999897003174, -3.6675000190734863, -4.26039981842041, -4.826200008392334, -5.302199840545654, -5.949699878692627, -5.459400177001953, -5.967400074005127, -6.119200229644775, -5.669000148773193, -4.708000183105469, -5.466700077056885, -6.118199825286865, -3.860599994659424, -4.734899997711182, -5.352799892425537, -4.304900169372559, -5.366799831390381, -4.807799816131592, -5.2453999519348145, -4.793399810791016, -5.086900234222412, -5.088799953460693, -5.377600193023682, -5.284299850463867, -4.679800033569336, -5.118500232696533, -5.211999893188477, -5.21589994430542, -5.4583001136779785, -5.52269983291626, -5.450799942016602, -5.4934000968933105, -5.45989990234375, -5.912199974060059, -5.336699962615967, -6.404600143432617, -6.404600143432617, -6.404600143432617, -6.404600143432617, -6.404600143432617, -6.404600143432617, -6.404600143432617, -6.787700176239014, -6.787700176239014, -6.787700176239014, -6.787700176239014, -6.787700176239014, -6.787700176239014, -6.787700176239014, -6.787700176239014, -6.787700176239014, -6.787700176239014, -6.787700176239014, -6.787700176239014, -6.787700176239014, -6.787700176239014, -6.787700176239014, -6.787700176239014, -6.787700176239014, -6.787700176239014, -6.787700176239014, -6.787700176239014, -6.787700176239014, -6.128300189971924, -6.128399848937988, -6.128300189971924, -4.730800151824951, -5.587100028991699, -5.232999801635742, -5.734499931335449, -5.307000160217285, -3.419300079345703, -5.78410005569458, -5.140699863433838, -5.513800144195557, -6.128399848937988, -6.128499984741211, -5.163599967956543, -6.128300189971924, -6.404600143432617, -6.404600143432617, -4.63730001449585, -5.337600231170654, -6.404600143432617, -4.903200149536133, -5.536399841308594, -5.0065999031066895, -4.277599811553955, -5.0569000244140625, -5.452600002288818, -4.536099910736084, -5.452600002288818, -5.018199920654297, -5.583700180053711, -5.914100170135498, -5.344699859619141, -4.761000156402588, -4.980899810791016, -4.955699920654297, -5.304599761962891, -5.459700107574463, -5.2895002365112305, -5.452600002288818, -5.377799987792969, -5.583099842071533, -5.508999824523926, -6.330100059509277, -6.330100059509277, -6.330100059509277, -6.330100059509277, -6.3302998542785645, -6.3302998542785645, -6.330399990081787, -6.330399990081787, -6.713099956512451, -6.713099956512451, -6.713099956512451, -6.713099956512451, -6.713099956512451, -6.713099956512451, -6.713099956512451, -6.713099956512451, -6.713099956512451, -6.713099956512451, -6.713099956512451, -6.713099956512451, -6.713099956512451, -6.713099956512451, -6.713200092315674, -6.713200092315674, -6.713200092315674, -6.7133002281188965, -6.7133002281188965, -6.7133002281188965, -6.713600158691406, -6.053999900817871, -5.064300060272217, -6.054299831390381, -5.531099796295166, -6.330100059509277, -6.330100059509277, -4.321300029754639, -4.040999889373779, -3.950700044631958, -5.122200012207031, -5.659900188446045, -4.563499927520752, -6.076600074768066, -6.053800106048584, -5.064300060272217, -5.399199962615967, -6.330100059509277, -6.330100059509277, -5.157700061798096, -5.280099868774414, -4.757699966430664, -4.87939977645874, -4.2245001792907715, -5.131100177764893, -5.132900238037109, -5.258999824523926, -4.065999984741211, -4.331099987030029, -5.681600093841553, -5.508999824523926, -5.508999824523926, -4.833099842071533, -5.5329999923706055, -5.262199878692627, -5.262199878692627, -5.229100227355957, -5.1743998527526855, -5.508999824523926, -5.424300193786621, -5.30679988861084, -5.327099800109863, -5.359600067138672, -5.406799793243408, -4.716100215911865, -5.537099838256836, -5.920100212097168, -5.920100212097168, -5.920100212097168, -5.920100212097168, -5.920100212097168, -5.5370001792907715, -5.920000076293945, -6.548699855804443, -6.548699855804443, -6.548699855804443, -6.548699855804443, -6.548699855804443, -6.548699855804443, -6.548699855804443, -6.548699855804443, -6.548699855804443, -6.548699855804443, -6.548699855804443, -6.548699855804443, -6.548699855804443, -6.548699855804443, -6.548699855804443, -6.548699855804443, -6.548699855804443, -6.548699855804443, -6.548699855804443, -6.548699855804443, -6.548699855804443, -6.548699855804443, -6.548699855804443, -5.920100212097168, -6.548699855804443, -6.548699855804443, -5.920000076293945, -5.260700225830078, -5.5370001792907715, -5.920100212097168, -5.5370001792907715, -5.920100212097168, -4.430300235748291, -5.04449987411499, -4.716000080108643, -5.536799907684326, -5.920000076293945, -5.920000076293945, -4.339700222015381, -5.920100212097168, -5.920100212097168, -5.920000076293945, -4.255099773406982, -4.172599792480469, -5.5370001792907715, -5.5370001792907715, -5.260799884796143, -4.469099998474121, -4.453999996185303, -4.866799831390381, -5.149099826812744, -4.8668999671936035, -5.260700225830078, -5.04449987411499, -5.010200023651123, -5.5370001792907715, -5.217700004577637, -5.260700225830078, -5.5370001792907715, -5.484499931335449, -5.5370001792907715, -5.470799922943115, -5.465099811553955, -5.5, -5.536900043487549, -5.5370001792907715, -5.524600028991699, -5.524600028991699, -5.907599925994873, -5.907599925994873, -5.907700061798096, -5.524400234222412, -6.536200046539307, -6.536200046539307, -6.536200046539307, -6.536200046539307, -6.536200046539307, -6.536200046539307, -6.536200046539307, -6.536200046539307, -6.536200046539307, -6.536200046539307, -6.536200046539307, -6.536200046539307, -6.536200046539307, -6.536200046539307, -6.536200046539307, -6.536200046539307, -6.536200046539307, -6.536200046539307, -6.536200046539307, -6.536200046539307, -6.536200046539307, -6.536200046539307, -6.536200046539307, -6.536200046539307, -6.536200046539307, -6.536200046539307, -6.536200046539307, -6.536200046539307, -5.524499893188477, -5.90749979019165, -5.248199939727783, -5.90749979019165, -5.943299770355225, -5.964399814605713, -5.524499893188477, -5.0320000648498535, -5.078000068664551, -5.90749979019165, -5.964399814605713, -5.90749979019165, -5.90749979019165, -5.288300037384033, -5.907599925994873, -5.248199939727783, -5.942699909210205, -4.528299808502197, -5.309100151062012, -4.499100208282471, -4.703499794006348, -4.268599987030029, -5.907599925994873, -5.524499893188477, -5.248199939727783, -4.438499927520752, -4.765100002288818, -4.850500106811523, -5.370800018310547, -5.0320000648498535, -5.524499893188477, -5.102499961853027, -5.524499893188477, -5.597700119018555, -4.826300144195557, -4.908100128173828, -5.524499893188477, -5.524400234222412, -5.576300144195557, -5.524499893188477, -5.492700099945068, -5.365699768066406, -5.748600006103516, -5.748600006103516, -5.748600006103516, -5.748700141906738, -5.748700141906738, -5.748799800872803, -5.748799800872803, -5.748799800872803, -6.377299785614014, -6.377299785614014, -6.377299785614014, -6.377299785614014, -6.377299785614014, -6.377299785614014, -6.377299785614014, -6.377299785614014, -6.377299785614014, -6.377299785614014, -6.377299785614014, -6.377299785614014, -6.377299785614014, -6.377299785614014, -6.377299785614014, -6.377299785614014, -6.377299785614014, -6.377299785614014, -6.377299785614014, -6.377299785614014, -6.377299785614014, -6.377299785614014, -6.377299785614014, -6.377299785614014, -5.3856000900268555, -5.748700141906738, -5.748700141906738, -4.776599884033203, -5.748700141906738, -5.086299896240234, -5.798299789428711, -5.798299789428711, -4.873000144958496, -5.398499965667725, -5.183499813079834, -4.94890022277832, -5.473100185394287, -5.417500019073486, -5.341400146484375, -5.8628997802734375, -5.798299789428711, -5.748499870300293, -5.7484002113342285, -5.17519998550415, -4.802499771118164, -4.8730998039245605, -5.469299793243408, -5.365499973297119, -4.733699798583984, -5.210400104522705, -5.086699962615967, -5.478799819946289, -5.365699768066406, -5.412399768829346, -5.554200172424316, -5.365799903869629, -5.365699768066406, -5.491399765014648, -5.554999828338623, -5.608399868011475, -5.65939998626709, -5.619999885559082, -5.611000061035156, -5.611000061035156, -6.23960018157959, -6.23960018157959, -6.23960018157959, -6.23960018157959, -6.23960018157959, -6.23960018157959, -6.23960018157959, -6.23960018157959, -6.23960018157959, -6.23960018157959, -6.23960018157959, -6.23960018157959, -6.23960018157959, -6.23960018157959, -6.23960018157959, -6.23960018157959, -6.23960018157959, -6.23960018157959, -6.23960018157959, -6.23960018157959, -6.23960018157959, -6.23960018157959, -6.23960018157959, -6.23960018157959, -6.23960018157959, -6.23960018157959, -6.23960018157959, -6.23960018157959, -6.23960018157959, -6.23960018157959, -5.611000061035156, -5.611000061035156, -5.22790002822876, -5.610899925231934, -4.735599994659424, -5.611000061035156, -5.22790002822876, -5.015100002288818, -4.159999847412109, -5.611100196838379, -3.8828001022338867, -5.074999809265137, -4.557700157165527, -5.22790002822876, -5.610899925231934, -5.473400115966797, -5.22790002822876, -5.610899925231934, -5.610899925231934, -4.557799816131592, -4.875199794769287, -5.610899925231934, -5.611000061035156, -5.610899925231934, -5.610899925231934, -4.76609992980957, -5.6107001304626465, -5.763400077819824, -5.611000061035156, -4.879700183868408, -5.610899925231934, -5.610899925231934, -5.610899925231934, -5.610899925231934, -5.610899925231934, -5.610899925231934, -5.610899925231934]}, \"token.table\": {\"Topic\": [5, 1, 1, 2, 3, 5, 2, 1, 2, 4, 6, 7, 4, 2, 4, 2, 5, 7, 4, 2, 1, 2, 3, 4, 7, 1, 2, 3, 5, 6, 1, 7, 1, 1, 1, 2, 3, 4, 5, 1, 3, 5, 2, 1, 6, 3, 5, 5, 1, 2, 3, 1, 2, 3, 4, 7, 1, 4, 3, 4, 6, 1, 2, 3, 4, 5, 2, 1, 2, 2, 3, 1, 2, 3, 4, 6, 7, 1, 2, 3, 4, 5, 6, 7, 2, 3, 5, 2, 2, 1, 2, 4, 6, 1, 3, 6, 7, 3, 4, 5, 6, 4, 1, 2, 4, 6, 4, 2, 2, 1, 2, 3, 4, 7, 3, 1, 2, 3, 4, 1, 2, 3, 1, 2, 3, 5, 3, 6, 2, 5, 1, 2, 3, 4, 5, 1, 2, 3, 1, 2, 4, 7, 1, 2, 1, 1, 5, 7, 1, 3, 1, 6, 1, 2, 3, 4, 5, 6, 1, 2, 4, 5, 6, 7, 6, 3, 6, 3, 1, 1, 2, 3, 6, 6, 1, 2, 3, 4, 6, 6, 1, 1, 2, 3, 4, 5, 7, 1, 3, 4, 6, 4, 4, 7, 6, 1, 1, 2, 3, 4, 5, 6, 7, 7, 1, 2, 3, 5, 6, 1, 4, 6, 7, 3, 1, 2, 3, 4, 3, 5, 7, 3, 3, 2, 3, 7, 5, 4, 1, 6, 3, 1, 2, 3, 5, 6, 7, 3, 4, 6, 1, 2, 3, 4, 5, 7, 2, 5, 6, 6, 1, 2, 3, 4, 5, 6, 1, 3, 6, 7, 5, 1, 2, 3, 1, 1, 3, 5, 1, 2, 4, 2, 3, 4, 6, 1, 2, 3, 5, 1, 2, 3, 4, 5, 1, 5, 7, 2, 6, 4, 2, 3, 1, 2, 3, 4, 5, 6, 7, 5, 4, 5, 6, 3, 1, 2, 3, 7, 7, 6, 1, 2, 3, 4, 5, 6, 7, 1, 2, 4, 6, 7, 3, 1, 3, 6, 7, 1, 2, 3, 4, 5, 2, 3, 2, 3, 5, 1, 2, 3, 4, 5, 7, 1, 2, 3, 4, 5, 7, 6, 1, 2, 3, 4, 6, 1, 2, 3, 5, 6, 7, 1, 2, 3, 5, 6, 3, 5, 3, 5, 6, 2, 4, 1, 2, 3, 4, 1, 2, 6, 1, 2, 4, 6, 7, 6, 6, 6, 1, 2, 3, 4, 5, 6, 7, 1, 2, 3, 4, 7, 3, 6, 1, 2, 3, 4, 5, 6, 7, 1, 2, 5, 7, 5, 2, 3, 1, 1, 2, 3, 5, 1, 2, 3, 4, 6, 7, 4, 4, 5, 5, 7, 1, 2, 3, 4, 5, 7, 1, 6, 7, 1, 2, 4, 5, 7, 5, 3, 4, 6, 5, 1, 2, 3, 4, 6, 1, 2, 3, 4, 5, 6, 1, 2, 3, 4, 5, 6, 2, 6, 1, 1, 2, 3, 4, 6, 7, 7, 1, 2, 3, 4, 5, 6, 7, 4, 6, 1, 2, 3, 4, 5, 6, 6, 1, 2, 3, 5, 6, 1, 6, 7, 7, 3, 1, 5, 2, 4, 6, 3, 1, 2, 3, 4, 1, 2, 3, 6, 1, 2, 5, 4, 3, 1, 2, 3, 6, 1, 7, 1, 2, 3, 4, 5, 6, 7, 5, 1, 2, 3, 4, 5, 1, 2, 3, 1, 3, 6, 7, 2, 2, 3, 7, 4, 1, 2, 3, 4, 5, 7, 1, 5, 2, 5, 6, 7, 1, 2, 3, 5, 6, 7, 4, 1, 5, 7, 7, 5, 7, 3, 1, 2, 3, 4, 5, 7, 4, 3, 1, 2, 3, 5, 1, 3, 1, 3, 4, 5, 6, 1, 2, 3, 4, 5, 6, 7, 1, 2, 3, 5, 6, 1, 2, 3, 4, 6, 1, 2, 5, 7, 5, 1, 2, 3, 1, 5, 1, 2, 5, 1, 3, 5, 2, 5, 1, 2, 5, 3, 4, 3, 2, 1, 3, 1, 2, 3, 5, 6, 1, 2, 3, 5, 6, 5, 1, 6, 4, 3, 7, 1, 2, 3, 4, 5, 3, 4, 5, 5, 1, 7, 7, 1, 2, 3, 4, 4, 5, 2, 2, 4, 2, 1, 7, 2, 2, 1, 2, 5, 6, 7, 7, 2, 1, 5, 5, 1, 7, 5, 1, 2, 3, 5, 6, 2, 5, 1, 3, 5, 1, 5, 1, 2, 3, 4, 5, 7, 1, 2, 3, 5, 6, 1, 6, 1, 2, 5, 7, 1, 6, 7, 1, 2, 3, 4, 5, 6, 7, 6, 5, 7, 5, 3, 6, 7, 1, 1, 1, 2, 3, 2, 4, 2, 5, 1, 2, 3, 5, 6, 7, 1, 2, 6, 7, 6, 2, 6, 6, 7, 7, 4, 2, 1, 3, 5, 7, 6, 1, 2, 3, 4, 1, 1, 2, 1, 2, 3, 4, 5, 6, 7, 7, 5, 7, 1, 4, 4, 1, 1, 2, 7, 1, 2, 3, 4, 6, 7, 1, 1, 3, 6, 1, 4, 6, 7, 1, 4, 7, 1, 2, 3, 4, 5, 6, 7, 1, 2, 3, 4, 5, 6, 2, 1, 2, 3, 4, 5, 1, 2, 3, 4, 1, 2, 3, 4, 5, 6, 7, 5, 5, 4, 1, 2, 3, 4, 5, 6, 7, 7, 1, 2, 3, 4, 5, 7, 1, 4, 7, 4, 1, 3, 5, 7, 1, 2, 5, 2, 5, 7, 1, 2, 3, 4, 5, 4, 7, 3, 2, 3, 3, 4, 2, 3, 5, 6, 2, 1, 2, 4, 6, 3, 1, 1, 2, 3, 1, 2, 3, 5, 6, 7, 1, 2, 3, 6, 7, 1, 4, 6, 1, 2, 3, 1, 2, 4, 6, 1, 2, 5, 1, 2, 3, 4, 1, 5, 1, 2, 3, 4, 5, 6, 1, 2, 3, 4, 5, 6, 7, 3, 1, 2, 3, 4, 6, 1, 2, 3, 4, 5, 7, 1, 6, 7, 1, 2, 3, 4, 5, 6, 7, 4, 1, 2, 3, 5, 7, 4, 1, 2, 3, 4, 5, 6, 3, 4, 3, 5, 3, 5], \"Freq\": [0.7347111701965332, 0.8000651597976685, 0.54444819688797, 0.40833616256713867, 0.9328039288520813, 0.734710693359375, 0.9173669815063477, 0.2751922905445099, 0.2751922905445099, 0.13759614527225494, 0.2751922905445099, 0.13759614527225494, 0.7296092510223389, 0.9173661470413208, 0.7296092510223389, 0.29249873757362366, 0.29249873757362366, 0.29249873757362366, 0.7296091914176941, 0.8269428014755249, 0.5212178826332092, 0.2316524088382721, 0.11582620441913605, 0.057913102209568024, 0.057913102209568024, 0.4205875098705292, 0.06008393317461014, 0.3004196584224701, 0.12016786634922028, 0.12016786634922028, 0.3731570541858673, 0.3731570541858673, 0.8843887448310852, 0.8000648021697998, 0.5291078090667725, 0.17636927962303162, 0.17636927962303162, 0.044092319905757904, 0.044092319905757904, 0.7500254511833191, 0.1071464940905571, 0.1071464940905571, 0.9173660278320312, 0.5325769782066345, 0.26628848910331726, 0.8394544720649719, 0.7347106337547302, 0.4982997477054596, 0.2973838150501251, 0.09912793338298798, 0.5947676301002502, 0.48043692111968994, 0.2586968243122101, 0.1847834289073944, 0.03695668652653694, 0.03695668652653694, 0.5599601864814758, 0.3733067810535431, 0.4666346609592438, 0.2333173304796219, 0.2333173304796219, 0.29888373613357544, 0.29888373613357544, 0.09962791204452515, 0.1992558240890503, 0.09962791204452515, 0.8269452452659607, 0.8843877911567688, 0.9173660278320312, 0.691027820110321, 0.3455139100551605, 0.4522980749607086, 0.18091922998428345, 0.18091922998428345, 0.09045961499214172, 0.18091922998428345, 0.7989407777786255, 0.3657544255256653, 0.23275279998779297, 0.26600322127342224, 0.06650080531835556, 0.03325040265917778, 0.03325040265917778, 0.03325040265917778, 0.8269425630569458, 0.8394711017608643, 0.7347106337547302, 0.8269421458244324, 0.8269421458244324, 0.6826973557472229, 0.15171052515506744, 0.07585526257753372, 0.07585526257753372, 0.29825538396835327, 0.4970923364162445, 0.09941846877336502, 0.09941846877336502, 0.3218909502029419, 0.16094547510147095, 0.48283642530441284, 0.16094547510147095, 0.7296092510223389, 0.6915358901023865, 0.09879084676504135, 0.09879084676504135, 0.764211118221283, 0.7296091914176941, 0.826943576335907, 0.8269425630569458, 0.40541234612464905, 0.2432474046945572, 0.08108247071504593, 0.08108247071504593, 0.16216494143009186, 0.932910144329071, 0.4529041051864624, 0.1393551081418991, 0.2787102162837982, 0.17419388890266418, 0.63447105884552, 0.2883959412574768, 0.1153583750128746, 0.47393521666526794, 0.23696760833263397, 0.18957409262657166, 0.047393523156642914, 0.9327927827835083, 0.7642111778259277, 0.34691014885902405, 0.34691014885902405, 0.32035142183303833, 0.20021964609622955, 0.3603953719139099, 0.04004392772912979, 0.04004392772912979, 0.7643467783927917, 0.19108669459819794, 0.06369556486606598, 0.36703044176101685, 0.36703044176101685, 0.07340608537197113, 0.2202182561159134, 0.8294435143470764, 0.1658886969089508, 0.8843889832496643, 0.7488209009170532, 0.1872052252292633, 0.7989413738250732, 0.24342362582683563, 0.7302708625793457, 0.8843880295753479, 0.7642111778259277, 0.08962447941303253, 0.3584979176521301, 0.17924895882606506, 0.08962447941303253, 0.2688734233379364, 0.08962447941303253, 0.18433162569999695, 0.18433162569999695, 0.18433162569999695, 0.18433162569999695, 0.18433162569999695, 0.18433162569999695, 0.7642111778259277, 0.3656182289123535, 0.3656182289123535, 0.8394549489021301, 0.884847104549408, 0.1473320722579956, 0.2946641445159912, 0.2946641445159912, 0.2946641445159912, 0.7642111778259277, 0.3737119734287262, 0.09342799335718155, 0.28028398752212524, 0.09342799335718155, 0.1868559867143631, 0.7642111778259277, 0.9336588978767395, 0.4805133640766144, 0.2402566820383072, 0.1528906226158142, 0.06552454829216003, 0.04368303343653679, 0.021841516718268394, 0.3865164518356323, 0.19325822591781616, 0.19325822591781616, 0.19325822591781616, 0.7296092510223389, 0.7296091914176941, 0.7989407777786255, 0.7642111778259277, 0.861869752407074, 0.3560720384120941, 0.17803601920604706, 0.29323577880859375, 0.06283623725175858, 0.06283623725175858, 0.020945413038134575, 0.020945413038134575, 0.7989407777786255, 0.16567708551883698, 0.57986980676651, 0.16567708551883698, 0.041419271379709244, 0.041419271379709244, 0.27987462282180786, 0.5597492456436157, 0.7642111778259277, 0.7989405989646912, 0.8394877910614014, 0.3639373481273651, 0.18196867406368256, 0.454921692609787, 0.7296091914176941, 0.3523077666759491, 0.3523077666759491, 0.7989407181739807, 0.8394544720649719, 0.8394877910614014, 0.7310640215873718, 0.24368801712989807, 0.7989415526390076, 0.7347106337547302, 0.7296091914176941, 0.8000648021697998, 0.5258399248123169, 0.8394573330879211, 0.596703290939331, 0.14917582273483276, 0.14917582273483276, 0.029835166409611702, 0.059670332819223404, 0.029835166409611702, 0.8394542932510376, 0.7296091914176941, 0.7642117142677307, 0.332958847284317, 0.332958847284317, 0.2421518862247467, 0.030268985778093338, 0.060537971556186676, 0.030268985778093338, 0.5761339068412781, 0.38408926129341125, 0.5258404612541199, 0.7642117142677307, 0.277167946100235, 0.1847786158323288, 0.3695572316646576, 0.0461946539580822, 0.0923893079161644, 0.0461946539580822, 0.39689522981643677, 0.19844761490821838, 0.19844761490821838, 0.19844761490821838, 0.7347102761268616, 0.2151535004377365, 0.6454605460166931, 0.10757675021886826, 0.885127067565918, 0.2666432857513428, 0.2666432857513428, 0.2666432857513428, 0.4290369153022766, 0.2145184576511383, 0.2145184576511383, 0.6909909248352051, 0.34549546241760254, 0.7296091914176941, 0.7642111778259277, 0.196150541305542, 0.392301082611084, 0.196150541305542, 0.294225811958313, 0.3222676217556, 0.12890703976154327, 0.45117467641830444, 0.06445351988077164, 0.06445351988077164, 0.46217256784439087, 0.23108628392219543, 0.23108628392219543, 0.8269422650337219, 0.7642111778259277, 0.7296091914176941, 0.826942503452301, 0.8394543528556824, 0.1225212886929512, 0.1225212886929512, 0.1225212886929512, 0.2450425773859024, 0.1225212886929512, 0.1225212886929512, 0.1225212886929512, 0.7347103953361511, 0.30631762742996216, 0.30631762742996216, 0.30631762742996216, 0.9328415989875793, 0.28811541199684143, 0.28811541199684143, 0.28811541199684143, 0.14405770599842072, 0.7989407181739807, 0.8016395568847656, 0.3911632299423218, 0.1564652919769287, 0.13690713047981262, 0.07823264598846436, 0.11734896898269653, 0.05867448449134827, 0.03911632299423218, 0.43994584679603577, 0.26396751403808594, 0.17597833275794983, 0.08798916637897491, 0.08798916637897491, 0.9329096674919128, 0.16471949219703674, 0.4941585063934326, 0.16471949219703674, 0.16471949219703674, 0.368093341588974, 0.14723733067512512, 0.22085599601268768, 0.14723733067512512, 0.07361866533756256, 0.8072187900543213, 0.20180469751358032, 0.807218074798584, 0.201804518699646, 0.7347102165222168, 0.495047926902771, 0.2200213074684143, 0.05500532686710358, 0.16501598060131073, 0.11001065373420715, 0.05500532686710358, 0.3510707914829254, 0.200611874461174, 0.200611874461174, 0.100305937230587, 0.100305937230587, 0.0501529686152935, 0.7642111778259277, 0.4637968838214874, 0.21081675589084625, 0.16865341365337372, 0.08432670682668686, 0.04216335341334343, 0.2755468487739563, 0.13777342438697815, 0.2755468487739563, 0.13777342438697815, 0.06888671219348907, 0.06888671219348907, 0.08245760202407837, 0.3298304080963135, 0.2473728060722351, 0.2473728060722351, 0.08245760202407837, 0.7768422961235046, 0.2589474320411682, 0.5673452615737915, 0.18911507725715637, 0.18911507725715637, 0.8269425630569458, 0.7296091914176941, 0.24034427106380463, 0.24034427106380463, 0.43261969089508057, 0.048068854957818985, 0.19944824278354645, 0.7977929711341858, 0.7642111778259277, 0.2809716761112213, 0.2809716761112213, 0.14048583805561066, 0.14048583805561066, 0.14048583805561066, 0.764211118221283, 0.5258404016494751, 0.7642111778259277, 0.23242969810962677, 0.29053711891174316, 0.20337598025798798, 0.17432227730751038, 0.029053712263703346, 0.029053712263703346, 0.029053712263703346, 0.4278949797153473, 0.36676713824272156, 0.061127856373786926, 0.061127856373786926, 0.061127856373786926, 0.8394556641578674, 0.5258405804634094, 0.8845052719116211, 0.2469465136528015, 0.37041977047920227, 0.12347325682640076, 0.18520988523960114, 0.06173662841320038, 0.06173662841320038, 0.4403378963470459, 0.29355859756469727, 0.14677929878234863, 0.14677929878234863, 0.7347103953361511, 0.731063723564148, 0.24368789792060852, 0.8000648021697998, 0.13928790390491486, 0.6267955303192139, 0.2089318484067917, 0.7347103953361511, 0.26062270998954773, 0.32577839493751526, 0.1954670399427414, 0.06515567749738693, 0.06515567749738693, 0.13031135499477386, 0.7296091914176941, 0.7459595799446106, 0.7539904713630676, 0.7347106337547302, 0.7989405989646912, 0.2710602879524231, 0.23233738541603088, 0.34850606322288513, 0.11616869270801544, 0.038722895085811615, 0.038722895085811615, 0.7307798862457275, 0.1461559683084488, 0.1461559683084488, 0.49433156847953796, 0.19773262739181519, 0.19773262739181519, 0.09886631369590759, 0.7989407777786255, 0.7347105741500854, 0.8394553661346436, 0.9430219531059265, 0.764211118221283, 0.7347103953361511, 0.33259180188179016, 0.2956371605396271, 0.2217278629541397, 0.07390929013490677, 0.036954645067453384, 0.18574625253677368, 0.24766167998313904, 0.37149250507354736, 0.06191541999578476, 0.06191541999578476, 0.5258401036262512, 0.33041319251060486, 0.11013773828744888, 0.33041319251060486, 0.06608264148235321, 0.08811018615961075, 0.06608264148235321, 0.5548129677772522, 0.2774064838886261, 0.8618772625923157, 0.24756291508674622, 0.12378145754337311, 0.24756291508674622, 0.12378145754337311, 0.12378145754337311, 0.12378145754337311, 0.7989405989646912, 0.38718053698539734, 0.11615415662527084, 0.34846246242523193, 0.038718052208423615, 0.038718052208423615, 0.07743610441684723, 0.038718052208423615, 0.3818313479423523, 0.3818313479423523, 0.13954021036624908, 0.41862061619758606, 0.18605360388755798, 0.09302680194377899, 0.046513400971889496, 0.046513400971889496, 0.7642111778259277, 0.19020436704158783, 0.38040873408317566, 0.09510218352079391, 0.09510218352079391, 0.19020436704158783, 0.29753419756889343, 0.29753419756889343, 0.29753419756889343, 0.7989407181739807, 0.9328415989875793, 0.527540922164917, 0.2637704610824585, 0.28815600275993347, 0.28815600275993347, 0.28815600275993347, 0.8394565582275391, 0.3128158152103424, 0.22343987226486206, 0.3575038015842438, 0.08937595039606094, 0.28056374192237854, 0.5611274838447571, 0.07014093548059464, 0.07014093548059464, 0.24191464483737946, 0.6047866344451904, 0.12095732241868973, 0.7296092510223389, 0.9327930212020874, 0.30912771821022034, 0.30912771821022034, 0.23184579610824585, 0.15456385910511017, 0.9336583018302917, 0.7989407777786255, 0.2995491325855255, 0.17972947657108307, 0.2396392971277237, 0.05990982428193092, 0.05990982428193092, 0.05990982428193092, 0.11981964856386185, 0.7539891600608826, 0.32339712977409363, 0.16169856488704681, 0.3002973198890686, 0.09239917993545532, 0.11549897491931915, 0.31861913204193115, 0.47792869806289673, 0.15930956602096558, 0.6225219368934631, 0.12450439482927322, 0.12450439482927322, 0.12450439482927322, 0.9173660278320312, 0.5696725845336914, 0.18989086151123047, 0.18989086151123047, 0.7296091914176941, 0.3647127151489258, 0.14588509500026703, 0.07294254750013351, 0.21882763504981995, 0.07294254750013351, 0.07294254750013351, 0.811328113079071, 0.20283202826976776, 0.6783256530761719, 0.16958141326904297, 0.16958141326904297, 0.16958141326904297, 0.5423136353492737, 0.1704414337873459, 0.1859361082315445, 0.015494675375521183, 0.030989350751042366, 0.046484027057886124, 0.7296091914176941, 0.9335885643959045, 0.7347111701965332, 0.7989407777786255, 0.7989407777786255, 0.7347105741500854, 0.5593037605285645, 0.8394542932510376, 0.5403507947921753, 0.1801169216632843, 0.13508769869804382, 0.09005846083164215, 0.045029230415821075, 0.045029230415821075, 0.7296091914176941, 0.8394877314567566, 0.6200885772705078, 0.15502214431762695, 0.10334809869527817, 0.10334809869527817, 0.20237094163894653, 0.6071128249168396, 0.44961801171302795, 0.11240450292825699, 0.11240450292825699, 0.22480900585651398, 0.11240450292825699, 0.3428773880004883, 0.34947118163108826, 0.16484490036964417, 0.0527503676712513, 0.02637518383562565, 0.013187591917812824, 0.03956277295947075, 0.22242513298988342, 0.3892439603805542, 0.2780314087867737, 0.055606283247470856, 0.055606283247470856, 0.4556574821472168, 0.1952817738056183, 0.06509392708539963, 0.06509392708539963, 0.1952817738056183, 0.26665809750556946, 0.26665809750556946, 0.26665809750556946, 0.7989407777786255, 0.734710693359375, 0.8307767510414124, 0.1661553531885147, 0.8394550681114197, 0.8000652194023132, 0.7347106337547302, 0.6440911293029785, 0.21469704806804657, 0.10734852403402328, 0.7823872566223145, 0.0977984070777893, 0.0977984070777893, 0.8269451260566711, 0.7347102761268616, 0.22748731076717377, 0.22748731076717377, 0.45497462153434753, 0.8394546508789062, 0.4936177432537079, 0.839546263217926, 0.8269442319869995, 0.24342334270477295, 0.7302700281143188, 0.11649905890226364, 0.46599623560905457, 0.11649905890226364, 0.11649905890226364, 0.11649905890226364, 0.604297399520874, 0.16480839252471924, 0.1098722591996193, 0.1098722591996193, 0.05493612959980965, 0.7347111701965332, 0.9335878491401672, 0.7642117142677307, 0.49361810088157654, 0.8394714593887329, 0.7989415526390076, 0.27913084626197815, 0.22330467402935028, 0.3349570035934448, 0.05582616850733757, 0.05582616850733757, 0.46105241775512695, 0.23052620887756348, 0.23052620887756348, 0.7347103953361511, 0.559867262840271, 0.2799336314201355, 0.7989405989646912, 0.2611960470676422, 0.2611960470676422, 0.1305980235338211, 0.3917940557003021, 0.7296091914176941, 0.7347108125686646, 0.8042603731155396, 0.8269426822662354, 0.7296092510223389, 0.8269421458244324, 0.8845325708389282, 0.7989415526390076, 0.826942503452301, 0.8269421458244324, 0.5280558466911316, 0.2263096570968628, 0.0754365548491478, 0.0754365548491478, 0.1508731096982956, 0.7989407777786255, 0.9173661470413208, 0.2821384370326996, 0.5642768740653992, 0.7347106337547302, 0.884402334690094, 0.7989407181739807, 0.7347106337547302, 0.41884106397628784, 0.3350728452205658, 0.111690953373909, 0.08376821130514145, 0.02792273834347725, 0.8269421458244324, 0.49829980731010437, 0.6464290022850037, 0.258571594953537, 0.7347105741500854, 0.34498098492622375, 0.34498098492622375, 0.3888031542301178, 0.31104251742362976, 0.07776062935590744, 0.07776062935590744, 0.15552125871181488, 0.7989407181739807, 0.3242742419242859, 0.194564551115036, 0.194564551115036, 0.06485485285520554, 0.194564551115036, 0.8200678825378418, 0.20501697063446045, 0.6454971432685852, 0.12909942865371704, 0.12909942865371704, 0.12909942865371704, 0.8000648021697998, 0.5258404612541199, 0.7989407777786255, 0.28376203775405884, 0.13571228086948395, 0.32077446579933167, 0.08636235445737839, 0.08636235445737839, 0.02467495948076248, 0.061687398701906204, 0.7642111778259277, 0.4109160602092743, 0.4109160602092743, 0.734710693359375, 0.3111051321029663, 0.3111051321029663, 0.3111051321029663, 0.8845183253288269, 0.8843877911567688, 0.2951216697692871, 0.11804866790771484, 0.5312190055847168, 0.6550015807151794, 0.2183338701725006, 0.8863374590873718, 0.11079218238592148, 0.09680645912885666, 0.2904193699359894, 0.2904193699359894, 0.19361291825771332, 0.09680645912885666, 0.09680645912885666, 0.5846713185310364, 0.11693426966667175, 0.11693426966667175, 0.11693426966667175, 0.5258404612541199, 0.36323022842407227, 0.36323022842407227, 0.4101782441139221, 0.4101782441139221, 0.7989407181739807, 0.7296092510223389, 0.9173679351806641, 0.5365970134735107, 0.07665671408176422, 0.22997014224529266, 0.07665671408176422, 0.7642111778259277, 0.1218685731291771, 0.6093428730964661, 0.1218685731291771, 0.1218685731291771, 0.9658326506614685, 0.24025990068912506, 0.7207797169685364, 0.5188906192779541, 0.17836865782737732, 0.15404565632343292, 0.05675366148352623, 0.03243066370487213, 0.03243066370487213, 0.0243229977786541, 0.7989405989646912, 0.7347103953361511, 0.7989407777786255, 0.8843883275985718, 0.7296092510223389, 0.7296092510223389, 0.8000649213790894, 0.45211222767829895, 0.22605611383914948, 0.22605611383914948, 0.2537670135498047, 0.203013613820076, 0.3552738428115845, 0.050753403455019, 0.101506806910038, 0.050753403455019, 0.8912684321403503, 0.8319070935249329, 0.16638141870498657, 0.7642111778259277, 0.5529528856277466, 0.11059058457612991, 0.11059058457612991, 0.11059058457612991, 0.5304484963417053, 0.1768161654472351, 0.3536323308944702, 0.10465166717767715, 0.4186066687107086, 0.15697750449180603, 0.05232583358883858, 0.05232583358883858, 0.15697750449180603, 0.05232583358883858, 0.1137363612651825, 0.3412090837955475, 0.1137363612651825, 0.1137363612651825, 0.1137363612651825, 0.227472722530365, 0.8269442319869995, 0.4637564718723297, 0.11593911796808243, 0.11593911796808243, 0.11593911796808243, 0.23187823593616486, 0.16368000209331512, 0.32736000418663025, 0.16368000209331512, 0.32736000418663025, 0.3966095745563507, 0.0944308489561081, 0.3777233958244324, 0.056658510118722916, 0.03777233883738518, 0.03777233883738518, 0.01888616941869259, 0.7347106337547302, 0.4983025789260864, 0.49361786246299744, 0.5436940789222717, 0.14095771312713623, 0.22150498628616333, 0.060410451143980026, 0.010068408213555813, 0.010068408213555813, 0.030205225571990013, 0.7989415526390076, 0.41496291756629944, 0.11065677553415298, 0.30430614948272705, 0.027664193883538246, 0.13832096755504608, 0.7989405989646912, 0.6383641958236694, 0.21278807520866394, 0.7989415526390076, 0.7296091914176941, 0.6623366475105286, 0.2943718433380127, 0.07359296083450317, 0.7989415526390076, 0.5642193555831909, 0.18807311356067657, 0.18807311356067657, 0.826942503452301, 0.7347108721733093, 0.5593035221099854, 0.2450307160615921, 0.2450307160615921, 0.36754608154296875, 0.061257679015398026, 0.061257679015398026, 0.3903076946735382, 0.3903076946735382, 0.839455783367157, 0.8269444704055786, 0.9159319996833801, 0.8394753932952881, 0.7296091914176941, 0.5853988528251648, 0.2508852183818817, 0.16725681722164154, 0.7642113566398621, 0.8269426822662354, 0.23088106513023376, 0.23088106513023376, 0.23088106513023376, 0.23088106513023376, 0.8394554853439331, 0.8000648021697998, 0.172568678855896, 0.172568678855896, 0.517706036567688, 0.3737192451953888, 0.16016538441181183, 0.21355384588241577, 0.10677692294120789, 0.10677692294120789, 0.05338846147060394, 0.13374845683574677, 0.26749691367149353, 0.4012453854084015, 0.13374845683574677, 0.13374845683574677, 0.2462705671787262, 0.2462705671787262, 0.4925411343574524, 0.31990528106689453, 0.37322282791137695, 0.2665877342224121, 0.46487757563591003, 0.2789265513420105, 0.09297551214694977, 0.18595102429389954, 0.26665857434272766, 0.26665857434272766, 0.26665857434272766, 0.40899384021759033, 0.24539630115032196, 0.16359752416610718, 0.16359752416610718, 0.34278634190559387, 0.34278634190559387, 0.36060699820518494, 0.2704552412033081, 0.09015174955129623, 0.13522762060165405, 0.09015174955129623, 0.04507587477564812, 0.36565735936164856, 0.2089470624923706, 0.2089470624923706, 0.07835514843463898, 0.07835514843463898, 0.05223676562309265, 0.026118382811546326, 0.9327933192253113, 0.6450654864311218, 0.10751091688871384, 0.10751091688871384, 0.10751091688871384, 0.7642117142677307, 0.348375141620636, 0.174187570810318, 0.174187570810318, 0.087093785405159, 0.2612813711166382, 0.087093785405159, 0.297534704208374, 0.297534704208374, 0.297534704208374, 0.4289683997631073, 0.3119770288467407, 0.13648994266986847, 0.019498564302921295, 0.07799425721168518, 0.019498564302921295, 0.019498564302921295, 0.4936177432537079, 0.12398489564657211, 0.24796979129314423, 0.37195470929145813, 0.12398489564657211, 0.24796979129314423, 0.49361786246299744, 0.46092599630355835, 0.20951181650161743, 0.16760945320129395, 0.041902363300323486, 0.041902363300323486, 0.041902363300323486, 0.34974542260169983, 0.34974542260169983, 0.7768462300300598, 0.25894874334335327, 0.5444042086601257, 0.27220210433006287], \"Term\": [\"#teammagenta\", \"$/mo\", \"account\", \"account\", \"acknowledge\", \"acknowledged\", \"activated\", \"actually\", \"actually\", \"actually\", \"actually\", \"actually\", \"adam\", \"addressed\", \"adept\", \"advice\", \"advice\", \"advice\", \"againin\", \"along\", \"also\", \"also\", \"also\", \"also\", \"also\", \"always\", \"always\", \"always\", \"always\", \"always\", \"amazon\", \"amazon\", \"amount\", \"angry\", \"another\", \"another\", \"another\", \"another\", \"another\", \"answer\", \"answer\", \"answer\", \"antonio\", \"anyway\", \"anyway\", \"apologize\", \"apologized\", \"appointment\", \"around\", \"around\", \"around\", \"asked\", \"asked\", \"asked\", \"asked\", \"asked\", \"assist\", \"assist\", \"assisted\", \"assisted\", \"assisted\", \"associate\", \"associate\", \"associate\", \"associate\", \"associate\", \"assume\", \"attend\", \"august\", \"away\", \"away\", \"awesome\", \"awesome\", \"awesome\", \"awesome\", \"awesome\", \"b/c\", \"back\", \"back\", \"back\", \"back\", \"back\", \"back\", \"back\", \"bag\", \"based\", \"basis\", \"benefit\", \"besides\", \"best\", \"best\", \"best\", \"best\", \"better\", \"better\", \"better\", \"better\", \"beyond\", \"beyond\", \"beyond\", \"beyond\", \"bigger\", \"bill\", \"bill\", \"bill\", \"breast\", \"bright\", \"bring\", \"button\", \"buy\", \"buy\", \"buy\", \"buy\", \"buy\", \"buying\", \"call\", \"call\", \"call\", \"call\", \"called\", \"called\", \"called\", \"came\", \"came\", \"came\", \"came\", \"cancellation\", \"cancer\", \"car\", \"car\", \"card\", \"card\", \"card\", \"card\", \"card\", \"carrier\", \"carrier\", \"carrier\", \"case\", \"case\", \"case\", \"case\", \"center\", \"center\", \"charged\", \"charger\", \"charger\", \"church\", \"clerk\", \"clerk\", \"code\", \"college\", \"come\", \"come\", \"come\", \"come\", \"come\", \"come\", \"complaint\", \"complaint\", \"complaint\", \"complaint\", \"complaint\", \"complaint\", \"condiscending\", \"confused\", \"confused\", \"connection\", \"consistent\", \"contact\", \"contact\", \"contact\", \"contact\", \"contacted\", \"contract\", \"contract\", \"contract\", \"contract\", \"contract\", \"control\", \"cost\", \"could\", \"could\", \"could\", \"could\", \"could\", \"could\", \"courteous\", \"courteous\", \"courteous\", \"courteous\", \"crackberry\", \"create\", \"crossing\", \"curly\", \"current\", \"customer\", \"customer\", \"customer\", \"customer\", \"customer\", \"customer\", \"customer\", \"darn\", \"day\", \"day\", \"day\", \"day\", \"day\", \"definitely\", \"definitely\", \"degree\", \"depending\", \"deposit\", \"different\", \"different\", \"different\", \"discover\", \"dollar\", \"dollar\", \"dotting\", \"double\", \"dre\", \"drove\", \"drove\", \"earliest\", \"eat\", \"economical\", \"edward\", \"eff\", \"efficient\", \"employee\", \"employee\", \"employee\", \"employee\", \"employee\", \"employee\", \"engineer\", \"enlist\", \"enthusiastic\", \"even\", \"even\", \"even\", \"even\", \"even\", \"even\", \"excellent\", \"excellent\", \"exodo\", \"exodus\", \"experience\", \"experience\", \"experience\", \"experience\", \"experience\", \"experience\", \"experienced\", \"experienced\", \"experienced\", \"experienced\", \"expert\", \"explained\", \"explained\", \"explained\", \"family\", \"fast\", \"fast\", \"fast\", \"feel\", \"feel\", \"feel\", \"figure\", \"figure\", \"figured\", \"filed\", \"finally\", \"finally\", \"finally\", \"finally\", \"first\", \"first\", \"first\", \"first\", \"first\", \"fixed\", \"fixed\", \"fixed\", \"floor\", \"folk\", \"formerly\", \"forward\", \"friday\", \"friendly\", \"friendly\", \"friendly\", \"friendly\", \"friendly\", \"friendly\", \"friendly\", \"fucking\", \"full\", \"full\", \"full\", \"fun\", \"gave\", \"gave\", \"gave\", \"gave\", \"geez\", \"gentleman\", \"get\", \"get\", \"get\", \"get\", \"get\", \"get\", \"get\", \"getting\", \"getting\", \"getting\", \"getting\", \"getting\", \"ghetto\", \"girl\", \"girl\", \"girl\", \"girl\", \"give\", \"give\", \"give\", \"give\", \"give\", \"given\", \"given\", \"giving\", \"giving\", \"glenn\", \"going\", \"going\", \"going\", \"going\", \"going\", \"going\", \"good\", \"good\", \"good\", \"good\", \"good\", \"good\", \"goodbye\", \"got\", \"got\", \"got\", \"got\", \"got\", \"great\", \"great\", \"great\", \"great\", \"great\", \"great\", \"greeted\", \"greeted\", \"greeted\", \"greeted\", \"greeted\", \"greg\", \"greg\", \"guess\", \"guess\", \"guess\", \"gunpoint\", \"guru\", \"guy\", \"guy\", \"guy\", \"guy\", \"hand\", \"hand\", \"happensyes\", \"happy\", \"happy\", \"happy\", \"happy\", \"happy\", \"hazel\", \"hear\", \"heated\", \"help\", \"help\", \"help\", \"help\", \"help\", \"help\", \"help\", \"helped\", \"helped\", \"helped\", \"helped\", \"helped\", \"hiram\", \"hooked\", \"hot\", \"hour\", \"hour\", \"hour\", \"hour\", \"hour\", \"hour\", \"ill\", \"ill\", \"ill\", \"ill\", \"includes\", \"information\", \"information\", \"instore\", \"iphone\", \"iphone\", \"iphone\", \"irresponsible\", \"issue\", \"issue\", \"issue\", \"issue\", \"issue\", \"issue\", \"iti\", \"jamie\", \"jasmine\", \"jerome\", \"kinda\", \"know\", \"know\", \"know\", \"know\", \"know\", \"know\", \"knowledgeable\", \"knowledgeable\", \"knowledgeable\", \"last\", \"last\", \"last\", \"last\", \"late\", \"laying\", \"learn\", \"lee\", \"lens\", \"liar\", \"like\", \"like\", \"like\", \"like\", \"like\", \"line\", \"line\", \"line\", \"line\", \"line\", \"load\", \"location\", \"location\", \"location\", \"location\", \"location\", \"location\", \"longer\", \"longer\", \"looked\", \"looking\", \"looking\", \"looking\", \"looking\", \"looking\", \"looking\", \"magnificent\", \"make\", \"make\", \"make\", \"make\", \"make\", \"make\", \"make\", \"making\", \"making\", \"manager\", \"manager\", \"manager\", \"manager\", \"manager\", \"manager\", \"manner\", \"maybe\", \"maybe\", \"maybe\", \"maybe\", \"maybe\", \"mean\", \"mean\", \"mean\", \"mellow\", \"member\", \"mention\", \"mention\", \"might\", \"might\", \"might\", \"mile\", \"minute\", \"minute\", \"minute\", \"minute\", \"mobile\", \"mobile\", \"mobile\", \"mobile\", \"money\", \"money\", \"money\", \"motomo\", \"motox\", \"much\", \"much\", \"much\", \"much\", \"near\", \"nearly\", \"need\", \"need\", \"need\", \"need\", \"need\", \"need\", \"need\", \"negative\", \"new\", \"new\", \"new\", \"new\", \"new\", \"next\", \"next\", \"next\", \"nice\", \"nice\", \"nice\", \"nice\", \"nope\", \"note\", \"note\", \"note\", \"notthe\", \"number\", \"number\", \"number\", \"number\", \"number\", \"number\", \"offered\", \"offered\", \"okay\", \"okay\", \"okay\", \"okay\", \"one\", \"one\", \"one\", \"one\", \"one\", \"one\", \"opted\", \"order\", \"organized\", \"oriented\", \"outside\", \"owe\", \"paperwork\", \"part\", \"pay\", \"pay\", \"pay\", \"pay\", \"pay\", \"pay\", \"payment\", \"pearl\", \"people\", \"people\", \"people\", \"people\", \"perfectly\", \"perfectly\", \"person\", \"person\", \"person\", \"person\", \"person\", \"phone\", \"phone\", \"phone\", \"phone\", \"phone\", \"phone\", \"phone\", \"place\", \"place\", \"place\", \"place\", \"place\", \"plan\", \"plan\", \"plan\", \"plan\", \"plan\", \"port\", \"port\", \"port\", \"positive\", \"presence\", \"pretty\", \"pretty\", \"previous\", \"pricing\", \"prior\", \"problem\", \"problem\", \"problem\", \"process\", \"process\", \"process\", \"program\", \"promised\", \"protector\", \"protector\", \"protector\", \"prove\", \"provide\", \"providing\", \"pulled\", \"purchased\", \"purchased\", \"put\", \"put\", \"put\", \"put\", \"put\", \"question\", \"question\", \"question\", \"question\", \"question\", \"quiet\", \"quinton\", \"rate\", \"rating\", \"read\", \"reading\", \"really\", \"really\", \"really\", \"really\", \"really\", \"reason\", \"reason\", \"reason\", \"reasonsi\", \"rebate\", \"rebate\", \"rebatescalled\", \"received\", \"received\", \"received\", \"received\", \"recent\", \"rediculous\", \"refund\", \"reliable\", \"remembered\", \"replacement\", \"representative\", \"restaurant\", \"restocking\", \"retried\", \"right\", \"right\", \"right\", \"right\", \"right\", \"ring\", \"robbed\", \"rondell\", \"rondell\", \"rudei\", \"run\", \"rung\", \"running\", \"said\", \"said\", \"said\", \"said\", \"said\", \"sandwich\", \"saturday\", \"say\", \"say\", \"scam\", \"scheduled\", \"scheduled\", \"screen\", \"screen\", \"screen\", \"screen\", \"screen\", \"sears\", \"see\", \"see\", \"see\", \"see\", \"see\", \"seem\", \"seem\", \"sell\", \"sell\", \"sell\", \"sell\", \"send\", \"sentence\", \"serial\", \"service\", \"service\", \"service\", \"service\", \"service\", \"service\", \"service\", \"servicegtfoh\", \"shame\", \"shame\", \"shed\", \"shes\", \"shes\", \"shes\", \"ship\", \"shipped\", \"sim\", \"sim\", \"sim\", \"simply\", \"simply\", \"since\", \"since\", \"someone\", \"someone\", \"someone\", \"someone\", \"someone\", \"someone\", \"something\", \"something\", \"something\", \"something\", \"sometimes\", \"speak\", \"speak\", \"speaking\", \"speaking\", \"spending\", \"split\", \"spring\", \"staff\", \"staff\", \"staff\", \"staff\", \"stage\", \"start\", \"start\", \"start\", \"start\", \"stock\", \"stood\", \"stood\", \"store\", \"store\", \"store\", \"store\", \"store\", \"store\", \"store\", \"stressed\", \"strongly\", \"subpar\", \"suggested\", \"sun\", \"superhelpful\", \"supervisor\", \"supposed\", \"supposed\", \"supposed\", \"sure\", \"sure\", \"sure\", \"sure\", \"sure\", \"sure\", \"tablet\", \"talked\", \"talked\", \"terminal\", \"thats\", \"thats\", \"thats\", \"thats\", \"theyre\", \"theyre\", \"theyre\", \"thing\", \"thing\", \"thing\", \"thing\", \"thing\", \"thing\", \"thing\", \"think\", \"think\", \"think\", \"think\", \"think\", \"think\", \"thinking\", \"though\", \"though\", \"though\", \"though\", \"though\", \"three\", \"three\", \"three\", \"three\", \"time\", \"time\", \"time\", \"time\", \"time\", \"time\", \"time\", \"tire\", \"titanium\", \"tmo\", \"tmobile\", \"tmobile\", \"tmobile\", \"tmobile\", \"tmobile\", \"tmobile\", \"tmobile\", \"toand\", \"told\", \"told\", \"told\", \"told\", \"told\", \"toned\", \"top\", \"top\", \"topic\", \"toyretail\", \"tried\", \"tried\", \"tried\", \"trusted\", \"trying\", \"trying\", \"trying\", \"turn\", \"turning\", \"twice\", \"two\", \"two\", \"two\", \"two\", \"two\", \"type\", \"type\", \"understands\", \"understood\", \"unlocked\", \"unsatisfied\", \"update\", \"upgrade\", \"upgrade\", \"upgrade\", \"upper\", \"ups\", \"using\", \"using\", \"using\", \"using\", \"value\", \"velma\", \"verizon\", \"verizon\", \"verizon\", \"wait\", \"wait\", \"wait\", \"wait\", \"wait\", \"wait\", \"waiting\", \"waiting\", \"waiting\", \"waiting\", \"waiting\", \"walk\", \"walk\", \"walk\", \"want\", \"want\", \"want\", \"wanted\", \"wanted\", \"wanted\", \"wanted\", \"waste\", \"waste\", \"waste\", \"week\", \"week\", \"week\", \"week\", \"weekend\", \"weekend\", \"well\", \"well\", \"well\", \"well\", \"well\", \"well\", \"went\", \"went\", \"went\", \"went\", \"went\", \"went\", \"went\", \"wifi\", \"without\", \"without\", \"without\", \"without\", \"wonder\", \"work\", \"work\", \"work\", \"work\", \"work\", \"work\", \"worth\", \"worth\", \"worth\", \"would\", \"would\", \"would\", \"would\", \"would\", \"would\", \"would\", \"wound\", \"wrong\", \"wrong\", \"wrong\", \"wrong\", \"wrong\", \"yay\", \"year\", \"year\", \"year\", \"year\", \"year\", \"year\", \"yelp\", \"yelp\", \"youll\", \"youll\", \"zero\", \"zero\"]}, \"R\": 30, \"lambda.step\": 0.01, \"plot.opts\": {\"xlab\": \"PC1\", \"ylab\": \"PC2\"}, \"topic.order\": [3, 5, 1, 2, 6, 4, 7]};\n",
       "\n",
       "function LDAvis_load_lib(url, callback){\n",
       "  var s = document.createElement('script');\n",
       "  s.src = url;\n",
       "  s.async = true;\n",
       "  s.onreadystatechange = s.onload = callback;\n",
       "  s.onerror = function(){console.warn(\"failed to load library \" + url);};\n",
       "  document.getElementsByTagName(\"head\")[0].appendChild(s);\n",
       "}\n",
       "\n",
       "if(typeof(LDAvis) !== \"undefined\"){\n",
       "   // already loaded: just create the visualization\n",
       "   !function(LDAvis){\n",
       "       new LDAvis(\"#\" + \"ldavis_el1720147673162729883871214\", ldavis_el1720147673162729883871214_data);\n",
       "   }(LDAvis);\n",
       "}else if(typeof define === \"function\" && define.amd){\n",
       "   // require.js is available: use it to load d3/LDAvis\n",
       "   require.config({paths: {d3: \"https://cdnjs.cloudflare.com/ajax/libs/d3/3.5.5/d3.min\"}});\n",
       "   require([\"d3\"], function(d3){\n",
       "      window.d3 = d3;\n",
       "      LDAvis_load_lib(\"https://cdn.rawgit.com/bmabey/pyLDAvis/files/ldavis.v1.0.0.js\", function(){\n",
       "        new LDAvis(\"#\" + \"ldavis_el1720147673162729883871214\", ldavis_el1720147673162729883871214_data);\n",
       "      });\n",
       "    });\n",
       "}else{\n",
       "    // require.js not available: dynamically load d3 & LDAvis\n",
       "    LDAvis_load_lib(\"https://cdnjs.cloudflare.com/ajax/libs/d3/3.5.5/d3.min.js\", function(){\n",
       "         LDAvis_load_lib(\"https://cdn.rawgit.com/bmabey/pyLDAvis/files/ldavis.v1.0.0.js\", function(){\n",
       "                 new LDAvis(\"#\" + \"ldavis_el1720147673162729883871214\", ldavis_el1720147673162729883871214_data);\n",
       "            })\n",
       "         });\n",
       "}\n",
       "</script>"
      ],
      "text/plain": [
       "PreparedData(topic_coordinates=              x         y  topics  cluster       Freq\n",
       "topic                                                \n",
       "2     -0.078730 -0.045951       1        1  33.989201\n",
       "4     -0.062140 -0.041048       2        1  22.101709\n",
       "0     -0.071762  0.021588       3        1  20.079561\n",
       "1      0.011084 -0.009803       4        1   7.141606\n",
       "5      0.001853  0.122714       5        1   6.950468\n",
       "3      0.110075 -0.023513       6        1   5.446517\n",
       "6      0.089621 -0.023987       7        1   4.290942, topic_info=     Category        Freq           Term       Total  loglift  logprob\n",
       "19    Default   81.000000        service   81.000000  30.0000  30.0000\n",
       "14    Default  151.000000          phone  151.000000  29.0000  29.0000\n",
       "38    Default   51.000000            get   51.000000  28.0000  28.0000\n",
       "12    Default   64.000000            one   64.000000  27.0000  27.0000\n",
       "44    Default   43.000000            new   43.000000  26.0000  26.0000\n",
       "680   Default   13.000000           case   13.000000  25.0000  25.0000\n",
       "71    Default   45.000000       location   45.000000  24.0000  24.0000\n",
       "2     Default   95.000000       customer   95.000000  23.0000  23.0000\n",
       "66    Default   34.000000           help   34.000000  22.0000  22.0000\n",
       "24    Default   99.000000        tmobile   99.000000  21.0000  21.0000\n",
       "239   Default   28.000000           call   28.000000  20.0000  20.0000\n",
       "586   Default   15.000000           plan   15.000000  19.0000  19.0000\n",
       "78    Default  123.000000          store  123.000000  18.0000  18.0000\n",
       "84    Default   36.000000           told   36.000000  17.0000  17.0000\n",
       "223   Default   13.000000          staff   13.000000  16.0000  16.0000\n",
       "340   Default   15.000000            see   15.000000  15.0000  15.0000\n",
       "488   Default   12.000000            buy   12.000000  14.0000  14.0000\n",
       "810   Default    5.000000            lee    5.000000  13.0000  13.0000\n",
       "159   Default   19.000000          thing   19.000000  12.0000  12.0000\n",
       "18    Default   13.000000          right   13.000000  11.0000  11.0000\n",
       "481   Default   10.000000         wanted   10.000000  10.0000  10.0000\n",
       "69    Default   16.000000           hour   16.000000   9.0000   9.0000\n",
       "83    Default   52.000000           time   52.000000   8.0000   8.0000\n",
       "584   Default   13.000000         number   13.000000   7.0000   7.0000\n",
       "8     Default   15.000000          issue   15.000000   6.0000   6.0000\n",
       "99    Default   16.000000           need   16.000000   5.0000   5.0000\n",
       "208   Default   18.000000           wait   18.000000   4.0000   4.0000\n",
       "228   Default   16.000000         always   16.000000   3.0000   3.0000\n",
       "314   Default   10.000000        charger   10.000000   2.0000   2.0000\n",
       "97    Default   10.000000          maybe   10.000000   1.0000   1.0000\n",
       "...       ...         ...            ...         ...      ...      ...\n",
       "488    Topic7    2.085175            buy   12.333122   1.3712  -5.0151\n",
       "19     Topic7    4.903599        service   81.053833   0.3435  -4.1600\n",
       "1552   Topic7    1.149012       supposed    4.423680   1.8006  -5.6111\n",
       "14     Topic7    6.469888          phone  151.657715  -0.0058  -3.8828\n",
       "99     Topic7    1.963889           need   16.691753   1.0087  -5.0750\n",
       "12     Topic7    3.294405            one   64.538300   0.1736  -4.5577\n",
       "18     Topic7    1.685536          right   13.256173   1.0863  -5.2279\n",
       "448    Topic7    1.149243      complaint    5.425005   1.5967  -5.6109\n",
       "328    Topic7    1.318587        looking    8.078754   1.3360  -5.4734\n",
       "8      Topic7    1.685446          issue   15.347857   0.9397  -5.2279\n",
       "41     Topic7    1.149171            ill    6.812950   1.3689  -5.6109\n",
       "9      Topic7    1.149235  knowledgeable    6.842006   1.3647  -5.6109\n",
       "78     Topic7    3.294357          store  123.340057  -0.4741  -4.5578\n",
       "38     Topic7    2.398296            get   51.129551   0.0891  -4.8752\n",
       "994    Topic7    1.149172           gave    6.941662   1.3502  -5.6109\n",
       "462    Topic7    1.149096          happy    7.118155   1.3250  -5.6110\n",
       "349    Topic7    1.149192        waiting    7.476722   1.2759  -5.6109\n",
       "588    Topic7    1.149157           sell    7.745967   1.2405  -5.6109\n",
       "24     Topic7    2.674731        tmobile   99.320564  -0.4658  -4.7661\n",
       "5      Topic7    1.149446       friendly    8.161847   1.1885  -5.6107\n",
       "549    Topic7    0.986707           note    5.266183   1.4740  -5.7634\n",
       "603    Topic7    1.149079      something    8.551813   1.1415  -5.6110\n",
       "2      Topic7    2.387671       customer   95.486298  -0.5400  -4.8797\n",
       "6      Topic7    1.149249          great   14.516588   0.6125  -5.6109\n",
       "0      Topic7    1.149241           also   17.267250   0.4390  -5.6109\n",
       "223    Topic7    1.149232          staff   13.045172   0.7193  -5.6109\n",
       "158    Topic7    1.149201           sure   19.703112   0.3070  -5.6109\n",
       "59     Topic7    1.149201         better   10.058494   0.9793  -5.6109\n",
       "7      Topic7    1.149174         helped   16.359154   0.4929  -5.6109\n",
       "696    Topic7    1.149167        getting   11.365035   0.8572  -5.6109\n",
       "\n",
       "[538 rows x 6 columns], token_table=      Topic      Freq          Term\n",
       "term                               \n",
       "29        5  0.734711  #teammagenta\n",
       "744       1  0.800065          $/mo\n",
       "354       1  0.544448       account\n",
       "354       2  0.408336       account\n",
       "1725      3  0.932804   acknowledge\n",
       "936       5  0.734711  acknowledged\n",
       "769       2  0.917367     activated\n",
       "56        1  0.275192      actually\n",
       "56        2  0.275192      actually\n",
       "56        4  0.137596      actually\n",
       "56        6  0.275192      actually\n",
       "56        7  0.137596      actually\n",
       "674       4  0.729609          adam\n",
       "1329      2  0.917366     addressed\n",
       "675       4  0.729609         adept\n",
       "568       2  0.292499        advice\n",
       "568       5  0.292499        advice\n",
       "568       7  0.292499        advice\n",
       "676       4  0.729609       againin\n",
       "1331      2  0.826943         along\n",
       "0         1  0.521218          also\n",
       "0         2  0.231652          also\n",
       "0         3  0.115826          also\n",
       "0         4  0.057913          also\n",
       "0         7  0.057913          also\n",
       "228       1  0.420588        always\n",
       "228       2  0.060084        always\n",
       "228       3  0.300420        always\n",
       "228       5  0.120168        always\n",
       "228       6  0.120168        always\n",
       "...     ...       ...           ...\n",
       "28        7  0.087094          work\n",
       "843       1  0.297535         worth\n",
       "843       6  0.297535         worth\n",
       "843       7  0.297535         worth\n",
       "90        1  0.428968         would\n",
       "90        2  0.311977         would\n",
       "90        3  0.136490         would\n",
       "90        4  0.019499         would\n",
       "90        5  0.077994         would\n",
       "90        6  0.019499         would\n",
       "90        7  0.019499         would\n",
       "534       4  0.493618         wound\n",
       "959       1  0.123985         wrong\n",
       "959       2  0.247970         wrong\n",
       "959       3  0.371955         wrong\n",
       "959       5  0.123985         wrong\n",
       "959       7  0.247970         wrong\n",
       "725       4  0.493618           yay\n",
       "296       1  0.460926          year\n",
       "296       2  0.209512          year\n",
       "296       3  0.167609          year\n",
       "296       4  0.041902          year\n",
       "296       5  0.041902          year\n",
       "296       6  0.041902          year\n",
       "726       3  0.349745          yelp\n",
       "726       4  0.349745          yelp\n",
       "935       3  0.776846         youll\n",
       "935       5  0.258949         youll\n",
       "653       3  0.544404          zero\n",
       "653       5  0.272202          zero\n",
       "\n",
       "[988 rows x 3 columns], R=30, lambda_step=0.01, plot_opts={'xlab': 'PC1', 'ylab': 'PC2'}, topic_order=[3, 5, 1, 2, 6, 4, 7])"
      ]
     },
     "execution_count": 118,
     "metadata": {},
     "output_type": "execute_result"
    }
   ],
   "source": [
    "# Visualize the topics\n",
    "pyLDAvis.enable_notebook()\n",
    "vis = pyLDAvis.gensim.prepare(lda_model, doc_term_matrix, dictionary)\n",
    "vis"
   ]
  },
  {
   "cell_type": "code",
   "execution_count": 0,
   "metadata": {
    "colab": {},
    "colab_type": "code",
    "id": "2Krd9ndB1S-0"
   },
   "outputs": [],
   "source": [
    "# Print the Keyword in the 10 topics\n",
    "lda_model.print_topics()"
   ]
  },
  {
   "cell_type": "code",
   "execution_count": 0,
   "metadata": {
    "colab": {},
    "colab_type": "code",
    "id": "QQk4i7FQC6V_"
   },
   "outputs": [],
   "source": []
  }
 ],
 "metadata": {
  "colab": {
   "collapsed_sections": [],
   "name": "Mining Online Reviews using Topic Modeling (LDA)",
   "provenance": [],
   "version": "0.3.2"
  },
  "kernelspec": {
   "display_name": "Python 3",
   "language": "python",
   "name": "python3"
  },
  "language_info": {
   "codemirror_mode": {
    "name": "ipython",
    "version": 3
   },
   "file_extension": ".py",
   "mimetype": "text/x-python",
   "name": "python",
   "nbconvert_exporter": "python",
   "pygments_lexer": "ipython3",
   "version": "3.7.0"
  }
 },
 "nbformat": 4,
 "nbformat_minor": 1
}
